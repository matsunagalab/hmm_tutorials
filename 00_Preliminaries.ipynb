{
 "cells": [
  {
   "cell_type": "markdown",
   "metadata": {},
   "source": [
    "# 00 Preliminaries"
   ]
  },
  {
   "cell_type": "markdown",
   "metadata": {},
   "source": [
    "## Introduction to Julia"
   ]
  },
  {
   "cell_type": "markdown",
   "metadata": {},
   "source": [
    "### types"
   ]
  },
  {
   "cell_type": "code",
   "execution_count": 2,
   "metadata": {},
   "outputs": [
    {
     "data": {
      "text/plain": [
       "4.0"
      ]
     },
     "execution_count": 2,
     "metadata": {},
     "output_type": "execute_result"
    }
   ],
   "source": [
    "1.0 + 3.0"
   ]
  },
  {
   "cell_type": "code",
   "execution_count": 3,
   "metadata": {},
   "outputs": [
    {
     "data": {
      "text/plain": [
       "Int64"
      ]
     },
     "execution_count": 3,
     "metadata": {},
     "output_type": "execute_result"
    }
   ],
   "source": [
    "typeof(1)"
   ]
  },
  {
   "cell_type": "code",
   "execution_count": 4,
   "metadata": {},
   "outputs": [
    {
     "data": {
      "text/plain": [
       "Float64"
      ]
     },
     "execution_count": 4,
     "metadata": {},
     "output_type": "execute_result"
    }
   ],
   "source": [
    "typeof(1.0)"
   ]
  },
  {
   "cell_type": "code",
   "execution_count": 5,
   "metadata": {},
   "outputs": [
    {
     "data": {
      "text/plain": [
       "String"
      ]
     },
     "execution_count": 5,
     "metadata": {},
     "output_type": "execute_result"
    }
   ],
   "source": [
    "typeof(\"hello world\")"
   ]
  },
  {
   "cell_type": "code",
   "execution_count": 6,
   "metadata": {},
   "outputs": [
    {
     "data": {
      "text/plain": [
       "Array{Int64,2}"
      ]
     },
     "execution_count": 6,
     "metadata": {},
     "output_type": "execute_result"
    }
   ],
   "source": [
    "typeof([1 2 3])"
   ]
  },
  {
   "cell_type": "code",
   "execution_count": 7,
   "metadata": {},
   "outputs": [
    {
     "data": {
      "text/plain": [
       "Float64"
      ]
     },
     "execution_count": 7,
     "metadata": {},
     "output_type": "execute_result"
    }
   ],
   "source": [
    "typeof(1 + 1.0)#type promotion, conversino"
   ]
  },
  {
   "cell_type": "code",
   "execution_count": 8,
   "metadata": {},
   "outputs": [
    {
     "data": {
      "text/plain": [
       "5//6"
      ]
     },
     "execution_count": 8,
     "metadata": {},
     "output_type": "execute_result"
    }
   ],
   "source": [
    "1//2 + 1//3"
   ]
  },
  {
   "cell_type": "markdown",
   "metadata": {},
   "source": [
    "## variables"
   ]
  },
  {
   "cell_type": "code",
   "execution_count": 9,
   "metadata": {},
   "outputs": [
    {
     "data": {
      "text/plain": [
       "2.0"
      ]
     },
     "execution_count": 9,
     "metadata": {},
     "output_type": "execute_result"
    }
   ],
   "source": [
    "a = 1.0\n",
    "b = 2.0"
   ]
  },
  {
   "cell_type": "code",
   "execution_count": 10,
   "metadata": {},
   "outputs": [
    {
     "data": {
      "text/plain": [
       "Float64"
      ]
     },
     "execution_count": 10,
     "metadata": {},
     "output_type": "execute_result"
    }
   ],
   "source": [
    "typeof(a)"
   ]
  },
  {
   "cell_type": "code",
   "execution_count": 11,
   "metadata": {},
   "outputs": [
    {
     "data": {
      "text/plain": [
       "Float64"
      ]
     },
     "execution_count": 11,
     "metadata": {},
     "output_type": "execute_result"
    }
   ],
   "source": [
    "typeof(b)"
   ]
  },
  {
   "cell_type": "code",
   "execution_count": 12,
   "metadata": {},
   "outputs": [
    {
     "ename": "LoadError",
     "evalue": "UndefVarError: i not defined",
     "output_type": "error",
     "traceback": [
      "UndefVarError: i not defined",
      "",
      "Stacktrace:",
      " [1] top-level scope",
      " [2] include_string(::Function, ::Module, ::String, ::String) at ./loading.jl:1091"
     ]
    }
   ],
   "source": [
    "i"
   ]
  },
  {
   "cell_type": "markdown",
   "metadata": {},
   "source": [
    "### vector"
   ]
  },
  {
   "cell_type": "code",
   "execution_count": 14,
   "metadata": {},
   "outputs": [
    {
     "data": {
      "text/plain": [
       "4-element Array{Int64,1}:\n",
       " 1\n",
       " 2\n",
       " 3\n",
       " 4"
      ]
     },
     "execution_count": 14,
     "metadata": {},
     "output_type": "execute_result"
    }
   ],
   "source": [
    "a = [1, 2, 3, 4]"
   ]
  },
  {
   "cell_type": "code",
   "execution_count": 15,
   "metadata": {},
   "outputs": [
    {
     "data": {
      "text/plain": [
       "(4,)"
      ]
     },
     "execution_count": 15,
     "metadata": {},
     "output_type": "execute_result"
    }
   ],
   "source": [
    "size(a)"
   ]
  },
  {
   "cell_type": "code",
   "execution_count": 16,
   "metadata": {},
   "outputs": [
    {
     "data": {
      "text/plain": [
       "1"
      ]
     },
     "execution_count": 16,
     "metadata": {},
     "output_type": "execute_result"
    }
   ],
   "source": [
    "a[1]"
   ]
  },
  {
   "cell_type": "code",
   "execution_count": 17,
   "metadata": {},
   "outputs": [
    {
     "data": {
      "text/plain": [
       "1×4 Array{Int64,2}:\n",
       " 1  2  3  4"
      ]
     },
     "execution_count": 17,
     "metadata": {},
     "output_type": "execute_result"
    }
   ],
   "source": [
    "b = [1 2 3 4]"
   ]
  },
  {
   "cell_type": "code",
   "execution_count": 18,
   "metadata": {},
   "outputs": [
    {
     "data": {
      "text/plain": [
       "4-element Array{Int64,1}:\n",
       " 5\n",
       " 6\n",
       " 7\n",
       " 8"
      ]
     },
     "execution_count": 18,
     "metadata": {},
     "output_type": "execute_result"
    }
   ],
   "source": [
    "c = [5, 6, 7, 8]"
   ]
  },
  {
   "cell_type": "code",
   "execution_count": 19,
   "metadata": {},
   "outputs": [
    {
     "ename": "LoadError",
     "evalue": "DimensionMismatch(\"dimensions must match: a has dims (Base.OneTo(1), Base.OneTo(4)), b has dims (Base.OneTo(4),), mismatch at 1\")",
     "output_type": "error",
     "traceback": [
      "DimensionMismatch(\"dimensions must match: a has dims (Base.OneTo(1), Base.OneTo(4)), b has dims (Base.OneTo(4),), mismatch at 1\")",
      "",
      "Stacktrace:",
      " [1] promote_shape at ./indices.jl:178 [inlined]",
      " [2] promote_shape at ./indices.jl:174 [inlined]",
      " [3] promote_shape at ./indices.jl:169 [inlined]",
      " [4] +(::Array{Int64,1}, ::Array{Int64,2}) at ./arraymath.jl:45",
      " [5] top-level scope at In[19]:1",
      " [6] include_string(::Function, ::Module, ::String, ::String) at ./loading.jl:1091"
     ]
    }
   ],
   "source": [
    "a + b"
   ]
  },
  {
   "cell_type": "code",
   "execution_count": 20,
   "metadata": {},
   "outputs": [
    {
     "data": {
      "text/plain": [
       "4-element Array{Int64,1}:\n",
       "  6\n",
       "  8\n",
       " 10\n",
       " 12"
      ]
     },
     "execution_count": 20,
     "metadata": {},
     "output_type": "execute_result"
    }
   ],
   "source": [
    "a + c"
   ]
  },
  {
   "cell_type": "code",
   "execution_count": 21,
   "metadata": {},
   "outputs": [
    {
     "data": {
      "text/plain": [
       "4×4 Array{Int64,2}:\n",
       " 1  2   3   4\n",
       " 2  4   6   8\n",
       " 3  6   9  12\n",
       " 4  8  12  16"
      ]
     },
     "execution_count": 21,
     "metadata": {},
     "output_type": "execute_result"
    }
   ],
   "source": [
    "a*b"
   ]
  },
  {
   "cell_type": "code",
   "execution_count": 22,
   "metadata": {},
   "outputs": [
    {
     "data": {
      "text/plain": [
       "4-element Array{Int64,1}:\n",
       "  5\n",
       " 12\n",
       " 21\n",
       " 32"
      ]
     },
     "execution_count": 22,
     "metadata": {},
     "output_type": "execute_result"
    }
   ],
   "source": [
    "a .* c"
   ]
  },
  {
   "cell_type": "markdown",
   "metadata": {},
   "source": [
    "### matrix"
   ]
  },
  {
   "cell_type": "code",
   "execution_count": 24,
   "metadata": {},
   "outputs": [
    {
     "data": {
      "text/plain": [
       "2×2 Array{Int64,2}:\n",
       " 1  2\n",
       " 3  4"
      ]
     },
     "execution_count": 24,
     "metadata": {},
     "output_type": "execute_result"
    }
   ],
   "source": [
    "A = [1 2; 3 4]"
   ]
  },
  {
   "cell_type": "code",
   "execution_count": 25,
   "metadata": {},
   "outputs": [
    {
     "data": {
      "text/plain": [
       "(2, 2)"
      ]
     },
     "execution_count": 25,
     "metadata": {},
     "output_type": "execute_result"
    }
   ],
   "source": [
    "size(A)"
   ]
  },
  {
   "cell_type": "code",
   "execution_count": 26,
   "metadata": {},
   "outputs": [
    {
     "data": {
      "text/plain": [
       "1"
      ]
     },
     "execution_count": 26,
     "metadata": {},
     "output_type": "execute_result"
    }
   ],
   "source": [
    "A[1, 1]"
   ]
  },
  {
   "cell_type": "code",
   "execution_count": 27,
   "metadata": {},
   "outputs": [
    {
     "data": {
      "text/plain": [
       "2-element Array{Int64,1}:\n",
       " 2\n",
       " 4"
      ]
     },
     "execution_count": 27,
     "metadata": {},
     "output_type": "execute_result"
    }
   ],
   "source": [
    "A[1:2, 2]"
   ]
  },
  {
   "cell_type": "code",
   "execution_count": 28,
   "metadata": {},
   "outputs": [
    {
     "data": {
      "text/plain": [
       "2×2 Array{Int64,2}:\n",
       " 5  6\n",
       " 7  8"
      ]
     },
     "execution_count": 28,
     "metadata": {},
     "output_type": "execute_result"
    }
   ],
   "source": [
    "B = [5 6; 7 8]"
   ]
  },
  {
   "cell_type": "code",
   "execution_count": 29,
   "metadata": {},
   "outputs": [
    {
     "ename": "LoadError",
     "evalue": "UndefVarError: d not defined",
     "output_type": "error",
     "traceback": [
      "UndefVarError: d not defined",
      "",
      "Stacktrace:",
      " [1] top-level scope",
      " [2] include_string(::Function, ::Module, ::String, ::String) at ./loading.jl:1091"
     ]
    }
   ],
   "source": [
    "d"
   ]
  },
  {
   "cell_type": "code",
   "execution_count": 30,
   "metadata": {},
   "outputs": [
    {
     "data": {
      "text/plain": [
       "2×2 Array{Int64,2}:\n",
       "  6   8\n",
       " 10  12"
      ]
     },
     "execution_count": 30,
     "metadata": {},
     "output_type": "execute_result"
    }
   ],
   "source": [
    "A + B"
   ]
  },
  {
   "cell_type": "code",
   "execution_count": 31,
   "metadata": {},
   "outputs": [
    {
     "data": {
      "text/plain": [
       "2×2 Array{Int64,2}:\n",
       " 19  22\n",
       " 43  50"
      ]
     },
     "execution_count": 31,
     "metadata": {},
     "output_type": "execute_result"
    }
   ],
   "source": [
    "A * B"
   ]
  },
  {
   "cell_type": "code",
   "execution_count": 32,
   "metadata": {},
   "outputs": [
    {
     "data": {
      "text/plain": [
       "2×2 Array{Int64,2}:\n",
       "  5  12\n",
       " 21  32"
      ]
     },
     "execution_count": 32,
     "metadata": {},
     "output_type": "execute_result"
    }
   ],
   "source": [
    "A .* B"
   ]
  },
  {
   "cell_type": "markdown",
   "metadata": {},
   "source": [
    "### initialization of vectors and matrices"
   ]
  },
  {
   "cell_type": "code",
   "execution_count": 34,
   "metadata": {},
   "outputs": [
    {
     "data": {
      "text/plain": [
       "10-element Array{Float64,1}:\n",
       " 0.0\n",
       " 0.0\n",
       " 0.0\n",
       " 0.0\n",
       " 0.0\n",
       " 0.0\n",
       " 0.0\n",
       " 0.0\n",
       " 0.0\n",
       " 0.0"
      ]
     },
     "execution_count": 34,
     "metadata": {},
     "output_type": "execute_result"
    }
   ],
   "source": [
    "a = zeros(10)"
   ]
  },
  {
   "cell_type": "code",
   "execution_count": 35,
   "metadata": {},
   "outputs": [
    {
     "data": {
      "text/plain": [
       "10-element Array{Int64,1}:\n",
       " 0\n",
       " 0\n",
       " 0\n",
       " 0\n",
       " 0\n",
       " 0\n",
       " 0\n",
       " 0\n",
       " 0\n",
       " 0"
      ]
     },
     "execution_count": 35,
     "metadata": {},
     "output_type": "execute_result"
    }
   ],
   "source": [
    "a = zeros(Int64, 10)"
   ]
  },
  {
   "cell_type": "code",
   "execution_count": 36,
   "metadata": {},
   "outputs": [
    {
     "data": {
      "text/plain": [
       "3×3 Array{Float64,2}:\n",
       " 0.0  0.0  0.0\n",
       " 0.0  0.0  0.0\n",
       " 0.0  0.0  0.0"
      ]
     },
     "execution_count": 36,
     "metadata": {},
     "output_type": "execute_result"
    }
   ],
   "source": [
    "A = zeros(3, 3)"
   ]
  },
  {
   "cell_type": "code",
   "execution_count": 37,
   "metadata": {},
   "outputs": [
    {
     "data": {
      "text/plain": [
       "3×3 Array{Int64,2}:\n",
       " 0  0  0\n",
       " 0  0  0\n",
       " 0  0  0"
      ]
     },
     "execution_count": 37,
     "metadata": {},
     "output_type": "execute_result"
    }
   ],
   "source": [
    "A = zeros(Int64, 3, 3)"
   ]
  },
  {
   "cell_type": "code",
   "execution_count": 38,
   "metadata": {},
   "outputs": [
    {
     "data": {
      "text/plain": [
       "10-element Array{Float64,1}:\n",
       " 0.9115896425108001\n",
       " 0.6745779836619874\n",
       " 0.8992637298570914\n",
       " 0.9899494356329714\n",
       " 0.42974872880803905\n",
       " 0.11752257780541009\n",
       " 0.5687111779525014\n",
       " 0.24128348866088523\n",
       " 0.4560215028154515\n",
       " 0.2261825208334236"
      ]
     },
     "execution_count": 38,
     "metadata": {},
     "output_type": "execute_result"
    }
   ],
   "source": [
    "a = rand(10)"
   ]
  },
  {
   "cell_type": "code",
   "execution_count": 39,
   "metadata": {},
   "outputs": [
    {
     "data": {
      "text/plain": [
       "1:10"
      ]
     },
     "execution_count": 39,
     "metadata": {},
     "output_type": "execute_result"
    }
   ],
   "source": [
    "a = 1:10"
   ]
  },
  {
   "cell_type": "code",
   "execution_count": 40,
   "metadata": {},
   "outputs": [
    {
     "data": {
      "text/plain": [
       "UnitRange{Int64}"
      ]
     },
     "execution_count": 40,
     "metadata": {},
     "output_type": "execute_result"
    }
   ],
   "source": [
    "typeof(a)"
   ]
  },
  {
   "cell_type": "code",
   "execution_count": 41,
   "metadata": {},
   "outputs": [
    {
     "data": {
      "text/plain": [
       "10-element Array{Int64,1}:\n",
       "  1\n",
       "  2\n",
       "  3\n",
       "  4\n",
       "  5\n",
       "  6\n",
       "  7\n",
       "  8\n",
       "  9\n",
       " 10"
      ]
     },
     "execution_count": 41,
     "metadata": {},
     "output_type": "execute_result"
    }
   ],
   "source": [
    "collect(a)"
   ]
  },
  {
   "cell_type": "code",
   "execution_count": 42,
   "metadata": {},
   "outputs": [
    {
     "data": {
      "text/plain": [
       "1.0:1.3207963267948966:6.283185307179586"
      ]
     },
     "execution_count": 42,
     "metadata": {},
     "output_type": "execute_result"
    }
   ],
   "source": [
    "t = range(1, stop=2*pi, length=5) #pi is a predefined constant"
   ]
  },
  {
   "cell_type": "code",
   "execution_count": 43,
   "metadata": {},
   "outputs": [
    {
     "data": {
      "text/plain": [
       "5-element Array{Float64,1}:\n",
       " 1.0\n",
       " 2.3207963267948966\n",
       " 3.641592653589793\n",
       " 4.96238898038469\n",
       " 6.283185307179586"
      ]
     },
     "execution_count": 43,
     "metadata": {},
     "output_type": "execute_result"
    }
   ],
   "source": [
    "collect(t)"
   ]
  },
  {
   "cell_type": "code",
   "execution_count": 44,
   "metadata": {},
   "outputs": [
    {
     "data": {
      "text/plain": [
       "3-element Array{Int64,1}:\n",
       " 2\n",
       " 3\n",
       " 4"
      ]
     },
     "execution_count": 44,
     "metadata": {},
     "output_type": "execute_result"
    }
   ],
   "source": [
    "[x + 1 for x in 1:3] #list comprehension"
   ]
  },
  {
   "cell_type": "code",
   "execution_count": 45,
   "metadata": {},
   "outputs": [
    {
     "data": {
      "text/plain": [
       "5-element Array{Int64,1}:\n",
       "  2\n",
       "  4\n",
       "  6\n",
       "  8\n",
       " 10"
      ]
     },
     "execution_count": 45,
     "metadata": {},
     "output_type": "execute_result"
    }
   ],
   "source": [
    "[x for x in 1:10 if x % 2 == 0]"
   ]
  },
  {
   "cell_type": "code",
   "execution_count": 46,
   "metadata": {},
   "outputs": [
    {
     "data": {
      "text/plain": [
       "5×2 reshape(::UnitRange{Int64}, 5, 2) with eltype Int64:\n",
       " 1   6\n",
       " 2   7\n",
       " 3   8\n",
       " 4   9\n",
       " 5  10"
      ]
     },
     "execution_count": 46,
     "metadata": {},
     "output_type": "execute_result"
    }
   ],
   "source": [
    "A = reshape(1:10, 5, 2)"
   ]
  },
  {
   "cell_type": "code",
   "execution_count": 47,
   "metadata": {},
   "outputs": [
    {
     "data": {
      "text/plain": [
       "5×2 Array{Int64,2}:\n",
       " 1   6\n",
       " 2   7\n",
       " 3   8\n",
       " 4   9\n",
       " 5  10"
      ]
     },
     "execution_count": 47,
     "metadata": {},
     "output_type": "execute_result"
    }
   ],
   "source": [
    "collect(A)"
   ]
  },
  {
   "cell_type": "markdown",
   "metadata": {},
   "source": [
    "### loop"
   ]
  },
  {
   "cell_type": "code",
   "execution_count": 49,
   "metadata": {},
   "outputs": [
    {
     "data": {
      "text/plain": [
       "1:10"
      ]
     },
     "execution_count": 49,
     "metadata": {},
     "output_type": "execute_result"
    }
   ],
   "source": [
    "a = 1:10"
   ]
  },
  {
   "cell_type": "code",
   "execution_count": 50,
   "metadata": {},
   "outputs": [
    {
     "name": "stdout",
     "output_type": "stream",
     "text": [
      "1\n",
      "2\n",
      "3\n",
      "4\n",
      "5\n",
      "6\n",
      "7\n",
      "8\n",
      "9\n",
      "10\n"
     ]
    }
   ],
   "source": [
    "for i in a\n",
    "    println(i)\n",
    "end"
   ]
  },
  {
   "cell_type": "code",
   "execution_count": 51,
   "metadata": {},
   "outputs": [
    {
     "data": {
      "text/plain": [
       "10.0"
      ]
     },
     "execution_count": 51,
     "metadata": {},
     "output_type": "execute_result"
    }
   ],
   "source": [
    "d = 0.0\n",
    "for i in 1:10\n",
    "    d += 1.0\n",
    "end\n",
    "d"
   ]
  },
  {
   "cell_type": "markdown",
   "metadata": {},
   "source": [
    "### condition"
   ]
  },
  {
   "cell_type": "code",
   "execution_count": 53,
   "metadata": {},
   "outputs": [
    {
     "data": {
      "text/plain": [
       "true"
      ]
     },
     "execution_count": 53,
     "metadata": {},
     "output_type": "execute_result"
    }
   ],
   "source": [
    "1.0 > 0.0"
   ]
  },
  {
   "cell_type": "code",
   "execution_count": 54,
   "metadata": {},
   "outputs": [
    {
     "data": {
      "text/plain": [
       "Bool"
      ]
     },
     "execution_count": 54,
     "metadata": {},
     "output_type": "execute_result"
    }
   ],
   "source": [
    "typeof(true)"
   ]
  },
  {
   "cell_type": "code",
   "execution_count": 55,
   "metadata": {},
   "outputs": [
    {
     "data": {
      "text/plain": [
       "false"
      ]
     },
     "execution_count": 55,
     "metadata": {},
     "output_type": "execute_result"
    }
   ],
   "source": [
    "1.0 < 0.0"
   ]
  },
  {
   "cell_type": "code",
   "execution_count": 56,
   "metadata": {},
   "outputs": [
    {
     "name": "stdout",
     "output_type": "stream",
     "text": [
      "hello world\n"
     ]
    }
   ],
   "source": [
    "if true\n",
    "    println(\"hello world\")\n",
    "end"
   ]
  },
  {
   "cell_type": "code",
   "execution_count": 57,
   "metadata": {},
   "outputs": [
    {
     "name": "stdout",
     "output_type": "stream",
     "text": [
      "hello world\n"
     ]
    }
   ],
   "source": [
    "if 1.0 > 0.0\n",
    "    println(\"hello world\")\n",
    "end"
   ]
  },
  {
   "cell_type": "markdown",
   "metadata": {},
   "source": [
    "### arithmetics"
   ]
  },
  {
   "cell_type": "code",
   "execution_count": 59,
   "metadata": {},
   "outputs": [
    {
     "data": {
      "text/plain": [
       "5×2 Array{Int64,2}:\n",
       " 1   6\n",
       " 2   7\n",
       " 3   8\n",
       " 4   9\n",
       " 5  10"
      ]
     },
     "execution_count": 59,
     "metadata": {},
     "output_type": "execute_result"
    }
   ],
   "source": [
    "A = reshape(collect(1:10), 5, 2)"
   ]
  },
  {
   "cell_type": "code",
   "execution_count": 61,
   "metadata": {},
   "outputs": [
    {
     "data": {
      "text/plain": [
       "55"
      ]
     },
     "execution_count": 61,
     "metadata": {},
     "output_type": "execute_result"
    }
   ],
   "source": [
    "sum(A)"
   ]
  },
  {
   "cell_type": "code",
   "execution_count": 62,
   "metadata": {},
   "outputs": [
    {
     "data": {
      "text/plain": [
       "1×2 Array{Int64,2}:\n",
       " 15  40"
      ]
     },
     "execution_count": 62,
     "metadata": {},
     "output_type": "execute_result"
    }
   ],
   "source": [
    "sum(A, dims=1)"
   ]
  },
  {
   "cell_type": "code",
   "execution_count": 63,
   "metadata": {},
   "outputs": [
    {
     "data": {
      "text/plain": [
       "5×1 Array{Int64,2}:\n",
       "  7\n",
       "  9\n",
       " 11\n",
       " 13\n",
       " 15"
      ]
     },
     "execution_count": 63,
     "metadata": {},
     "output_type": "execute_result"
    }
   ],
   "source": [
    "sum(A, dims=2)"
   ]
  },
  {
   "cell_type": "code",
   "execution_count": 64,
   "metadata": {},
   "outputs": [
    {
     "ename": "LoadError",
     "evalue": "DimensionMismatch(\"matrix is not square: dimensions are (5, 2)\")",
     "output_type": "error",
     "traceback": [
      "DimensionMismatch(\"matrix is not square: dimensions are (5, 2)\")",
      "",
      "Stacktrace:",
      " [1] checksquare at /Users/julia/buildbot/worker/package_macos64/build/usr/share/julia/stdlib/v1.5/LinearAlgebra/src/LinearAlgebra.jl:223 [inlined]",
      " [2] exp!(::Array{Complex{Float64},2}) at /Users/julia/buildbot/worker/package_macos64/build/usr/share/julia/stdlib/v1.5/LinearAlgebra/src/dense.jl:555",
      " [3] sin(::Array{Int64,2}) at /Users/julia/buildbot/worker/package_macos64/build/usr/share/julia/stdlib/v1.5/LinearAlgebra/src/dense.jl:841",
      " [4] top-level scope at In[64]:1",
      " [5] include_string(::Function, ::Module, ::String, ::String) at ./loading.jl:1091"
     ]
    }
   ],
   "source": [
    "sin(A)"
   ]
  },
  {
   "cell_type": "code",
   "execution_count": 65,
   "metadata": {},
   "outputs": [
    {
     "data": {
      "text/plain": [
       "5×2 Array{Float64,2}:\n",
       "  0.841471  -0.279415\n",
       "  0.909297   0.656987\n",
       "  0.14112    0.989358\n",
       " -0.756802   0.412118\n",
       " -0.958924  -0.544021"
      ]
     },
     "execution_count": 65,
     "metadata": {},
     "output_type": "execute_result"
    }
   ],
   "source": [
    "sin.(A)"
   ]
  },
  {
   "cell_type": "code",
   "execution_count": 66,
   "metadata": {},
   "outputs": [
    {
     "data": {
      "text/plain": [
       "32"
      ]
     },
     "execution_count": 66,
     "metadata": {},
     "output_type": "execute_result"
    }
   ],
   "source": [
    "a = [1, 2, 3]\n",
    "b = [4, 5, 6]\n",
    "sum(a.* b)"
   ]
  },
  {
   "cell_type": "code",
   "execution_count": 67,
   "metadata": {},
   "outputs": [
    {
     "data": {
      "text/plain": [
       "3-element Array{Int64,1}:\n",
       " 1\n",
       " 4\n",
       " 9"
      ]
     },
     "execution_count": 67,
     "metadata": {},
     "output_type": "execute_result"
    }
   ],
   "source": [
    "a.^2"
   ]
  },
  {
   "cell_type": "code",
   "execution_count": 68,
   "metadata": {},
   "outputs": [
    {
     "data": {
      "text/plain": [
       "3.7416573867739413"
      ]
     },
     "execution_count": 68,
     "metadata": {},
     "output_type": "execute_result"
    }
   ],
   "source": [
    "sqrt(sum(a.^2))"
   ]
  },
  {
   "cell_type": "code",
   "execution_count": 70,
   "metadata": {},
   "outputs": [
    {
     "data": {
      "text/plain": [
       "Eigen{Float64,Float64,Array{Float64,2},Array{Float64,1}}\n",
       "values:\n",
       "2-element Array{Float64,1}:\n",
       " -0.3722813232690143\n",
       "  5.372281323269014\n",
       "vectors:\n",
       "2×2 Array{Float64,2}:\n",
       " -0.824565  -0.415974\n",
       "  0.565767  -0.909377"
      ]
     },
     "execution_count": 70,
     "metadata": {},
     "output_type": "execute_result"
    }
   ],
   "source": [
    "using LinearAlgebra\n",
    "A = [1 2; 3 4]\n",
    "val, vec = eigen(A)"
   ]
  },
  {
   "cell_type": "markdown",
   "metadata": {},
   "source": [
    "### function"
   ]
  },
  {
   "cell_type": "code",
   "execution_count": 72,
   "metadata": {},
   "outputs": [
    {
     "data": {
      "text/plain": [
       "mysum (generic function with 1 method)"
      ]
     },
     "execution_count": 72,
     "metadata": {},
     "output_type": "execute_result"
    }
   ],
   "source": [
    "function mysum(x)\n",
    "    x + 1\n",
    "end"
   ]
  },
  {
   "cell_type": "code",
   "execution_count": 73,
   "metadata": {},
   "outputs": [
    {
     "data": {
      "text/plain": [
       "mysum (generic function with 2 methods)"
      ]
     },
     "execution_count": 73,
     "metadata": {},
     "output_type": "execute_result"
    }
   ],
   "source": [
    "function mysum(y::Array{Int64, 1})\n",
    "    y .+ 1\n",
    "end"
   ]
  },
  {
   "cell_type": "code",
   "execution_count": 74,
   "metadata": {},
   "outputs": [
    {
     "data": {
      "text/plain": [
       "2.0"
      ]
     },
     "execution_count": 74,
     "metadata": {},
     "output_type": "execute_result"
    }
   ],
   "source": [
    "mysum(1.0)"
   ]
  },
  {
   "cell_type": "code",
   "execution_count": 75,
   "metadata": {},
   "outputs": [
    {
     "data": {
      "text/plain": [
       "2"
      ]
     },
     "execution_count": 75,
     "metadata": {},
     "output_type": "execute_result"
    }
   ],
   "source": [
    "mysum(1)"
   ]
  },
  {
   "cell_type": "code",
   "execution_count": 76,
   "metadata": {},
   "outputs": [
    {
     "data": {
      "text/plain": [
       "3-element Array{Int64,1}:\n",
       " 2\n",
       " 3\n",
       " 4"
      ]
     },
     "execution_count": 76,
     "metadata": {},
     "output_type": "execute_result"
    }
   ],
   "source": [
    "mysum([1, 2, 3])"
   ]
  },
  {
   "cell_type": "code",
   "execution_count": 77,
   "metadata": {},
   "outputs": [
    {
     "data": {
      "text/plain": [
       "3-element Array{Int64,1}:\n",
       " 2\n",
       " 3\n",
       " 4"
      ]
     },
     "execution_count": 77,
     "metadata": {},
     "output_type": "execute_result"
    }
   ],
   "source": [
    "mysum.([1, 2, 3])"
   ]
  },
  {
   "cell_type": "code",
   "execution_count": 78,
   "metadata": {},
   "outputs": [
    {
     "data": {
      "text/plain": [
       "mysum2 (generic function with 1 method)"
      ]
     },
     "execution_count": 78,
     "metadata": {},
     "output_type": "execute_result"
    }
   ],
   "source": [
    "mysum2(x) = x + 1"
   ]
  },
  {
   "cell_type": "code",
   "execution_count": 79,
   "metadata": {},
   "outputs": [
    {
     "data": {
      "text/plain": [
       "2.0"
      ]
     },
     "execution_count": 79,
     "metadata": {},
     "output_type": "execute_result"
    }
   ],
   "source": [
    "mysum2(1.0)"
   ]
  },
  {
   "cell_type": "code",
   "execution_count": 80,
   "metadata": {},
   "outputs": [
    {
     "data": {
      "text/plain": [
       "3-element Array{Int64,1}:\n",
       " 2\n",
       " 3\n",
       " 4"
      ]
     },
     "execution_count": 80,
     "metadata": {},
     "output_type": "execute_result"
    }
   ],
   "source": [
    "map(x -> x + 1, [1, 2, 3])"
   ]
  },
  {
   "cell_type": "code",
   "execution_count": 81,
   "metadata": {},
   "outputs": [
    {
     "data": {
      "text/plain": [
       "3-element Array{Int64,1}:\n",
       " 2\n",
       " 3\n",
       " 4"
      ]
     },
     "execution_count": 81,
     "metadata": {},
     "output_type": "execute_result"
    }
   ],
   "source": [
    "[x + 1 for x in [1, 2, 3]]"
   ]
  },
  {
   "cell_type": "markdown",
   "metadata": {},
   "source": [
    "### plots"
   ]
  },
  {
   "cell_type": "code",
   "execution_count": 83,
   "metadata": {},
   "outputs": [
    {
     "data": {
      "text/plain": [
       "Plots.GRBackend()"
      ]
     },
     "execution_count": 83,
     "metadata": {},
     "output_type": "execute_result"
    }
   ],
   "source": [
    "using Plots\n",
    "gr()"
   ]
  },
  {
   "cell_type": "code",
   "execution_count": 84,
   "metadata": {},
   "outputs": [],
   "source": [
    "x = range(1, stop=4*pi, length=50);\n",
    "y = sin.(x);"
   ]
  },
  {
   "cell_type": "code",
   "execution_count": 85,
   "metadata": {},
   "outputs": [
    {
     "data": {
      "image/svg+xml": [
       "<?xml version=\"1.0\" encoding=\"utf-8\"?>\n",
       "<svg xmlns=\"http://www.w3.org/2000/svg\" xmlns:xlink=\"http://www.w3.org/1999/xlink\" width=\"600\" height=\"400\" viewBox=\"0 0 2400 1600\">\n",
       "<defs>\n",
       "  <clipPath id=\"clip320\">\n",
       "    <rect x=\"0\" y=\"0\" width=\"2400\" height=\"1600\"/>\n",
       "  </clipPath>\n",
       "</defs>\n",
       "<path clip-path=\"url(#clip320)\" d=\"\n",
       "M0 1600 L2400 1600 L2400 0 L0 0  Z\n",
       "  \" fill=\"#ffffff\" fill-rule=\"evenodd\" fill-opacity=\"1\"/>\n",
       "<defs>\n",
       "  <clipPath id=\"clip321\">\n",
       "    <rect x=\"480\" y=\"0\" width=\"1681\" height=\"1600\"/>\n",
       "  </clipPath>\n",
       "</defs>\n",
       "<path clip-path=\"url(#clip320)\" d=\"\n",
       "M179.654 1486.45 L2352.76 1486.45 L2352.76 47.2441 L179.654 47.2441  Z\n",
       "  \" fill=\"#ffffff\" fill-rule=\"evenodd\" fill-opacity=\"1\"/>\n",
       "<defs>\n",
       "  <clipPath id=\"clip322\">\n",
       "    <rect x=\"179\" y=\"47\" width=\"2174\" height=\"1440\"/>\n",
       "  </clipPath>\n",
       "</defs>\n",
       "<polyline clip-path=\"url(#clip322)\" style=\"stroke:#000000; stroke-width:2; stroke-opacity:0.1; fill:none\" points=\"\n",
       "  507.026,1486.45 507.026,47.2441 \n",
       "  \"/>\n",
       "<polyline clip-path=\"url(#clip322)\" style=\"stroke:#000000; stroke-width:2; stroke-opacity:0.1; fill:none\" points=\"\n",
       "  950.142,1486.45 950.142,47.2441 \n",
       "  \"/>\n",
       "<polyline clip-path=\"url(#clip322)\" style=\"stroke:#000000; stroke-width:2; stroke-opacity:0.1; fill:none\" points=\"\n",
       "  1393.26,1486.45 1393.26,47.2441 \n",
       "  \"/>\n",
       "<polyline clip-path=\"url(#clip322)\" style=\"stroke:#000000; stroke-width:2; stroke-opacity:0.1; fill:none\" points=\"\n",
       "  1836.37,1486.45 1836.37,47.2441 \n",
       "  \"/>\n",
       "<polyline clip-path=\"url(#clip322)\" style=\"stroke:#000000; stroke-width:2; stroke-opacity:0.1; fill:none\" points=\"\n",
       "  2279.49,1486.45 2279.49,47.2441 \n",
       "  \"/>\n",
       "<polyline clip-path=\"url(#clip320)\" style=\"stroke:#000000; stroke-width:4; stroke-opacity:1; fill:none\" points=\"\n",
       "  179.654,1486.45 2352.76,1486.45 \n",
       "  \"/>\n",
       "<polyline clip-path=\"url(#clip320)\" style=\"stroke:#000000; stroke-width:4; stroke-opacity:1; fill:none\" points=\"\n",
       "  507.026,1486.45 507.026,1469.18 \n",
       "  \"/>\n",
       "<polyline clip-path=\"url(#clip320)\" style=\"stroke:#000000; stroke-width:4; stroke-opacity:1; fill:none\" points=\"\n",
       "  950.142,1486.45 950.142,1469.18 \n",
       "  \"/>\n",
       "<polyline clip-path=\"url(#clip320)\" style=\"stroke:#000000; stroke-width:4; stroke-opacity:1; fill:none\" points=\"\n",
       "  1393.26,1486.45 1393.26,1469.18 \n",
       "  \"/>\n",
       "<polyline clip-path=\"url(#clip320)\" style=\"stroke:#000000; stroke-width:4; stroke-opacity:1; fill:none\" points=\"\n",
       "  1836.37,1486.45 1836.37,1469.18 \n",
       "  \"/>\n",
       "<polyline clip-path=\"url(#clip320)\" style=\"stroke:#000000; stroke-width:4; stroke-opacity:1; fill:none\" points=\"\n",
       "  2279.49,1486.45 2279.49,1469.18 \n",
       "  \"/>\n",
       "<path clip-path=\"url(#clip320)\" d=\"M 0 0 M483.693 1543.18 L500.012 1543.18 L500.012 1547.12 L478.068 1547.12 L478.068 1543.18 Q480.73 1540.43 485.313 1535.8 Q489.92 1531.15 491.1 1529.81 Q493.346 1527.28 494.225 1525.55 Q495.128 1523.79 495.128 1522.1 Q495.128 1519.34 493.183 1517.61 Q491.262 1515.87 488.16 1515.87 Q485.961 1515.87 483.508 1516.63 Q481.077 1517.4 478.299 1518.95 L478.299 1514.23 Q481.123 1513.09 483.577 1512.51 Q486.031 1511.93 488.068 1511.93 Q493.438 1511.93 496.633 1514.62 Q499.827 1517.31 499.827 1521.8 Q499.827 1523.93 499.017 1525.85 Q498.23 1527.74 496.123 1530.34 Q495.545 1531.01 492.443 1534.23 Q489.341 1537.42 483.693 1543.18 Z\" fill=\"#000000\" fill-rule=\"evenodd\" fill-opacity=\"1\" /><path clip-path=\"url(#clip320)\" d=\"M 0 0 M505.082 1541.24 L509.966 1541.24 L509.966 1547.12 L505.082 1547.12 L505.082 1541.24 Z\" fill=\"#000000\" fill-rule=\"evenodd\" fill-opacity=\"1\" /><path clip-path=\"url(#clip320)\" d=\"M 0 0 M515.082 1512.56 L533.438 1512.56 L533.438 1516.5 L519.364 1516.5 L519.364 1524.97 Q520.382 1524.62 521.401 1524.46 Q522.419 1524.27 523.438 1524.27 Q529.225 1524.27 532.605 1527.44 Q535.984 1530.62 535.984 1536.03 Q535.984 1541.61 532.512 1544.71 Q529.04 1547.79 522.72 1547.79 Q520.544 1547.79 518.276 1547.42 Q516.031 1547.05 513.623 1546.31 L513.623 1541.61 Q515.707 1542.74 517.929 1543.3 Q520.151 1543.86 522.628 1543.86 Q526.632 1543.86 528.97 1541.75 Q531.308 1539.64 531.308 1536.03 Q531.308 1532.42 528.97 1530.31 Q526.632 1528.21 522.628 1528.21 Q520.753 1528.21 518.878 1528.62 Q517.026 1529.04 515.082 1529.92 L515.082 1512.56 Z\" fill=\"#000000\" fill-rule=\"evenodd\" fill-opacity=\"1\" /><path clip-path=\"url(#clip320)\" d=\"M 0 0 M921.936 1512.56 L940.292 1512.56 L940.292 1516.5 L926.218 1516.5 L926.218 1524.97 Q927.237 1524.62 928.255 1524.46 Q929.274 1524.27 930.292 1524.27 Q936.079 1524.27 939.459 1527.44 Q942.839 1530.62 942.839 1536.03 Q942.839 1541.61 939.366 1544.71 Q935.894 1547.79 929.575 1547.79 Q927.399 1547.79 925.13 1547.42 Q922.885 1547.05 920.478 1546.31 L920.478 1541.61 Q922.561 1542.74 924.783 1543.3 Q927.005 1543.86 929.482 1543.86 Q933.487 1543.86 935.825 1541.75 Q938.163 1539.64 938.163 1536.03 Q938.163 1532.42 935.825 1530.31 Q933.487 1528.21 929.482 1528.21 Q927.607 1528.21 925.732 1528.62 Q923.88 1529.04 921.936 1529.92 L921.936 1512.56 Z\" fill=\"#000000\" fill-rule=\"evenodd\" fill-opacity=\"1\" /><path clip-path=\"url(#clip320)\" d=\"M 0 0 M947.908 1541.24 L952.792 1541.24 L952.792 1547.12 L947.908 1547.12 L947.908 1541.24 Z\" fill=\"#000000\" fill-rule=\"evenodd\" fill-opacity=\"1\" /><path clip-path=\"url(#clip320)\" d=\"M 0 0 M967.862 1515.64 Q964.251 1515.64 962.422 1519.2 Q960.616 1522.75 960.616 1529.87 Q960.616 1536.98 962.422 1540.55 Q964.251 1544.09 967.862 1544.09 Q971.496 1544.09 973.301 1540.55 Q975.13 1536.98 975.13 1529.87 Q975.13 1522.75 973.301 1519.2 Q971.496 1515.64 967.862 1515.64 M967.862 1511.93 Q973.672 1511.93 976.727 1516.54 Q979.806 1521.12 979.806 1529.87 Q979.806 1538.6 976.727 1543.21 Q973.672 1547.79 967.862 1547.79 Q962.051 1547.79 958.973 1543.21 Q955.917 1538.6 955.917 1529.87 Q955.917 1521.12 958.973 1516.54 Q962.051 1511.93 967.862 1511.93 Z\" fill=\"#000000\" fill-rule=\"evenodd\" fill-opacity=\"1\" /><path clip-path=\"url(#clip320)\" d=\"M 0 0 M1364.16 1512.56 L1386.38 1512.56 L1386.38 1514.55 L1373.84 1547.12 L1368.95 1547.12 L1380.76 1516.5 L1364.16 1516.5 L1364.16 1512.56 Z\" fill=\"#000000\" fill-rule=\"evenodd\" fill-opacity=\"1\" /><path clip-path=\"url(#clip320)\" d=\"M 0 0 M1391.45 1541.24 L1396.34 1541.24 L1396.34 1547.12 L1391.45 1547.12 L1391.45 1541.24 Z\" fill=\"#000000\" fill-rule=\"evenodd\" fill-opacity=\"1\" /><path clip-path=\"url(#clip320)\" d=\"M 0 0 M1401.45 1512.56 L1419.81 1512.56 L1419.81 1516.5 L1405.73 1516.5 L1405.73 1524.97 Q1406.75 1524.62 1407.77 1524.46 Q1408.79 1524.27 1409.81 1524.27 Q1415.6 1524.27 1418.97 1527.44 Q1422.35 1530.62 1422.35 1536.03 Q1422.35 1541.61 1418.88 1544.71 Q1415.41 1547.79 1409.09 1547.79 Q1406.91 1547.79 1404.65 1547.42 Q1402.4 1547.05 1399.99 1546.31 L1399.99 1541.61 Q1402.08 1542.74 1404.3 1543.3 Q1406.52 1543.86 1409 1543.86 Q1413 1543.86 1415.34 1541.75 Q1417.68 1539.64 1417.68 1536.03 Q1417.68 1532.42 1415.34 1530.31 Q1413 1528.21 1409 1528.21 Q1407.12 1528.21 1405.25 1528.62 Q1403.4 1529.04 1401.45 1529.92 L1401.45 1512.56 Z\" fill=\"#000000\" fill-rule=\"evenodd\" fill-opacity=\"1\" /><path clip-path=\"url(#clip320)\" d=\"M 0 0 M1794.76 1543.18 L1802.4 1543.18 L1802.4 1516.82 L1794.09 1518.49 L1794.09 1514.23 L1802.36 1512.56 L1807.03 1512.56 L1807.03 1543.18 L1814.67 1543.18 L1814.67 1547.12 L1794.76 1547.12 L1794.76 1543.18 Z\" fill=\"#000000\" fill-rule=\"evenodd\" fill-opacity=\"1\" /><path clip-path=\"url(#clip320)\" d=\"M 0 0 M1829.74 1515.64 Q1826.13 1515.64 1824.3 1519.2 Q1822.5 1522.75 1822.5 1529.87 Q1822.5 1536.98 1824.3 1540.55 Q1826.13 1544.09 1829.74 1544.09 Q1833.38 1544.09 1835.18 1540.55 Q1837.01 1536.98 1837.01 1529.87 Q1837.01 1522.75 1835.18 1519.2 Q1833.38 1515.64 1829.74 1515.64 M1829.74 1511.93 Q1835.55 1511.93 1838.61 1516.54 Q1841.69 1521.12 1841.69 1529.87 Q1841.69 1538.6 1838.61 1543.21 Q1835.55 1547.79 1829.74 1547.79 Q1823.93 1547.79 1820.85 1543.21 Q1817.8 1538.6 1817.8 1529.87 Q1817.8 1521.12 1820.85 1516.54 Q1823.93 1511.93 1829.74 1511.93 Z\" fill=\"#000000\" fill-rule=\"evenodd\" fill-opacity=\"1\" /><path clip-path=\"url(#clip320)\" d=\"M 0 0 M1846.76 1541.24 L1851.64 1541.24 L1851.64 1547.12 L1846.76 1547.12 L1846.76 1541.24 Z\" fill=\"#000000\" fill-rule=\"evenodd\" fill-opacity=\"1\" /><path clip-path=\"url(#clip320)\" d=\"M 0 0 M1866.71 1515.64 Q1863.1 1515.64 1861.27 1519.2 Q1859.46 1522.75 1859.46 1529.87 Q1859.46 1536.98 1861.27 1540.55 Q1863.1 1544.09 1866.71 1544.09 Q1870.34 1544.09 1872.15 1540.55 Q1873.98 1536.98 1873.98 1529.87 Q1873.98 1522.75 1872.15 1519.2 Q1870.34 1515.64 1866.71 1515.64 M1866.71 1511.93 Q1872.52 1511.93 1875.57 1516.54 Q1878.65 1521.12 1878.65 1529.87 Q1878.65 1538.6 1875.57 1543.21 Q1872.52 1547.79 1866.71 1547.79 Q1860.9 1547.79 1857.82 1543.21 Q1854.76 1538.6 1854.76 1529.87 Q1854.76 1521.12 1857.82 1516.54 Q1860.9 1511.93 1866.71 1511.93 Z\" fill=\"#000000\" fill-rule=\"evenodd\" fill-opacity=\"1\" /><path clip-path=\"url(#clip320)\" d=\"M 0 0 M2239.18 1543.18 L2246.82 1543.18 L2246.82 1516.82 L2238.51 1518.49 L2238.51 1514.23 L2246.77 1512.56 L2251.45 1512.56 L2251.45 1543.18 L2259.08 1543.18 L2259.08 1547.12 L2239.18 1547.12 L2239.18 1543.18 Z\" fill=\"#000000\" fill-rule=\"evenodd\" fill-opacity=\"1\" /><path clip-path=\"url(#clip320)\" d=\"M 0 0 M2268.18 1543.18 L2284.5 1543.18 L2284.5 1547.12 L2262.56 1547.12 L2262.56 1543.18 Q2265.22 1540.43 2269.8 1535.8 Q2274.41 1531.15 2275.59 1529.81 Q2277.83 1527.28 2278.71 1525.55 Q2279.62 1523.79 2279.62 1522.1 Q2279.62 1519.34 2277.67 1517.61 Q2275.75 1515.87 2272.65 1515.87 Q2270.45 1515.87 2268 1516.63 Q2265.57 1517.4 2262.79 1518.95 L2262.79 1514.23 Q2265.61 1513.09 2268.07 1512.51 Q2270.52 1511.93 2272.56 1511.93 Q2277.93 1511.93 2281.12 1514.62 Q2284.32 1517.31 2284.32 1521.8 Q2284.32 1523.93 2283.51 1525.85 Q2282.72 1527.74 2280.61 1530.34 Q2280.03 1531.01 2276.93 1534.23 Q2273.83 1537.42 2268.18 1543.18 Z\" fill=\"#000000\" fill-rule=\"evenodd\" fill-opacity=\"1\" /><path clip-path=\"url(#clip320)\" d=\"M 0 0 M2289.57 1541.24 L2294.45 1541.24 L2294.45 1547.12 L2289.57 1547.12 L2289.57 1541.24 Z\" fill=\"#000000\" fill-rule=\"evenodd\" fill-opacity=\"1\" /><path clip-path=\"url(#clip320)\" d=\"M 0 0 M2299.57 1512.56 L2317.93 1512.56 L2317.93 1516.5 L2303.85 1516.5 L2303.85 1524.97 Q2304.87 1524.62 2305.89 1524.46 Q2306.91 1524.27 2307.93 1524.27 Q2313.71 1524.27 2317.09 1527.44 Q2320.47 1530.62 2320.47 1536.03 Q2320.47 1541.61 2317 1544.71 Q2313.53 1547.79 2307.21 1547.79 Q2305.03 1547.79 2302.76 1547.42 Q2300.52 1547.05 2298.11 1546.31 L2298.11 1541.61 Q2300.19 1542.74 2302.42 1543.3 Q2304.64 1543.86 2307.12 1543.86 Q2311.12 1543.86 2313.46 1541.75 Q2315.8 1539.64 2315.8 1536.03 Q2315.8 1532.42 2313.46 1530.31 Q2311.12 1528.21 2307.12 1528.21 Q2305.24 1528.21 2303.37 1528.62 Q2301.51 1529.04 2299.57 1529.92 L2299.57 1512.56 Z\" fill=\"#000000\" fill-rule=\"evenodd\" fill-opacity=\"1\" /><polyline clip-path=\"url(#clip322)\" style=\"stroke:#000000; stroke-width:2; stroke-opacity:0.1; fill:none\" points=\"\n",
       "  179.654,1447.12 2352.76,1447.12 \n",
       "  \"/>\n",
       "<polyline clip-path=\"url(#clip322)\" style=\"stroke:#000000; stroke-width:2; stroke-opacity:0.1; fill:none\" points=\"\n",
       "  179.654,1107.33 2352.76,1107.33 \n",
       "  \"/>\n",
       "<polyline clip-path=\"url(#clip322)\" style=\"stroke:#000000; stroke-width:2; stroke-opacity:0.1; fill:none\" points=\"\n",
       "  179.654,767.538 2352.76,767.538 \n",
       "  \"/>\n",
       "<polyline clip-path=\"url(#clip322)\" style=\"stroke:#000000; stroke-width:2; stroke-opacity:0.1; fill:none\" points=\"\n",
       "  179.654,427.744 2352.76,427.744 \n",
       "  \"/>\n",
       "<polyline clip-path=\"url(#clip322)\" style=\"stroke:#000000; stroke-width:2; stroke-opacity:0.1; fill:none\" points=\"\n",
       "  179.654,87.9513 2352.76,87.9513 \n",
       "  \"/>\n",
       "<polyline clip-path=\"url(#clip320)\" style=\"stroke:#000000; stroke-width:4; stroke-opacity:1; fill:none\" points=\"\n",
       "  179.654,1486.45 179.654,47.2441 \n",
       "  \"/>\n",
       "<polyline clip-path=\"url(#clip320)\" style=\"stroke:#000000; stroke-width:4; stroke-opacity:1; fill:none\" points=\"\n",
       "  179.654,1447.12 205.731,1447.12 \n",
       "  \"/>\n",
       "<polyline clip-path=\"url(#clip320)\" style=\"stroke:#000000; stroke-width:4; stroke-opacity:1; fill:none\" points=\"\n",
       "  179.654,1107.33 205.731,1107.33 \n",
       "  \"/>\n",
       "<polyline clip-path=\"url(#clip320)\" style=\"stroke:#000000; stroke-width:4; stroke-opacity:1; fill:none\" points=\"\n",
       "  179.654,767.538 205.731,767.538 \n",
       "  \"/>\n",
       "<polyline clip-path=\"url(#clip320)\" style=\"stroke:#000000; stroke-width:4; stroke-opacity:1; fill:none\" points=\"\n",
       "  179.654,427.744 205.731,427.744 \n",
       "  \"/>\n",
       "<polyline clip-path=\"url(#clip320)\" style=\"stroke:#000000; stroke-width:4; stroke-opacity:1; fill:none\" points=\"\n",
       "  179.654,87.9513 205.731,87.9513 \n",
       "  \"/>\n",
       "<path clip-path=\"url(#clip320)\" d=\"M 0 0 M51.2236 1447.58 L80.8994 1447.58 L80.8994 1451.51 L51.2236 1451.51 L51.2236 1447.58 Z\" fill=\"#000000\" fill-rule=\"evenodd\" fill-opacity=\"1\" /><path clip-path=\"url(#clip320)\" d=\"M 0 0 M86.779 1460.47 L94.4178 1460.47 L94.4178 1434.1 L86.1077 1435.77 L86.1077 1431.51 L94.3715 1429.84 L99.0474 1429.84 L99.0474 1460.47 L106.686 1460.47 L106.686 1464.4 L86.779 1464.4 L86.779 1460.47 Z\" fill=\"#000000\" fill-rule=\"evenodd\" fill-opacity=\"1\" /><path clip-path=\"url(#clip320)\" d=\"M 0 0 M111.756 1458.52 L116.64 1458.52 L116.64 1464.4 L111.756 1464.4 L111.756 1458.52 Z\" fill=\"#000000\" fill-rule=\"evenodd\" fill-opacity=\"1\" /><path clip-path=\"url(#clip320)\" d=\"M 0 0 M131.709 1432.92 Q128.098 1432.92 126.27 1436.49 Q124.464 1440.03 124.464 1447.16 Q124.464 1454.26 126.27 1457.83 Q128.098 1461.37 131.709 1461.37 Q135.344 1461.37 137.149 1457.83 Q138.978 1454.26 138.978 1447.16 Q138.978 1440.03 137.149 1436.49 Q135.344 1432.92 131.709 1432.92 M131.709 1429.22 Q137.519 1429.22 140.575 1433.83 Q143.654 1438.41 143.654 1447.16 Q143.654 1455.89 140.575 1460.49 Q137.519 1465.08 131.709 1465.08 Q125.899 1465.08 122.82 1460.49 Q119.765 1455.89 119.765 1447.16 Q119.765 1438.41 122.82 1433.83 Q125.899 1429.22 131.709 1429.22 Z\" fill=\"#000000\" fill-rule=\"evenodd\" fill-opacity=\"1\" /><path clip-path=\"url(#clip320)\" d=\"M 0 0 M50.9921 1107.78 L80.6679 1107.78 L80.6679 1111.72 L50.9921 1111.72 L50.9921 1107.78 Z\" fill=\"#000000\" fill-rule=\"evenodd\" fill-opacity=\"1\" /><path clip-path=\"url(#clip320)\" d=\"M 0 0 M95.7373 1093.13 Q92.1262 1093.13 90.2975 1096.69 Q88.4919 1100.24 88.4919 1107.37 Q88.4919 1114.47 90.2975 1118.04 Q92.1262 1121.58 95.7373 1121.58 Q99.3715 1121.58 101.177 1118.04 Q103.006 1114.47 103.006 1107.37 Q103.006 1100.24 101.177 1096.69 Q99.3715 1093.13 95.7373 1093.13 M95.7373 1089.43 Q101.547 1089.43 104.603 1094.03 Q107.682 1098.62 107.682 1107.37 Q107.682 1116.09 104.603 1120.7 Q101.547 1125.28 95.7373 1125.28 Q89.9271 1125.28 86.8484 1120.7 Q83.7929 1116.09 83.7929 1107.37 Q83.7929 1098.62 86.8484 1094.03 Q89.9271 1089.43 95.7373 1089.43 Z\" fill=\"#000000\" fill-rule=\"evenodd\" fill-opacity=\"1\" /><path clip-path=\"url(#clip320)\" d=\"M 0 0 M112.751 1118.73 L117.635 1118.73 L117.635 1124.61 L112.751 1124.61 L112.751 1118.73 Z\" fill=\"#000000\" fill-rule=\"evenodd\" fill-opacity=\"1\" /><path clip-path=\"url(#clip320)\" d=\"M 0 0 M122.751 1090.05 L141.107 1090.05 L141.107 1093.99 L127.033 1093.99 L127.033 1102.46 Q128.052 1102.11 129.07 1101.95 Q130.089 1101.76 131.107 1101.76 Q136.894 1101.76 140.274 1104.93 Q143.654 1108.11 143.654 1113.52 Q143.654 1119.1 140.181 1122.2 Q136.709 1125.28 130.39 1125.28 Q128.214 1125.28 125.945 1124.91 Q123.7 1124.54 121.293 1123.8 L121.293 1119.1 Q123.376 1120.24 125.598 1120.79 Q127.82 1121.35 130.297 1121.35 Q134.302 1121.35 136.64 1119.24 Q138.978 1117.13 138.978 1113.52 Q138.978 1109.91 136.64 1107.81 Q134.302 1105.7 130.297 1105.7 Q128.422 1105.7 126.547 1106.12 Q124.695 1106.53 122.751 1107.41 L122.751 1090.05 Z\" fill=\"#000000\" fill-rule=\"evenodd\" fill-opacity=\"1\" /><path clip-path=\"url(#clip320)\" d=\"M 0 0 M94.7419 753.336 Q91.1308 753.336 89.3021 756.901 Q87.4966 760.443 87.4966 767.572 Q87.4966 774.679 89.3021 778.243 Q91.1308 781.785 94.7419 781.785 Q98.3761 781.785 100.182 778.243 Q102.01 774.679 102.01 767.572 Q102.01 760.443 100.182 756.901 Q98.3761 753.336 94.7419 753.336 M94.7419 749.633 Q100.552 749.633 103.608 754.239 Q106.686 758.822 106.686 767.572 Q106.686 776.299 103.608 780.906 Q100.552 785.489 94.7419 785.489 Q88.9317 785.489 85.8531 780.906 Q82.7975 776.299 82.7975 767.572 Q82.7975 758.822 85.8531 754.239 Q88.9317 749.633 94.7419 749.633 Z\" fill=\"#000000\" fill-rule=\"evenodd\" fill-opacity=\"1\" /><path clip-path=\"url(#clip320)\" d=\"M 0 0 M111.756 778.938 L116.64 778.938 L116.64 784.818 L111.756 784.818 L111.756 778.938 Z\" fill=\"#000000\" fill-rule=\"evenodd\" fill-opacity=\"1\" /><path clip-path=\"url(#clip320)\" d=\"M 0 0 M131.709 753.336 Q128.098 753.336 126.27 756.901 Q124.464 760.443 124.464 767.572 Q124.464 774.679 126.27 778.243 Q128.098 781.785 131.709 781.785 Q135.344 781.785 137.149 778.243 Q138.978 774.679 138.978 767.572 Q138.978 760.443 137.149 756.901 Q135.344 753.336 131.709 753.336 M131.709 749.633 Q137.519 749.633 140.575 754.239 Q143.654 758.822 143.654 767.572 Q143.654 776.299 140.575 780.906 Q137.519 785.489 131.709 785.489 Q125.899 785.489 122.82 780.906 Q119.765 776.299 119.765 767.572 Q119.765 758.822 122.82 754.239 Q125.899 749.633 131.709 749.633 Z\" fill=\"#000000\" fill-rule=\"evenodd\" fill-opacity=\"1\" /><path clip-path=\"url(#clip320)\" d=\"M 0 0 M95.7373 413.543 Q92.1262 413.543 90.2975 417.108 Q88.4919 420.65 88.4919 427.779 Q88.4919 434.886 90.2975 438.45 Q92.1262 441.992 95.7373 441.992 Q99.3715 441.992 101.177 438.45 Q103.006 434.886 103.006 427.779 Q103.006 420.65 101.177 417.108 Q99.3715 413.543 95.7373 413.543 M95.7373 409.839 Q101.547 409.839 104.603 414.446 Q107.682 419.029 107.682 427.779 Q107.682 436.506 104.603 441.112 Q101.547 445.696 95.7373 445.696 Q89.9271 445.696 86.8484 441.112 Q83.7929 436.506 83.7929 427.779 Q83.7929 419.029 86.8484 414.446 Q89.9271 409.839 95.7373 409.839 Z\" fill=\"#000000\" fill-rule=\"evenodd\" fill-opacity=\"1\" /><path clip-path=\"url(#clip320)\" d=\"M 0 0 M112.751 439.145 L117.635 439.145 L117.635 445.024 L112.751 445.024 L112.751 439.145 Z\" fill=\"#000000\" fill-rule=\"evenodd\" fill-opacity=\"1\" /><path clip-path=\"url(#clip320)\" d=\"M 0 0 M122.751 410.464 L141.107 410.464 L141.107 414.4 L127.033 414.4 L127.033 422.872 Q128.052 422.525 129.07 422.362 Q130.089 422.177 131.107 422.177 Q136.894 422.177 140.274 425.349 Q143.654 428.52 143.654 433.936 Q143.654 439.515 140.181 442.617 Q136.709 445.696 130.39 445.696 Q128.214 445.696 125.945 445.325 Q123.7 444.955 121.293 444.214 L121.293 439.515 Q123.376 440.649 125.598 441.205 Q127.82 441.761 130.297 441.761 Q134.302 441.761 136.64 439.654 Q138.978 437.548 138.978 433.936 Q138.978 430.325 136.64 428.219 Q134.302 426.112 130.297 426.112 Q128.422 426.112 126.547 426.529 Q124.695 426.946 122.751 427.825 L122.751 410.464 Z\" fill=\"#000000\" fill-rule=\"evenodd\" fill-opacity=\"1\" /><path clip-path=\"url(#clip320)\" d=\"M 0 0 M86.779 101.296 L94.4178 101.296 L94.4178 74.9305 L86.1077 76.5972 L86.1077 72.3379 L94.3715 70.6713 L99.0474 70.6713 L99.0474 101.296 L106.686 101.296 L106.686 105.231 L86.779 105.231 L86.779 101.296 Z\" fill=\"#000000\" fill-rule=\"evenodd\" fill-opacity=\"1\" /><path clip-path=\"url(#clip320)\" d=\"M 0 0 M111.756 99.3517 L116.64 99.3517 L116.64 105.231 L111.756 105.231 L111.756 99.3517 Z\" fill=\"#000000\" fill-rule=\"evenodd\" fill-opacity=\"1\" /><path clip-path=\"url(#clip320)\" d=\"M 0 0 M131.709 73.75 Q128.098 73.75 126.27 77.3148 Q124.464 80.8564 124.464 87.986 Q124.464 95.0924 126.27 98.6572 Q128.098 102.199 131.709 102.199 Q135.344 102.199 137.149 98.6572 Q138.978 95.0924 138.978 87.986 Q138.978 80.8564 137.149 77.3148 Q135.344 73.75 131.709 73.75 M131.709 70.0463 Q137.519 70.0463 140.575 74.6527 Q143.654 79.236 143.654 87.986 Q143.654 96.7128 140.575 101.319 Q137.519 105.903 131.709 105.903 Q125.899 105.903 122.82 101.319 Q119.765 96.7128 119.765 87.986 Q119.765 79.236 122.82 74.6527 Q125.899 70.0463 131.709 70.0463 Z\" fill=\"#000000\" fill-rule=\"evenodd\" fill-opacity=\"1\" /><polyline clip-path=\"url(#clip322)\" style=\"stroke:#009af9; stroke-width:4; stroke-opacity:1; fill:none\" points=\"\n",
       "  241.157,195.685 282.995,125.673 324.834,91.2587 366.673,94.3513 408.511,134.779 450.35,210.3 492.189,316.726 534.027,448.154 575.866,597.295 617.705,755.878 \n",
       "  659.544,915.108 701.382,1066.15 743.221,1200.64 785.06,1311.1 826.898,1391.42 868.737,1437.14 910.576,1445.72 952.415,1416.68 994.253,1351.65 1036.09,1254.22 \n",
       "  1077.93,1129.8 1119.77,985.288 1161.61,828.7 1203.45,668.719 1245.29,514.219 1287.12,373.768 1328.96,255.155 1370.8,164.96 1412.64,108.184 1454.48,87.9763 \n",
       "  1496.32,105.457 1538.16,159.658 1580,247.572 1621.83,364.323 1663.67,503.437 1705.51,657.198 1747.35,817.079 1789.19,974.212 1831.03,1119.88 1872.87,1246.01 \n",
       "  1914.7,1345.61 1956.54,1413.14 1998.38,1444.87 2040.22,1439.03 2082.06,1395.95 2123.9,1318.02 2165.74,1209.56 2207.58,1076.58 2249.41,926.467 2291.25,767.538 \n",
       "  \n",
       "  \"/>\n",
       "<path clip-path=\"url(#clip320)\" d=\"\n",
       "M1987.85 216.178 L2280.32 216.178 L2280.32 95.2176 L1987.85 95.2176  Z\n",
       "  \" fill=\"#ffffff\" fill-rule=\"evenodd\" fill-opacity=\"1\"/>\n",
       "<polyline clip-path=\"url(#clip320)\" style=\"stroke:#000000; stroke-width:4; stroke-opacity:1; fill:none\" points=\"\n",
       "  1987.85,216.178 2280.32,216.178 2280.32,95.2176 1987.85,95.2176 1987.85,216.178 \n",
       "  \"/>\n",
       "<polyline clip-path=\"url(#clip320)\" style=\"stroke:#009af9; stroke-width:4; stroke-opacity:1; fill:none\" points=\"\n",
       "  2011.99,155.698 2156.86,155.698 \n",
       "  \"/>\n",
       "<path clip-path=\"url(#clip320)\" d=\"M 0 0 M2194.85 175.385 Q2193.05 180.015 2191.33 181.427 Q2189.62 182.839 2186.75 182.839 L2183.35 182.839 L2183.35 179.274 L2185.85 179.274 Q2187.61 179.274 2188.58 178.44 Q2189.55 177.607 2190.73 174.505 L2191.5 172.561 L2181.01 147.052 L2185.52 147.052 L2193.63 167.329 L2201.73 147.052 L2206.24 147.052 L2194.85 175.385 Z\" fill=\"#000000\" fill-rule=\"evenodd\" fill-opacity=\"1\" /><path clip-path=\"url(#clip320)\" d=\"M 0 0 M2212.12 169.042 L2219.76 169.042 L2219.76 142.677 L2211.45 144.343 L2211.45 140.084 L2219.71 138.418 L2224.39 138.418 L2224.39 169.042 L2232.03 169.042 L2232.03 172.978 L2212.12 172.978 L2212.12 169.042 Z\" fill=\"#000000\" fill-rule=\"evenodd\" fill-opacity=\"1\" /></svg>\n"
      ]
     },
     "execution_count": 85,
     "metadata": {},
     "output_type": "execute_result"
    }
   ],
   "source": [
    "plot(x, y)"
   ]
  },
  {
   "cell_type": "code",
   "execution_count": 86,
   "metadata": {},
   "outputs": [
    {
     "data": {
      "image/svg+xml": [
       "<?xml version=\"1.0\" encoding=\"utf-8\"?>\n",
       "<svg xmlns=\"http://www.w3.org/2000/svg\" xmlns:xlink=\"http://www.w3.org/1999/xlink\" width=\"600\" height=\"400\" viewBox=\"0 0 2400 1600\">\n",
       "<defs>\n",
       "  <clipPath id=\"clip360\">\n",
       "    <rect x=\"0\" y=\"0\" width=\"2400\" height=\"1600\"/>\n",
       "  </clipPath>\n",
       "</defs>\n",
       "<path clip-path=\"url(#clip360)\" d=\"\n",
       "M0 1600 L2400 1600 L2400 0 L0 0  Z\n",
       "  \" fill=\"#ffffff\" fill-rule=\"evenodd\" fill-opacity=\"1\"/>\n",
       "<defs>\n",
       "  <clipPath id=\"clip361\">\n",
       "    <rect x=\"480\" y=\"0\" width=\"1681\" height=\"1600\"/>\n",
       "  </clipPath>\n",
       "</defs>\n",
       "<path clip-path=\"url(#clip360)\" d=\"\n",
       "M179.654 1486.45 L2352.76 1486.45 L2352.76 47.2441 L179.654 47.2441  Z\n",
       "  \" fill=\"#ffffff\" fill-rule=\"evenodd\" fill-opacity=\"1\"/>\n",
       "<defs>\n",
       "  <clipPath id=\"clip362\">\n",
       "    <rect x=\"179\" y=\"47\" width=\"2174\" height=\"1440\"/>\n",
       "  </clipPath>\n",
       "</defs>\n",
       "<polyline clip-path=\"url(#clip362)\" style=\"stroke:#000000; stroke-width:2; stroke-opacity:0.1; fill:none\" points=\"\n",
       "  507.026,1486.45 507.026,47.2441 \n",
       "  \"/>\n",
       "<polyline clip-path=\"url(#clip362)\" style=\"stroke:#000000; stroke-width:2; stroke-opacity:0.1; fill:none\" points=\"\n",
       "  950.142,1486.45 950.142,47.2441 \n",
       "  \"/>\n",
       "<polyline clip-path=\"url(#clip362)\" style=\"stroke:#000000; stroke-width:2; stroke-opacity:0.1; fill:none\" points=\"\n",
       "  1393.26,1486.45 1393.26,47.2441 \n",
       "  \"/>\n",
       "<polyline clip-path=\"url(#clip362)\" style=\"stroke:#000000; stroke-width:2; stroke-opacity:0.1; fill:none\" points=\"\n",
       "  1836.37,1486.45 1836.37,47.2441 \n",
       "  \"/>\n",
       "<polyline clip-path=\"url(#clip362)\" style=\"stroke:#000000; stroke-width:2; stroke-opacity:0.1; fill:none\" points=\"\n",
       "  2279.49,1486.45 2279.49,47.2441 \n",
       "  \"/>\n",
       "<polyline clip-path=\"url(#clip360)\" style=\"stroke:#000000; stroke-width:4; stroke-opacity:1; fill:none\" points=\"\n",
       "  179.654,1486.45 2352.76,1486.45 \n",
       "  \"/>\n",
       "<polyline clip-path=\"url(#clip360)\" style=\"stroke:#000000; stroke-width:4; stroke-opacity:1; fill:none\" points=\"\n",
       "  507.026,1486.45 507.026,1469.18 \n",
       "  \"/>\n",
       "<polyline clip-path=\"url(#clip360)\" style=\"stroke:#000000; stroke-width:4; stroke-opacity:1; fill:none\" points=\"\n",
       "  950.142,1486.45 950.142,1469.18 \n",
       "  \"/>\n",
       "<polyline clip-path=\"url(#clip360)\" style=\"stroke:#000000; stroke-width:4; stroke-opacity:1; fill:none\" points=\"\n",
       "  1393.26,1486.45 1393.26,1469.18 \n",
       "  \"/>\n",
       "<polyline clip-path=\"url(#clip360)\" style=\"stroke:#000000; stroke-width:4; stroke-opacity:1; fill:none\" points=\"\n",
       "  1836.37,1486.45 1836.37,1469.18 \n",
       "  \"/>\n",
       "<polyline clip-path=\"url(#clip360)\" style=\"stroke:#000000; stroke-width:4; stroke-opacity:1; fill:none\" points=\"\n",
       "  2279.49,1486.45 2279.49,1469.18 \n",
       "  \"/>\n",
       "<path clip-path=\"url(#clip360)\" d=\"M 0 0 M483.693 1543.18 L500.012 1543.18 L500.012 1547.12 L478.068 1547.12 L478.068 1543.18 Q480.73 1540.43 485.313 1535.8 Q489.92 1531.15 491.1 1529.81 Q493.346 1527.28 494.225 1525.55 Q495.128 1523.79 495.128 1522.1 Q495.128 1519.34 493.183 1517.61 Q491.262 1515.87 488.16 1515.87 Q485.961 1515.87 483.508 1516.63 Q481.077 1517.4 478.299 1518.95 L478.299 1514.23 Q481.123 1513.09 483.577 1512.51 Q486.031 1511.93 488.068 1511.93 Q493.438 1511.93 496.633 1514.62 Q499.827 1517.31 499.827 1521.8 Q499.827 1523.93 499.017 1525.85 Q498.23 1527.74 496.123 1530.34 Q495.545 1531.01 492.443 1534.23 Q489.341 1537.42 483.693 1543.18 Z\" fill=\"#000000\" fill-rule=\"evenodd\" fill-opacity=\"1\" /><path clip-path=\"url(#clip360)\" d=\"M 0 0 M505.082 1541.24 L509.966 1541.24 L509.966 1547.12 L505.082 1547.12 L505.082 1541.24 Z\" fill=\"#000000\" fill-rule=\"evenodd\" fill-opacity=\"1\" /><path clip-path=\"url(#clip360)\" d=\"M 0 0 M515.082 1512.56 L533.438 1512.56 L533.438 1516.5 L519.364 1516.5 L519.364 1524.97 Q520.382 1524.62 521.401 1524.46 Q522.419 1524.27 523.438 1524.27 Q529.225 1524.27 532.605 1527.44 Q535.984 1530.62 535.984 1536.03 Q535.984 1541.61 532.512 1544.71 Q529.04 1547.79 522.72 1547.79 Q520.544 1547.79 518.276 1547.42 Q516.031 1547.05 513.623 1546.31 L513.623 1541.61 Q515.707 1542.74 517.929 1543.3 Q520.151 1543.86 522.628 1543.86 Q526.632 1543.86 528.97 1541.75 Q531.308 1539.64 531.308 1536.03 Q531.308 1532.42 528.97 1530.31 Q526.632 1528.21 522.628 1528.21 Q520.753 1528.21 518.878 1528.62 Q517.026 1529.04 515.082 1529.92 L515.082 1512.56 Z\" fill=\"#000000\" fill-rule=\"evenodd\" fill-opacity=\"1\" /><path clip-path=\"url(#clip360)\" d=\"M 0 0 M921.936 1512.56 L940.292 1512.56 L940.292 1516.5 L926.218 1516.5 L926.218 1524.97 Q927.237 1524.62 928.255 1524.46 Q929.274 1524.27 930.292 1524.27 Q936.079 1524.27 939.459 1527.44 Q942.839 1530.62 942.839 1536.03 Q942.839 1541.61 939.366 1544.71 Q935.894 1547.79 929.575 1547.79 Q927.399 1547.79 925.13 1547.42 Q922.885 1547.05 920.478 1546.31 L920.478 1541.61 Q922.561 1542.74 924.783 1543.3 Q927.005 1543.86 929.482 1543.86 Q933.487 1543.86 935.825 1541.75 Q938.163 1539.64 938.163 1536.03 Q938.163 1532.42 935.825 1530.31 Q933.487 1528.21 929.482 1528.21 Q927.607 1528.21 925.732 1528.62 Q923.88 1529.04 921.936 1529.92 L921.936 1512.56 Z\" fill=\"#000000\" fill-rule=\"evenodd\" fill-opacity=\"1\" /><path clip-path=\"url(#clip360)\" d=\"M 0 0 M947.908 1541.24 L952.792 1541.24 L952.792 1547.12 L947.908 1547.12 L947.908 1541.24 Z\" fill=\"#000000\" fill-rule=\"evenodd\" fill-opacity=\"1\" /><path clip-path=\"url(#clip360)\" d=\"M 0 0 M967.862 1515.64 Q964.251 1515.64 962.422 1519.2 Q960.616 1522.75 960.616 1529.87 Q960.616 1536.98 962.422 1540.55 Q964.251 1544.09 967.862 1544.09 Q971.496 1544.09 973.301 1540.55 Q975.13 1536.98 975.13 1529.87 Q975.13 1522.75 973.301 1519.2 Q971.496 1515.64 967.862 1515.64 M967.862 1511.93 Q973.672 1511.93 976.727 1516.54 Q979.806 1521.12 979.806 1529.87 Q979.806 1538.6 976.727 1543.21 Q973.672 1547.79 967.862 1547.79 Q962.051 1547.79 958.973 1543.21 Q955.917 1538.6 955.917 1529.87 Q955.917 1521.12 958.973 1516.54 Q962.051 1511.93 967.862 1511.93 Z\" fill=\"#000000\" fill-rule=\"evenodd\" fill-opacity=\"1\" /><path clip-path=\"url(#clip360)\" d=\"M 0 0 M1364.16 1512.56 L1386.38 1512.56 L1386.38 1514.55 L1373.84 1547.12 L1368.95 1547.12 L1380.76 1516.5 L1364.16 1516.5 L1364.16 1512.56 Z\" fill=\"#000000\" fill-rule=\"evenodd\" fill-opacity=\"1\" /><path clip-path=\"url(#clip360)\" d=\"M 0 0 M1391.45 1541.24 L1396.34 1541.24 L1396.34 1547.12 L1391.45 1547.12 L1391.45 1541.24 Z\" fill=\"#000000\" fill-rule=\"evenodd\" fill-opacity=\"1\" /><path clip-path=\"url(#clip360)\" d=\"M 0 0 M1401.45 1512.56 L1419.81 1512.56 L1419.81 1516.5 L1405.73 1516.5 L1405.73 1524.97 Q1406.75 1524.62 1407.77 1524.46 Q1408.79 1524.27 1409.81 1524.27 Q1415.6 1524.27 1418.97 1527.44 Q1422.35 1530.62 1422.35 1536.03 Q1422.35 1541.61 1418.88 1544.71 Q1415.41 1547.79 1409.09 1547.79 Q1406.91 1547.79 1404.65 1547.42 Q1402.4 1547.05 1399.99 1546.31 L1399.99 1541.61 Q1402.08 1542.74 1404.3 1543.3 Q1406.52 1543.86 1409 1543.86 Q1413 1543.86 1415.34 1541.75 Q1417.68 1539.64 1417.68 1536.03 Q1417.68 1532.42 1415.34 1530.31 Q1413 1528.21 1409 1528.21 Q1407.12 1528.21 1405.25 1528.62 Q1403.4 1529.04 1401.45 1529.92 L1401.45 1512.56 Z\" fill=\"#000000\" fill-rule=\"evenodd\" fill-opacity=\"1\" /><path clip-path=\"url(#clip360)\" d=\"M 0 0 M1794.76 1543.18 L1802.4 1543.18 L1802.4 1516.82 L1794.09 1518.49 L1794.09 1514.23 L1802.36 1512.56 L1807.03 1512.56 L1807.03 1543.18 L1814.67 1543.18 L1814.67 1547.12 L1794.76 1547.12 L1794.76 1543.18 Z\" fill=\"#000000\" fill-rule=\"evenodd\" fill-opacity=\"1\" /><path clip-path=\"url(#clip360)\" d=\"M 0 0 M1829.74 1515.64 Q1826.13 1515.64 1824.3 1519.2 Q1822.5 1522.75 1822.5 1529.87 Q1822.5 1536.98 1824.3 1540.55 Q1826.13 1544.09 1829.74 1544.09 Q1833.38 1544.09 1835.18 1540.55 Q1837.01 1536.98 1837.01 1529.87 Q1837.01 1522.75 1835.18 1519.2 Q1833.38 1515.64 1829.74 1515.64 M1829.74 1511.93 Q1835.55 1511.93 1838.61 1516.54 Q1841.69 1521.12 1841.69 1529.87 Q1841.69 1538.6 1838.61 1543.21 Q1835.55 1547.79 1829.74 1547.79 Q1823.93 1547.79 1820.85 1543.21 Q1817.8 1538.6 1817.8 1529.87 Q1817.8 1521.12 1820.85 1516.54 Q1823.93 1511.93 1829.74 1511.93 Z\" fill=\"#000000\" fill-rule=\"evenodd\" fill-opacity=\"1\" /><path clip-path=\"url(#clip360)\" d=\"M 0 0 M1846.76 1541.24 L1851.64 1541.24 L1851.64 1547.12 L1846.76 1547.12 L1846.76 1541.24 Z\" fill=\"#000000\" fill-rule=\"evenodd\" fill-opacity=\"1\" /><path clip-path=\"url(#clip360)\" d=\"M 0 0 M1866.71 1515.64 Q1863.1 1515.64 1861.27 1519.2 Q1859.46 1522.75 1859.46 1529.87 Q1859.46 1536.98 1861.27 1540.55 Q1863.1 1544.09 1866.71 1544.09 Q1870.34 1544.09 1872.15 1540.55 Q1873.98 1536.98 1873.98 1529.87 Q1873.98 1522.75 1872.15 1519.2 Q1870.34 1515.64 1866.71 1515.64 M1866.71 1511.93 Q1872.52 1511.93 1875.57 1516.54 Q1878.65 1521.12 1878.65 1529.87 Q1878.65 1538.6 1875.57 1543.21 Q1872.52 1547.79 1866.71 1547.79 Q1860.9 1547.79 1857.82 1543.21 Q1854.76 1538.6 1854.76 1529.87 Q1854.76 1521.12 1857.82 1516.54 Q1860.9 1511.93 1866.71 1511.93 Z\" fill=\"#000000\" fill-rule=\"evenodd\" fill-opacity=\"1\" /><path clip-path=\"url(#clip360)\" d=\"M 0 0 M2239.18 1543.18 L2246.82 1543.18 L2246.82 1516.82 L2238.51 1518.49 L2238.51 1514.23 L2246.77 1512.56 L2251.45 1512.56 L2251.45 1543.18 L2259.08 1543.18 L2259.08 1547.12 L2239.18 1547.12 L2239.18 1543.18 Z\" fill=\"#000000\" fill-rule=\"evenodd\" fill-opacity=\"1\" /><path clip-path=\"url(#clip360)\" d=\"M 0 0 M2268.18 1543.18 L2284.5 1543.18 L2284.5 1547.12 L2262.56 1547.12 L2262.56 1543.18 Q2265.22 1540.43 2269.8 1535.8 Q2274.41 1531.15 2275.59 1529.81 Q2277.83 1527.28 2278.71 1525.55 Q2279.62 1523.79 2279.62 1522.1 Q2279.62 1519.34 2277.67 1517.61 Q2275.75 1515.87 2272.65 1515.87 Q2270.45 1515.87 2268 1516.63 Q2265.57 1517.4 2262.79 1518.95 L2262.79 1514.23 Q2265.61 1513.09 2268.07 1512.51 Q2270.52 1511.93 2272.56 1511.93 Q2277.93 1511.93 2281.12 1514.62 Q2284.32 1517.31 2284.32 1521.8 Q2284.32 1523.93 2283.51 1525.85 Q2282.72 1527.74 2280.61 1530.34 Q2280.03 1531.01 2276.93 1534.23 Q2273.83 1537.42 2268.18 1543.18 Z\" fill=\"#000000\" fill-rule=\"evenodd\" fill-opacity=\"1\" /><path clip-path=\"url(#clip360)\" d=\"M 0 0 M2289.57 1541.24 L2294.45 1541.24 L2294.45 1547.12 L2289.57 1547.12 L2289.57 1541.24 Z\" fill=\"#000000\" fill-rule=\"evenodd\" fill-opacity=\"1\" /><path clip-path=\"url(#clip360)\" d=\"M 0 0 M2299.57 1512.56 L2317.93 1512.56 L2317.93 1516.5 L2303.85 1516.5 L2303.85 1524.97 Q2304.87 1524.62 2305.89 1524.46 Q2306.91 1524.27 2307.93 1524.27 Q2313.71 1524.27 2317.09 1527.44 Q2320.47 1530.62 2320.47 1536.03 Q2320.47 1541.61 2317 1544.71 Q2313.53 1547.79 2307.21 1547.79 Q2305.03 1547.79 2302.76 1547.42 Q2300.52 1547.05 2298.11 1546.31 L2298.11 1541.61 Q2300.19 1542.74 2302.42 1543.3 Q2304.64 1543.86 2307.12 1543.86 Q2311.12 1543.86 2313.46 1541.75 Q2315.8 1539.64 2315.8 1536.03 Q2315.8 1532.42 2313.46 1530.31 Q2311.12 1528.21 2307.12 1528.21 Q2305.24 1528.21 2303.37 1528.62 Q2301.51 1529.04 2299.57 1529.92 L2299.57 1512.56 Z\" fill=\"#000000\" fill-rule=\"evenodd\" fill-opacity=\"1\" /><polyline clip-path=\"url(#clip362)\" style=\"stroke:#000000; stroke-width:2; stroke-opacity:0.1; fill:none\" points=\"\n",
       "  179.654,1447.12 2352.76,1447.12 \n",
       "  \"/>\n",
       "<polyline clip-path=\"url(#clip362)\" style=\"stroke:#000000; stroke-width:2; stroke-opacity:0.1; fill:none\" points=\"\n",
       "  179.654,1107.33 2352.76,1107.33 \n",
       "  \"/>\n",
       "<polyline clip-path=\"url(#clip362)\" style=\"stroke:#000000; stroke-width:2; stroke-opacity:0.1; fill:none\" points=\"\n",
       "  179.654,767.538 2352.76,767.538 \n",
       "  \"/>\n",
       "<polyline clip-path=\"url(#clip362)\" style=\"stroke:#000000; stroke-width:2; stroke-opacity:0.1; fill:none\" points=\"\n",
       "  179.654,427.744 2352.76,427.744 \n",
       "  \"/>\n",
       "<polyline clip-path=\"url(#clip362)\" style=\"stroke:#000000; stroke-width:2; stroke-opacity:0.1; fill:none\" points=\"\n",
       "  179.654,87.9513 2352.76,87.9513 \n",
       "  \"/>\n",
       "<polyline clip-path=\"url(#clip360)\" style=\"stroke:#000000; stroke-width:4; stroke-opacity:1; fill:none\" points=\"\n",
       "  179.654,1486.45 179.654,47.2441 \n",
       "  \"/>\n",
       "<polyline clip-path=\"url(#clip360)\" style=\"stroke:#000000; stroke-width:4; stroke-opacity:1; fill:none\" points=\"\n",
       "  179.654,1447.12 205.731,1447.12 \n",
       "  \"/>\n",
       "<polyline clip-path=\"url(#clip360)\" style=\"stroke:#000000; stroke-width:4; stroke-opacity:1; fill:none\" points=\"\n",
       "  179.654,1107.33 205.731,1107.33 \n",
       "  \"/>\n",
       "<polyline clip-path=\"url(#clip360)\" style=\"stroke:#000000; stroke-width:4; stroke-opacity:1; fill:none\" points=\"\n",
       "  179.654,767.538 205.731,767.538 \n",
       "  \"/>\n",
       "<polyline clip-path=\"url(#clip360)\" style=\"stroke:#000000; stroke-width:4; stroke-opacity:1; fill:none\" points=\"\n",
       "  179.654,427.744 205.731,427.744 \n",
       "  \"/>\n",
       "<polyline clip-path=\"url(#clip360)\" style=\"stroke:#000000; stroke-width:4; stroke-opacity:1; fill:none\" points=\"\n",
       "  179.654,87.9513 205.731,87.9513 \n",
       "  \"/>\n",
       "<path clip-path=\"url(#clip360)\" d=\"M 0 0 M51.2236 1447.58 L80.8994 1447.58 L80.8994 1451.51 L51.2236 1451.51 L51.2236 1447.58 Z\" fill=\"#000000\" fill-rule=\"evenodd\" fill-opacity=\"1\" /><path clip-path=\"url(#clip360)\" d=\"M 0 0 M86.779 1460.47 L94.4178 1460.47 L94.4178 1434.1 L86.1077 1435.77 L86.1077 1431.51 L94.3715 1429.84 L99.0474 1429.84 L99.0474 1460.47 L106.686 1460.47 L106.686 1464.4 L86.779 1464.4 L86.779 1460.47 Z\" fill=\"#000000\" fill-rule=\"evenodd\" fill-opacity=\"1\" /><path clip-path=\"url(#clip360)\" d=\"M 0 0 M111.756 1458.52 L116.64 1458.52 L116.64 1464.4 L111.756 1464.4 L111.756 1458.52 Z\" fill=\"#000000\" fill-rule=\"evenodd\" fill-opacity=\"1\" /><path clip-path=\"url(#clip360)\" d=\"M 0 0 M131.709 1432.92 Q128.098 1432.92 126.27 1436.49 Q124.464 1440.03 124.464 1447.16 Q124.464 1454.26 126.27 1457.83 Q128.098 1461.37 131.709 1461.37 Q135.344 1461.37 137.149 1457.83 Q138.978 1454.26 138.978 1447.16 Q138.978 1440.03 137.149 1436.49 Q135.344 1432.92 131.709 1432.92 M131.709 1429.22 Q137.519 1429.22 140.575 1433.83 Q143.654 1438.41 143.654 1447.16 Q143.654 1455.89 140.575 1460.49 Q137.519 1465.08 131.709 1465.08 Q125.899 1465.08 122.82 1460.49 Q119.765 1455.89 119.765 1447.16 Q119.765 1438.41 122.82 1433.83 Q125.899 1429.22 131.709 1429.22 Z\" fill=\"#000000\" fill-rule=\"evenodd\" fill-opacity=\"1\" /><path clip-path=\"url(#clip360)\" d=\"M 0 0 M50.9921 1107.78 L80.6679 1107.78 L80.6679 1111.72 L50.9921 1111.72 L50.9921 1107.78 Z\" fill=\"#000000\" fill-rule=\"evenodd\" fill-opacity=\"1\" /><path clip-path=\"url(#clip360)\" d=\"M 0 0 M95.7373 1093.13 Q92.1262 1093.13 90.2975 1096.69 Q88.4919 1100.24 88.4919 1107.37 Q88.4919 1114.47 90.2975 1118.04 Q92.1262 1121.58 95.7373 1121.58 Q99.3715 1121.58 101.177 1118.04 Q103.006 1114.47 103.006 1107.37 Q103.006 1100.24 101.177 1096.69 Q99.3715 1093.13 95.7373 1093.13 M95.7373 1089.43 Q101.547 1089.43 104.603 1094.03 Q107.682 1098.62 107.682 1107.37 Q107.682 1116.09 104.603 1120.7 Q101.547 1125.28 95.7373 1125.28 Q89.9271 1125.28 86.8484 1120.7 Q83.7929 1116.09 83.7929 1107.37 Q83.7929 1098.62 86.8484 1094.03 Q89.9271 1089.43 95.7373 1089.43 Z\" fill=\"#000000\" fill-rule=\"evenodd\" fill-opacity=\"1\" /><path clip-path=\"url(#clip360)\" d=\"M 0 0 M112.751 1118.73 L117.635 1118.73 L117.635 1124.61 L112.751 1124.61 L112.751 1118.73 Z\" fill=\"#000000\" fill-rule=\"evenodd\" fill-opacity=\"1\" /><path clip-path=\"url(#clip360)\" d=\"M 0 0 M122.751 1090.05 L141.107 1090.05 L141.107 1093.99 L127.033 1093.99 L127.033 1102.46 Q128.052 1102.11 129.07 1101.95 Q130.089 1101.76 131.107 1101.76 Q136.894 1101.76 140.274 1104.93 Q143.654 1108.11 143.654 1113.52 Q143.654 1119.1 140.181 1122.2 Q136.709 1125.28 130.39 1125.28 Q128.214 1125.28 125.945 1124.91 Q123.7 1124.54 121.293 1123.8 L121.293 1119.1 Q123.376 1120.24 125.598 1120.79 Q127.82 1121.35 130.297 1121.35 Q134.302 1121.35 136.64 1119.24 Q138.978 1117.13 138.978 1113.52 Q138.978 1109.91 136.64 1107.81 Q134.302 1105.7 130.297 1105.7 Q128.422 1105.7 126.547 1106.12 Q124.695 1106.53 122.751 1107.41 L122.751 1090.05 Z\" fill=\"#000000\" fill-rule=\"evenodd\" fill-opacity=\"1\" /><path clip-path=\"url(#clip360)\" d=\"M 0 0 M94.7419 753.336 Q91.1308 753.336 89.3021 756.901 Q87.4966 760.443 87.4966 767.572 Q87.4966 774.679 89.3021 778.243 Q91.1308 781.785 94.7419 781.785 Q98.3761 781.785 100.182 778.243 Q102.01 774.679 102.01 767.572 Q102.01 760.443 100.182 756.901 Q98.3761 753.336 94.7419 753.336 M94.7419 749.633 Q100.552 749.633 103.608 754.239 Q106.686 758.822 106.686 767.572 Q106.686 776.299 103.608 780.906 Q100.552 785.489 94.7419 785.489 Q88.9317 785.489 85.8531 780.906 Q82.7975 776.299 82.7975 767.572 Q82.7975 758.822 85.8531 754.239 Q88.9317 749.633 94.7419 749.633 Z\" fill=\"#000000\" fill-rule=\"evenodd\" fill-opacity=\"1\" /><path clip-path=\"url(#clip360)\" d=\"M 0 0 M111.756 778.938 L116.64 778.938 L116.64 784.818 L111.756 784.818 L111.756 778.938 Z\" fill=\"#000000\" fill-rule=\"evenodd\" fill-opacity=\"1\" /><path clip-path=\"url(#clip360)\" d=\"M 0 0 M131.709 753.336 Q128.098 753.336 126.27 756.901 Q124.464 760.443 124.464 767.572 Q124.464 774.679 126.27 778.243 Q128.098 781.785 131.709 781.785 Q135.344 781.785 137.149 778.243 Q138.978 774.679 138.978 767.572 Q138.978 760.443 137.149 756.901 Q135.344 753.336 131.709 753.336 M131.709 749.633 Q137.519 749.633 140.575 754.239 Q143.654 758.822 143.654 767.572 Q143.654 776.299 140.575 780.906 Q137.519 785.489 131.709 785.489 Q125.899 785.489 122.82 780.906 Q119.765 776.299 119.765 767.572 Q119.765 758.822 122.82 754.239 Q125.899 749.633 131.709 749.633 Z\" fill=\"#000000\" fill-rule=\"evenodd\" fill-opacity=\"1\" /><path clip-path=\"url(#clip360)\" d=\"M 0 0 M95.7373 413.543 Q92.1262 413.543 90.2975 417.108 Q88.4919 420.65 88.4919 427.779 Q88.4919 434.886 90.2975 438.45 Q92.1262 441.992 95.7373 441.992 Q99.3715 441.992 101.177 438.45 Q103.006 434.886 103.006 427.779 Q103.006 420.65 101.177 417.108 Q99.3715 413.543 95.7373 413.543 M95.7373 409.839 Q101.547 409.839 104.603 414.446 Q107.682 419.029 107.682 427.779 Q107.682 436.506 104.603 441.112 Q101.547 445.696 95.7373 445.696 Q89.9271 445.696 86.8484 441.112 Q83.7929 436.506 83.7929 427.779 Q83.7929 419.029 86.8484 414.446 Q89.9271 409.839 95.7373 409.839 Z\" fill=\"#000000\" fill-rule=\"evenodd\" fill-opacity=\"1\" /><path clip-path=\"url(#clip360)\" d=\"M 0 0 M112.751 439.145 L117.635 439.145 L117.635 445.024 L112.751 445.024 L112.751 439.145 Z\" fill=\"#000000\" fill-rule=\"evenodd\" fill-opacity=\"1\" /><path clip-path=\"url(#clip360)\" d=\"M 0 0 M122.751 410.464 L141.107 410.464 L141.107 414.4 L127.033 414.4 L127.033 422.872 Q128.052 422.525 129.07 422.362 Q130.089 422.177 131.107 422.177 Q136.894 422.177 140.274 425.349 Q143.654 428.52 143.654 433.936 Q143.654 439.515 140.181 442.617 Q136.709 445.696 130.39 445.696 Q128.214 445.696 125.945 445.325 Q123.7 444.955 121.293 444.214 L121.293 439.515 Q123.376 440.649 125.598 441.205 Q127.82 441.761 130.297 441.761 Q134.302 441.761 136.64 439.654 Q138.978 437.548 138.978 433.936 Q138.978 430.325 136.64 428.219 Q134.302 426.112 130.297 426.112 Q128.422 426.112 126.547 426.529 Q124.695 426.946 122.751 427.825 L122.751 410.464 Z\" fill=\"#000000\" fill-rule=\"evenodd\" fill-opacity=\"1\" /><path clip-path=\"url(#clip360)\" d=\"M 0 0 M86.779 101.296 L94.4178 101.296 L94.4178 74.9305 L86.1077 76.5972 L86.1077 72.3379 L94.3715 70.6713 L99.0474 70.6713 L99.0474 101.296 L106.686 101.296 L106.686 105.231 L86.779 105.231 L86.779 101.296 Z\" fill=\"#000000\" fill-rule=\"evenodd\" fill-opacity=\"1\" /><path clip-path=\"url(#clip360)\" d=\"M 0 0 M111.756 99.3517 L116.64 99.3517 L116.64 105.231 L111.756 105.231 L111.756 99.3517 Z\" fill=\"#000000\" fill-rule=\"evenodd\" fill-opacity=\"1\" /><path clip-path=\"url(#clip360)\" d=\"M 0 0 M131.709 73.75 Q128.098 73.75 126.27 77.3148 Q124.464 80.8564 124.464 87.986 Q124.464 95.0924 126.27 98.6572 Q128.098 102.199 131.709 102.199 Q135.344 102.199 137.149 98.6572 Q138.978 95.0924 138.978 87.986 Q138.978 80.8564 137.149 77.3148 Q135.344 73.75 131.709 73.75 M131.709 70.0463 Q137.519 70.0463 140.575 74.6527 Q143.654 79.236 143.654 87.986 Q143.654 96.7128 140.575 101.319 Q137.519 105.903 131.709 105.903 Q125.899 105.903 122.82 101.319 Q119.765 96.7128 119.765 87.986 Q119.765 79.236 122.82 74.6527 Q125.899 70.0463 131.709 70.0463 Z\" fill=\"#000000\" fill-rule=\"evenodd\" fill-opacity=\"1\" /><polyline clip-path=\"url(#clip362)\" style=\"stroke:#009af9; stroke-width:4; stroke-opacity:1; fill:none\" points=\"\n",
       "  241.157,195.685 282.995,125.673 324.834,91.2587 366.673,94.3513 408.511,134.779 450.35,210.3 492.189,316.726 534.027,448.154 575.866,597.295 617.705,755.878 \n",
       "  659.544,915.108 701.382,1066.15 743.221,1200.64 785.06,1311.1 826.898,1391.42 868.737,1437.14 910.576,1445.72 952.415,1416.68 994.253,1351.65 1036.09,1254.22 \n",
       "  1077.93,1129.8 1119.77,985.288 1161.61,828.7 1203.45,668.719 1245.29,514.219 1287.12,373.768 1328.96,255.155 1370.8,164.96 1412.64,108.184 1454.48,87.9763 \n",
       "  1496.32,105.457 1538.16,159.658 1580,247.572 1621.83,364.323 1663.67,503.437 1705.51,657.198 1747.35,817.079 1789.19,974.212 1831.03,1119.88 1872.87,1246.01 \n",
       "  1914.7,1345.61 1956.54,1413.14 1998.38,1444.87 2040.22,1439.03 2082.06,1395.95 2123.9,1318.02 2165.74,1209.56 2207.58,1076.58 2249.41,926.467 2291.25,767.538 \n",
       "  \n",
       "  \"/>\n",
       "<circle clip-path=\"url(#clip362)\" cx=\"241.157\" cy=\"195.685\" r=\"14\" fill=\"#009af9\" fill-rule=\"evenodd\" fill-opacity=\"1\" stroke=\"#000000\" stroke-opacity=\"1\" stroke-width=\"3.2\"/>\n",
       "<circle clip-path=\"url(#clip362)\" cx=\"282.995\" cy=\"125.673\" r=\"14\" fill=\"#009af9\" fill-rule=\"evenodd\" fill-opacity=\"1\" stroke=\"#000000\" stroke-opacity=\"1\" stroke-width=\"3.2\"/>\n",
       "<circle clip-path=\"url(#clip362)\" cx=\"324.834\" cy=\"91.2587\" r=\"14\" fill=\"#009af9\" fill-rule=\"evenodd\" fill-opacity=\"1\" stroke=\"#000000\" stroke-opacity=\"1\" stroke-width=\"3.2\"/>\n",
       "<circle clip-path=\"url(#clip362)\" cx=\"366.673\" cy=\"94.3513\" r=\"14\" fill=\"#009af9\" fill-rule=\"evenodd\" fill-opacity=\"1\" stroke=\"#000000\" stroke-opacity=\"1\" stroke-width=\"3.2\"/>\n",
       "<circle clip-path=\"url(#clip362)\" cx=\"408.511\" cy=\"134.779\" r=\"14\" fill=\"#009af9\" fill-rule=\"evenodd\" fill-opacity=\"1\" stroke=\"#000000\" stroke-opacity=\"1\" stroke-width=\"3.2\"/>\n",
       "<circle clip-path=\"url(#clip362)\" cx=\"450.35\" cy=\"210.3\" r=\"14\" fill=\"#009af9\" fill-rule=\"evenodd\" fill-opacity=\"1\" stroke=\"#000000\" stroke-opacity=\"1\" stroke-width=\"3.2\"/>\n",
       "<circle clip-path=\"url(#clip362)\" cx=\"492.189\" cy=\"316.726\" r=\"14\" fill=\"#009af9\" fill-rule=\"evenodd\" fill-opacity=\"1\" stroke=\"#000000\" stroke-opacity=\"1\" stroke-width=\"3.2\"/>\n",
       "<circle clip-path=\"url(#clip362)\" cx=\"534.027\" cy=\"448.154\" r=\"14\" fill=\"#009af9\" fill-rule=\"evenodd\" fill-opacity=\"1\" stroke=\"#000000\" stroke-opacity=\"1\" stroke-width=\"3.2\"/>\n",
       "<circle clip-path=\"url(#clip362)\" cx=\"575.866\" cy=\"597.295\" r=\"14\" fill=\"#009af9\" fill-rule=\"evenodd\" fill-opacity=\"1\" stroke=\"#000000\" stroke-opacity=\"1\" stroke-width=\"3.2\"/>\n",
       "<circle clip-path=\"url(#clip362)\" cx=\"617.705\" cy=\"755.878\" r=\"14\" fill=\"#009af9\" fill-rule=\"evenodd\" fill-opacity=\"1\" stroke=\"#000000\" stroke-opacity=\"1\" stroke-width=\"3.2\"/>\n",
       "<circle clip-path=\"url(#clip362)\" cx=\"659.544\" cy=\"915.108\" r=\"14\" fill=\"#009af9\" fill-rule=\"evenodd\" fill-opacity=\"1\" stroke=\"#000000\" stroke-opacity=\"1\" stroke-width=\"3.2\"/>\n",
       "<circle clip-path=\"url(#clip362)\" cx=\"701.382\" cy=\"1066.15\" r=\"14\" fill=\"#009af9\" fill-rule=\"evenodd\" fill-opacity=\"1\" stroke=\"#000000\" stroke-opacity=\"1\" stroke-width=\"3.2\"/>\n",
       "<circle clip-path=\"url(#clip362)\" cx=\"743.221\" cy=\"1200.64\" r=\"14\" fill=\"#009af9\" fill-rule=\"evenodd\" fill-opacity=\"1\" stroke=\"#000000\" stroke-opacity=\"1\" stroke-width=\"3.2\"/>\n",
       "<circle clip-path=\"url(#clip362)\" cx=\"785.06\" cy=\"1311.1\" r=\"14\" fill=\"#009af9\" fill-rule=\"evenodd\" fill-opacity=\"1\" stroke=\"#000000\" stroke-opacity=\"1\" stroke-width=\"3.2\"/>\n",
       "<circle clip-path=\"url(#clip362)\" cx=\"826.898\" cy=\"1391.42\" r=\"14\" fill=\"#009af9\" fill-rule=\"evenodd\" fill-opacity=\"1\" stroke=\"#000000\" stroke-opacity=\"1\" stroke-width=\"3.2\"/>\n",
       "<circle clip-path=\"url(#clip362)\" cx=\"868.737\" cy=\"1437.14\" r=\"14\" fill=\"#009af9\" fill-rule=\"evenodd\" fill-opacity=\"1\" stroke=\"#000000\" stroke-opacity=\"1\" stroke-width=\"3.2\"/>\n",
       "<circle clip-path=\"url(#clip362)\" cx=\"910.576\" cy=\"1445.72\" r=\"14\" fill=\"#009af9\" fill-rule=\"evenodd\" fill-opacity=\"1\" stroke=\"#000000\" stroke-opacity=\"1\" stroke-width=\"3.2\"/>\n",
       "<circle clip-path=\"url(#clip362)\" cx=\"952.415\" cy=\"1416.68\" r=\"14\" fill=\"#009af9\" fill-rule=\"evenodd\" fill-opacity=\"1\" stroke=\"#000000\" stroke-opacity=\"1\" stroke-width=\"3.2\"/>\n",
       "<circle clip-path=\"url(#clip362)\" cx=\"994.253\" cy=\"1351.65\" r=\"14\" fill=\"#009af9\" fill-rule=\"evenodd\" fill-opacity=\"1\" stroke=\"#000000\" stroke-opacity=\"1\" stroke-width=\"3.2\"/>\n",
       "<circle clip-path=\"url(#clip362)\" cx=\"1036.09\" cy=\"1254.22\" r=\"14\" fill=\"#009af9\" fill-rule=\"evenodd\" fill-opacity=\"1\" stroke=\"#000000\" stroke-opacity=\"1\" stroke-width=\"3.2\"/>\n",
       "<circle clip-path=\"url(#clip362)\" cx=\"1077.93\" cy=\"1129.8\" r=\"14\" fill=\"#009af9\" fill-rule=\"evenodd\" fill-opacity=\"1\" stroke=\"#000000\" stroke-opacity=\"1\" stroke-width=\"3.2\"/>\n",
       "<circle clip-path=\"url(#clip362)\" cx=\"1119.77\" cy=\"985.288\" r=\"14\" fill=\"#009af9\" fill-rule=\"evenodd\" fill-opacity=\"1\" stroke=\"#000000\" stroke-opacity=\"1\" stroke-width=\"3.2\"/>\n",
       "<circle clip-path=\"url(#clip362)\" cx=\"1161.61\" cy=\"828.7\" r=\"14\" fill=\"#009af9\" fill-rule=\"evenodd\" fill-opacity=\"1\" stroke=\"#000000\" stroke-opacity=\"1\" stroke-width=\"3.2\"/>\n",
       "<circle clip-path=\"url(#clip362)\" cx=\"1203.45\" cy=\"668.719\" r=\"14\" fill=\"#009af9\" fill-rule=\"evenodd\" fill-opacity=\"1\" stroke=\"#000000\" stroke-opacity=\"1\" stroke-width=\"3.2\"/>\n",
       "<circle clip-path=\"url(#clip362)\" cx=\"1245.29\" cy=\"514.219\" r=\"14\" fill=\"#009af9\" fill-rule=\"evenodd\" fill-opacity=\"1\" stroke=\"#000000\" stroke-opacity=\"1\" stroke-width=\"3.2\"/>\n",
       "<circle clip-path=\"url(#clip362)\" cx=\"1287.12\" cy=\"373.768\" r=\"14\" fill=\"#009af9\" fill-rule=\"evenodd\" fill-opacity=\"1\" stroke=\"#000000\" stroke-opacity=\"1\" stroke-width=\"3.2\"/>\n",
       "<circle clip-path=\"url(#clip362)\" cx=\"1328.96\" cy=\"255.155\" r=\"14\" fill=\"#009af9\" fill-rule=\"evenodd\" fill-opacity=\"1\" stroke=\"#000000\" stroke-opacity=\"1\" stroke-width=\"3.2\"/>\n",
       "<circle clip-path=\"url(#clip362)\" cx=\"1370.8\" cy=\"164.96\" r=\"14\" fill=\"#009af9\" fill-rule=\"evenodd\" fill-opacity=\"1\" stroke=\"#000000\" stroke-opacity=\"1\" stroke-width=\"3.2\"/>\n",
       "<circle clip-path=\"url(#clip362)\" cx=\"1412.64\" cy=\"108.184\" r=\"14\" fill=\"#009af9\" fill-rule=\"evenodd\" fill-opacity=\"1\" stroke=\"#000000\" stroke-opacity=\"1\" stroke-width=\"3.2\"/>\n",
       "<circle clip-path=\"url(#clip362)\" cx=\"1454.48\" cy=\"87.9763\" r=\"14\" fill=\"#009af9\" fill-rule=\"evenodd\" fill-opacity=\"1\" stroke=\"#000000\" stroke-opacity=\"1\" stroke-width=\"3.2\"/>\n",
       "<circle clip-path=\"url(#clip362)\" cx=\"1496.32\" cy=\"105.457\" r=\"14\" fill=\"#009af9\" fill-rule=\"evenodd\" fill-opacity=\"1\" stroke=\"#000000\" stroke-opacity=\"1\" stroke-width=\"3.2\"/>\n",
       "<circle clip-path=\"url(#clip362)\" cx=\"1538.16\" cy=\"159.658\" r=\"14\" fill=\"#009af9\" fill-rule=\"evenodd\" fill-opacity=\"1\" stroke=\"#000000\" stroke-opacity=\"1\" stroke-width=\"3.2\"/>\n",
       "<circle clip-path=\"url(#clip362)\" cx=\"1580\" cy=\"247.572\" r=\"14\" fill=\"#009af9\" fill-rule=\"evenodd\" fill-opacity=\"1\" stroke=\"#000000\" stroke-opacity=\"1\" stroke-width=\"3.2\"/>\n",
       "<circle clip-path=\"url(#clip362)\" cx=\"1621.83\" cy=\"364.323\" r=\"14\" fill=\"#009af9\" fill-rule=\"evenodd\" fill-opacity=\"1\" stroke=\"#000000\" stroke-opacity=\"1\" stroke-width=\"3.2\"/>\n",
       "<circle clip-path=\"url(#clip362)\" cx=\"1663.67\" cy=\"503.437\" r=\"14\" fill=\"#009af9\" fill-rule=\"evenodd\" fill-opacity=\"1\" stroke=\"#000000\" stroke-opacity=\"1\" stroke-width=\"3.2\"/>\n",
       "<circle clip-path=\"url(#clip362)\" cx=\"1705.51\" cy=\"657.198\" r=\"14\" fill=\"#009af9\" fill-rule=\"evenodd\" fill-opacity=\"1\" stroke=\"#000000\" stroke-opacity=\"1\" stroke-width=\"3.2\"/>\n",
       "<circle clip-path=\"url(#clip362)\" cx=\"1747.35\" cy=\"817.079\" r=\"14\" fill=\"#009af9\" fill-rule=\"evenodd\" fill-opacity=\"1\" stroke=\"#000000\" stroke-opacity=\"1\" stroke-width=\"3.2\"/>\n",
       "<circle clip-path=\"url(#clip362)\" cx=\"1789.19\" cy=\"974.212\" r=\"14\" fill=\"#009af9\" fill-rule=\"evenodd\" fill-opacity=\"1\" stroke=\"#000000\" stroke-opacity=\"1\" stroke-width=\"3.2\"/>\n",
       "<circle clip-path=\"url(#clip362)\" cx=\"1831.03\" cy=\"1119.88\" r=\"14\" fill=\"#009af9\" fill-rule=\"evenodd\" fill-opacity=\"1\" stroke=\"#000000\" stroke-opacity=\"1\" stroke-width=\"3.2\"/>\n",
       "<circle clip-path=\"url(#clip362)\" cx=\"1872.87\" cy=\"1246.01\" r=\"14\" fill=\"#009af9\" fill-rule=\"evenodd\" fill-opacity=\"1\" stroke=\"#000000\" stroke-opacity=\"1\" stroke-width=\"3.2\"/>\n",
       "<circle clip-path=\"url(#clip362)\" cx=\"1914.7\" cy=\"1345.61\" r=\"14\" fill=\"#009af9\" fill-rule=\"evenodd\" fill-opacity=\"1\" stroke=\"#000000\" stroke-opacity=\"1\" stroke-width=\"3.2\"/>\n",
       "<circle clip-path=\"url(#clip362)\" cx=\"1956.54\" cy=\"1413.14\" r=\"14\" fill=\"#009af9\" fill-rule=\"evenodd\" fill-opacity=\"1\" stroke=\"#000000\" stroke-opacity=\"1\" stroke-width=\"3.2\"/>\n",
       "<circle clip-path=\"url(#clip362)\" cx=\"1998.38\" cy=\"1444.87\" r=\"14\" fill=\"#009af9\" fill-rule=\"evenodd\" fill-opacity=\"1\" stroke=\"#000000\" stroke-opacity=\"1\" stroke-width=\"3.2\"/>\n",
       "<circle clip-path=\"url(#clip362)\" cx=\"2040.22\" cy=\"1439.03\" r=\"14\" fill=\"#009af9\" fill-rule=\"evenodd\" fill-opacity=\"1\" stroke=\"#000000\" stroke-opacity=\"1\" stroke-width=\"3.2\"/>\n",
       "<circle clip-path=\"url(#clip362)\" cx=\"2082.06\" cy=\"1395.95\" r=\"14\" fill=\"#009af9\" fill-rule=\"evenodd\" fill-opacity=\"1\" stroke=\"#000000\" stroke-opacity=\"1\" stroke-width=\"3.2\"/>\n",
       "<circle clip-path=\"url(#clip362)\" cx=\"2123.9\" cy=\"1318.02\" r=\"14\" fill=\"#009af9\" fill-rule=\"evenodd\" fill-opacity=\"1\" stroke=\"#000000\" stroke-opacity=\"1\" stroke-width=\"3.2\"/>\n",
       "<circle clip-path=\"url(#clip362)\" cx=\"2165.74\" cy=\"1209.56\" r=\"14\" fill=\"#009af9\" fill-rule=\"evenodd\" fill-opacity=\"1\" stroke=\"#000000\" stroke-opacity=\"1\" stroke-width=\"3.2\"/>\n",
       "<circle clip-path=\"url(#clip362)\" cx=\"2207.58\" cy=\"1076.58\" r=\"14\" fill=\"#009af9\" fill-rule=\"evenodd\" fill-opacity=\"1\" stroke=\"#000000\" stroke-opacity=\"1\" stroke-width=\"3.2\"/>\n",
       "<circle clip-path=\"url(#clip362)\" cx=\"2249.41\" cy=\"926.467\" r=\"14\" fill=\"#009af9\" fill-rule=\"evenodd\" fill-opacity=\"1\" stroke=\"#000000\" stroke-opacity=\"1\" stroke-width=\"3.2\"/>\n",
       "<circle clip-path=\"url(#clip362)\" cx=\"2291.25\" cy=\"767.538\" r=\"14\" fill=\"#009af9\" fill-rule=\"evenodd\" fill-opacity=\"1\" stroke=\"#000000\" stroke-opacity=\"1\" stroke-width=\"3.2\"/>\n",
       "<path clip-path=\"url(#clip360)\" d=\"\n",
       "M1987.85 216.178 L2280.32 216.178 L2280.32 95.2176 L1987.85 95.2176  Z\n",
       "  \" fill=\"#ffffff\" fill-rule=\"evenodd\" fill-opacity=\"1\"/>\n",
       "<polyline clip-path=\"url(#clip360)\" style=\"stroke:#000000; stroke-width:4; stroke-opacity:1; fill:none\" points=\"\n",
       "  1987.85,216.178 2280.32,216.178 2280.32,95.2176 1987.85,95.2176 1987.85,216.178 \n",
       "  \"/>\n",
       "<polyline clip-path=\"url(#clip360)\" style=\"stroke:#009af9; stroke-width:4; stroke-opacity:1; fill:none\" points=\"\n",
       "  2011.99,155.698 2156.86,155.698 \n",
       "  \"/>\n",
       "<circle clip-path=\"url(#clip360)\" cx=\"2084.43\" cy=\"155.698\" r=\"23\" fill=\"#009af9\" fill-rule=\"evenodd\" fill-opacity=\"1\" stroke=\"#000000\" stroke-opacity=\"1\" stroke-width=\"5.12\"/>\n",
       "<path clip-path=\"url(#clip360)\" d=\"M 0 0 M2194.85 175.385 Q2193.05 180.015 2191.33 181.427 Q2189.62 182.839 2186.75 182.839 L2183.35 182.839 L2183.35 179.274 L2185.85 179.274 Q2187.61 179.274 2188.58 178.44 Q2189.55 177.607 2190.73 174.505 L2191.5 172.561 L2181.01 147.052 L2185.52 147.052 L2193.63 167.329 L2201.73 147.052 L2206.24 147.052 L2194.85 175.385 Z\" fill=\"#000000\" fill-rule=\"evenodd\" fill-opacity=\"1\" /><path clip-path=\"url(#clip360)\" d=\"M 0 0 M2212.12 169.042 L2219.76 169.042 L2219.76 142.677 L2211.45 144.343 L2211.45 140.084 L2219.71 138.418 L2224.39 138.418 L2224.39 169.042 L2232.03 169.042 L2232.03 172.978 L2212.12 172.978 L2212.12 169.042 Z\" fill=\"#000000\" fill-rule=\"evenodd\" fill-opacity=\"1\" /></svg>\n"
      ]
     },
     "execution_count": 86,
     "metadata": {},
     "output_type": "execute_result"
    }
   ],
   "source": [
    "plot(x, y, marker=:circle)"
   ]
  },
  {
   "cell_type": "code",
   "execution_count": 87,
   "metadata": {},
   "outputs": [
    {
     "data": {
      "image/svg+xml": [
       "<?xml version=\"1.0\" encoding=\"utf-8\"?>\n",
       "<svg xmlns=\"http://www.w3.org/2000/svg\" xmlns:xlink=\"http://www.w3.org/1999/xlink\" width=\"600\" height=\"400\" viewBox=\"0 0 2400 1600\">\n",
       "<defs>\n",
       "  <clipPath id=\"clip400\">\n",
       "    <rect x=\"0\" y=\"0\" width=\"2400\" height=\"1600\"/>\n",
       "  </clipPath>\n",
       "</defs>\n",
       "<path clip-path=\"url(#clip400)\" d=\"\n",
       "M0 1600 L2400 1600 L2400 0 L0 0  Z\n",
       "  \" fill=\"#ffffff\" fill-rule=\"evenodd\" fill-opacity=\"1\"/>\n",
       "<defs>\n",
       "  <clipPath id=\"clip401\">\n",
       "    <rect x=\"480\" y=\"0\" width=\"1681\" height=\"1600\"/>\n",
       "  </clipPath>\n",
       "</defs>\n",
       "<path clip-path=\"url(#clip400)\" d=\"\n",
       "M242.922 1423.18 L2352.76 1423.18 L2352.76 123.472 L242.922 123.472  Z\n",
       "  \" fill=\"#ffffff\" fill-rule=\"evenodd\" fill-opacity=\"1\"/>\n",
       "<defs>\n",
       "  <clipPath id=\"clip402\">\n",
       "    <rect x=\"242\" y=\"123\" width=\"2111\" height=\"1301\"/>\n",
       "  </clipPath>\n",
       "</defs>\n",
       "<polyline clip-path=\"url(#clip402)\" style=\"stroke:#000000; stroke-width:2; stroke-opacity:0.1; fill:none\" points=\"\n",
       "  560.763,1423.18 560.763,123.472 \n",
       "  \"/>\n",
       "<polyline clip-path=\"url(#clip402)\" style=\"stroke:#000000; stroke-width:2; stroke-opacity:0.1; fill:none\" points=\"\n",
       "  990.978,1423.18 990.978,123.472 \n",
       "  \"/>\n",
       "<polyline clip-path=\"url(#clip402)\" style=\"stroke:#000000; stroke-width:2; stroke-opacity:0.1; fill:none\" points=\"\n",
       "  1421.19,1423.18 1421.19,123.472 \n",
       "  \"/>\n",
       "<polyline clip-path=\"url(#clip402)\" style=\"stroke:#000000; stroke-width:2; stroke-opacity:0.1; fill:none\" points=\"\n",
       "  1851.41,1423.18 1851.41,123.472 \n",
       "  \"/>\n",
       "<polyline clip-path=\"url(#clip402)\" style=\"stroke:#000000; stroke-width:2; stroke-opacity:0.1; fill:none\" points=\"\n",
       "  2281.62,1423.18 2281.62,123.472 \n",
       "  \"/>\n",
       "<polyline clip-path=\"url(#clip400)\" style=\"stroke:#000000; stroke-width:4; stroke-opacity:1; fill:none\" points=\"\n",
       "  242.922,1423.18 2352.76,1423.18 \n",
       "  \"/>\n",
       "<polyline clip-path=\"url(#clip400)\" style=\"stroke:#000000; stroke-width:4; stroke-opacity:1; fill:none\" points=\"\n",
       "  560.763,1423.18 560.763,1407.58 \n",
       "  \"/>\n",
       "<polyline clip-path=\"url(#clip400)\" style=\"stroke:#000000; stroke-width:4; stroke-opacity:1; fill:none\" points=\"\n",
       "  990.978,1423.18 990.978,1407.58 \n",
       "  \"/>\n",
       "<polyline clip-path=\"url(#clip400)\" style=\"stroke:#000000; stroke-width:4; stroke-opacity:1; fill:none\" points=\"\n",
       "  1421.19,1423.18 1421.19,1407.58 \n",
       "  \"/>\n",
       "<polyline clip-path=\"url(#clip400)\" style=\"stroke:#000000; stroke-width:4; stroke-opacity:1; fill:none\" points=\"\n",
       "  1851.41,1423.18 1851.41,1407.58 \n",
       "  \"/>\n",
       "<polyline clip-path=\"url(#clip400)\" style=\"stroke:#000000; stroke-width:4; stroke-opacity:1; fill:none\" points=\"\n",
       "  2281.62,1423.18 2281.62,1407.58 \n",
       "  \"/>\n",
       "<path clip-path=\"url(#clip400)\" d=\"M 0 0 M537.43 1479.92 L553.749 1479.92 L553.749 1483.85 L531.805 1483.85 L531.805 1479.92 Q534.467 1477.16 539.05 1472.53 Q543.656 1467.88 544.837 1466.54 Q547.082 1464.01 547.962 1462.28 Q548.865 1460.52 548.865 1458.83 Q548.865 1456.07 546.92 1454.34 Q544.999 1452.6 541.897 1452.6 Q539.698 1452.6 537.244 1453.37 Q534.814 1454.13 532.036 1455.68 L532.036 1450.96 Q534.86 1449.82 537.314 1449.25 Q539.768 1448.67 541.805 1448.67 Q547.175 1448.67 550.369 1451.35 Q553.564 1454.04 553.564 1458.53 Q553.564 1460.66 552.754 1462.58 Q551.967 1464.48 549.86 1467.07 Q549.281 1467.74 546.18 1470.96 Q543.078 1474.15 537.43 1479.92 Z\" fill=\"#000000\" fill-rule=\"evenodd\" fill-opacity=\"1\" /><path clip-path=\"url(#clip400)\" d=\"M 0 0 M558.818 1477.97 L563.703 1477.97 L563.703 1483.85 L558.818 1483.85 L558.818 1477.97 Z\" fill=\"#000000\" fill-rule=\"evenodd\" fill-opacity=\"1\" /><path clip-path=\"url(#clip400)\" d=\"M 0 0 M568.818 1449.29 L587.175 1449.29 L587.175 1453.23 L573.101 1453.23 L573.101 1461.7 Q574.119 1461.35 575.138 1461.19 Q576.156 1461 577.175 1461 Q582.962 1461 586.341 1464.18 Q589.721 1467.35 589.721 1472.76 Q589.721 1478.34 586.249 1481.44 Q582.777 1484.52 576.457 1484.52 Q574.281 1484.52 572.013 1484.15 Q569.767 1483.78 567.36 1483.04 L567.36 1478.34 Q569.443 1479.48 571.666 1480.03 Q573.888 1480.59 576.365 1480.59 Q580.369 1480.59 582.707 1478.48 Q585.045 1476.38 585.045 1472.76 Q585.045 1469.15 582.707 1467.05 Q580.369 1464.94 576.365 1464.94 Q574.49 1464.94 572.615 1465.36 Q570.763 1465.77 568.818 1466.65 L568.818 1449.29 Z\" fill=\"#000000\" fill-rule=\"evenodd\" fill-opacity=\"1\" /><path clip-path=\"url(#clip400)\" d=\"M 0 0 M962.772 1449.29 L981.128 1449.29 L981.128 1453.23 L967.054 1453.23 L967.054 1461.7 Q968.073 1461.35 969.091 1461.19 Q970.11 1461 971.128 1461 Q976.915 1461 980.295 1464.18 Q983.675 1467.35 983.675 1472.76 Q983.675 1478.34 980.202 1481.44 Q976.73 1484.52 970.411 1484.52 Q968.235 1484.52 965.966 1484.15 Q963.721 1483.78 961.314 1483.04 L961.314 1478.34 Q963.397 1479.48 965.619 1480.03 Q967.841 1480.59 970.318 1480.59 Q974.323 1480.59 976.661 1478.48 Q978.999 1476.38 978.999 1472.76 Q978.999 1469.15 976.661 1467.05 Q974.323 1464.94 970.318 1464.94 Q968.443 1464.94 966.568 1465.36 Q964.716 1465.77 962.772 1466.65 L962.772 1449.29 Z\" fill=\"#000000\" fill-rule=\"evenodd\" fill-opacity=\"1\" /><path clip-path=\"url(#clip400)\" d=\"M 0 0 M988.744 1477.97 L993.628 1477.97 L993.628 1483.85 L988.744 1483.85 L988.744 1477.97 Z\" fill=\"#000000\" fill-rule=\"evenodd\" fill-opacity=\"1\" /><path clip-path=\"url(#clip400)\" d=\"M 0 0 M1008.7 1452.37 Q1005.09 1452.37 1003.26 1455.94 Q1001.45 1459.48 1001.45 1466.61 Q1001.45 1473.71 1003.26 1477.28 Q1005.09 1480.82 1008.7 1480.82 Q1012.33 1480.82 1014.14 1477.28 Q1015.97 1473.71 1015.97 1466.61 Q1015.97 1459.48 1014.14 1455.94 Q1012.33 1452.37 1008.7 1452.37 M1008.7 1448.67 Q1014.51 1448.67 1017.56 1453.27 Q1020.64 1457.86 1020.64 1466.61 Q1020.64 1475.33 1017.56 1479.94 Q1014.51 1484.52 1008.7 1484.52 Q1002.89 1484.52 999.809 1479.94 Q996.753 1475.33 996.753 1466.61 Q996.753 1457.86 999.809 1453.27 Q1002.89 1448.67 1008.7 1448.67 Z\" fill=\"#000000\" fill-rule=\"evenodd\" fill-opacity=\"1\" /><path clip-path=\"url(#clip400)\" d=\"M 0 0 M1392.1 1449.29 L1414.32 1449.29 L1414.32 1451.28 L1401.77 1483.85 L1396.89 1483.85 L1408.69 1453.23 L1392.1 1453.23 L1392.1 1449.29 Z\" fill=\"#000000\" fill-rule=\"evenodd\" fill-opacity=\"1\" /><path clip-path=\"url(#clip400)\" d=\"M 0 0 M1419.39 1477.97 L1424.27 1477.97 L1424.27 1483.85 L1419.39 1483.85 L1419.39 1477.97 Z\" fill=\"#000000\" fill-rule=\"evenodd\" fill-opacity=\"1\" /><path clip-path=\"url(#clip400)\" d=\"M 0 0 M1429.39 1449.29 L1447.74 1449.29 L1447.74 1453.23 L1433.67 1453.23 L1433.67 1461.7 Q1434.69 1461.35 1435.71 1461.19 Q1436.72 1461 1437.74 1461 Q1443.53 1461 1446.91 1464.18 Q1450.29 1467.35 1450.29 1472.76 Q1450.29 1478.34 1446.82 1481.44 Q1443.35 1484.52 1437.03 1484.52 Q1434.85 1484.52 1432.58 1484.15 Q1430.34 1483.78 1427.93 1483.04 L1427.93 1478.34 Q1430.01 1479.48 1432.23 1480.03 Q1434.46 1480.59 1436.93 1480.59 Q1440.94 1480.59 1443.28 1478.48 Q1445.61 1476.38 1445.61 1472.76 Q1445.61 1469.15 1443.28 1467.05 Q1440.94 1464.94 1436.93 1464.94 Q1435.06 1464.94 1433.18 1465.36 Q1431.33 1465.77 1429.39 1466.65 L1429.39 1449.29 Z\" fill=\"#000000\" fill-rule=\"evenodd\" fill-opacity=\"1\" /><path clip-path=\"url(#clip400)\" d=\"M 0 0 M1809.8 1479.92 L1817.44 1479.92 L1817.44 1453.55 L1809.13 1455.22 L1809.13 1450.96 L1817.39 1449.29 L1822.07 1449.29 L1822.07 1479.92 L1829.71 1479.92 L1829.71 1483.85 L1809.8 1483.85 L1809.8 1479.92 Z\" fill=\"#000000\" fill-rule=\"evenodd\" fill-opacity=\"1\" /><path clip-path=\"url(#clip400)\" d=\"M 0 0 M1844.78 1452.37 Q1841.16 1452.37 1839.34 1455.94 Q1837.53 1459.48 1837.53 1466.61 Q1837.53 1473.71 1839.34 1477.28 Q1841.16 1480.82 1844.78 1480.82 Q1848.41 1480.82 1850.22 1477.28 Q1852.04 1473.71 1852.04 1466.61 Q1852.04 1459.48 1850.22 1455.94 Q1848.41 1452.37 1844.78 1452.37 M1844.78 1448.67 Q1850.59 1448.67 1853.64 1453.27 Q1856.72 1457.86 1856.72 1466.61 Q1856.72 1475.33 1853.64 1479.94 Q1850.59 1484.52 1844.78 1484.52 Q1838.97 1484.52 1835.89 1479.94 Q1832.83 1475.33 1832.83 1466.61 Q1832.83 1457.86 1835.89 1453.27 Q1838.97 1448.67 1844.78 1448.67 Z\" fill=\"#000000\" fill-rule=\"evenodd\" fill-opacity=\"1\" /><path clip-path=\"url(#clip400)\" d=\"M 0 0 M1861.79 1477.97 L1866.67 1477.97 L1866.67 1483.85 L1861.79 1483.85 L1861.79 1477.97 Z\" fill=\"#000000\" fill-rule=\"evenodd\" fill-opacity=\"1\" /><path clip-path=\"url(#clip400)\" d=\"M 0 0 M1881.74 1452.37 Q1878.13 1452.37 1876.3 1455.94 Q1874.5 1459.48 1874.5 1466.61 Q1874.5 1473.71 1876.3 1477.28 Q1878.13 1480.82 1881.74 1480.82 Q1885.38 1480.82 1887.18 1477.28 Q1889.01 1473.71 1889.01 1466.61 Q1889.01 1459.48 1887.18 1455.94 Q1885.38 1452.37 1881.74 1452.37 M1881.74 1448.67 Q1887.55 1448.67 1890.61 1453.27 Q1893.69 1457.86 1893.69 1466.61 Q1893.69 1475.33 1890.61 1479.94 Q1887.55 1484.52 1881.74 1484.52 Q1875.93 1484.52 1872.85 1479.94 Q1869.8 1475.33 1869.8 1466.61 Q1869.8 1457.86 1872.85 1453.27 Q1875.93 1448.67 1881.74 1448.67 Z\" fill=\"#000000\" fill-rule=\"evenodd\" fill-opacity=\"1\" /><path clip-path=\"url(#clip400)\" d=\"M 0 0 M2241.31 1479.92 L2248.95 1479.92 L2248.95 1453.55 L2240.64 1455.22 L2240.64 1450.96 L2248.9 1449.29 L2253.58 1449.29 L2253.58 1479.92 L2261.22 1479.92 L2261.22 1483.85 L2241.31 1483.85 L2241.31 1479.92 Z\" fill=\"#000000\" fill-rule=\"evenodd\" fill-opacity=\"1\" /><path clip-path=\"url(#clip400)\" d=\"M 0 0 M2270.31 1479.92 L2286.63 1479.92 L2286.63 1483.85 L2264.69 1483.85 L2264.69 1479.92 Q2267.35 1477.16 2271.93 1472.53 Q2276.54 1467.88 2277.72 1466.54 Q2279.97 1464.01 2280.85 1462.28 Q2281.75 1460.52 2281.75 1458.83 Q2281.75 1456.07 2279.81 1454.34 Q2277.88 1452.6 2274.78 1452.6 Q2272.58 1452.6 2270.13 1453.37 Q2267.7 1454.13 2264.92 1455.68 L2264.92 1450.96 Q2267.74 1449.82 2270.2 1449.25 Q2272.65 1448.67 2274.69 1448.67 Q2280.06 1448.67 2283.25 1451.35 Q2286.45 1454.04 2286.45 1458.53 Q2286.45 1460.66 2285.64 1462.58 Q2284.85 1464.48 2282.74 1467.07 Q2282.17 1467.74 2279.06 1470.96 Q2275.96 1474.15 2270.31 1479.92 Z\" fill=\"#000000\" fill-rule=\"evenodd\" fill-opacity=\"1\" /><path clip-path=\"url(#clip400)\" d=\"M 0 0 M2291.7 1477.97 L2296.59 1477.97 L2296.59 1483.85 L2291.7 1483.85 L2291.7 1477.97 Z\" fill=\"#000000\" fill-rule=\"evenodd\" fill-opacity=\"1\" /><path clip-path=\"url(#clip400)\" d=\"M 0 0 M2301.7 1449.29 L2320.06 1449.29 L2320.06 1453.23 L2305.99 1453.23 L2305.99 1461.7 Q2307 1461.35 2308.02 1461.19 Q2309.04 1461 2310.06 1461 Q2315.85 1461 2319.23 1464.18 Q2322.61 1467.35 2322.61 1472.76 Q2322.61 1478.34 2319.13 1481.44 Q2315.66 1484.52 2309.34 1484.52 Q2307.17 1484.52 2304.9 1484.15 Q2302.65 1483.78 2300.24 1483.04 L2300.24 1478.34 Q2302.33 1479.48 2304.55 1480.03 Q2306.77 1480.59 2309.25 1480.59 Q2313.25 1480.59 2315.59 1478.48 Q2317.93 1476.38 2317.93 1472.76 Q2317.93 1469.15 2315.59 1467.05 Q2313.25 1464.94 2309.25 1464.94 Q2307.37 1464.94 2305.5 1465.36 Q2303.65 1465.77 2301.7 1466.65 L2301.7 1449.29 Z\" fill=\"#000000\" fill-rule=\"evenodd\" fill-opacity=\"1\" /><path clip-path=\"url(#clip400)\" d=\"M 0 0 M1160.16 1522.27 L1160.16 1532.4 L1172.23 1532.4 L1172.23 1536.95 L1160.16 1536.95 L1160.16 1556.3 Q1160.16 1560.66 1161.34 1561.9 Q1162.55 1563.14 1166.21 1563.14 L1172.23 1563.14 L1172.23 1568.04 L1166.21 1568.04 Q1159.43 1568.04 1156.85 1565.53 Q1154.28 1562.98 1154.28 1556.3 L1154.28 1536.95 L1149.98 1536.95 L1149.98 1532.4 L1154.28 1532.4 L1154.28 1522.27 L1160.16 1522.27 Z\" fill=\"#000000\" fill-rule=\"evenodd\" fill-opacity=\"1\" /><path clip-path=\"url(#clip400)\" d=\"M 0 0 M1178.37 1532.4 L1184.23 1532.4 L1184.23 1568.04 L1178.37 1568.04 L1178.37 1532.4 M1178.37 1518.52 L1184.23 1518.52 L1184.23 1525.93 L1178.37 1525.93 L1178.37 1518.52 Z\" fill=\"#000000\" fill-rule=\"evenodd\" fill-opacity=\"1\" /><path clip-path=\"url(#clip400)\" d=\"M 0 0 M1218.12 1539.24 Q1220.32 1535.29 1223.38 1533.41 Q1226.43 1531.54 1230.57 1531.54 Q1236.14 1531.54 1239.16 1535.45 Q1242.19 1539.33 1242.19 1546.53 L1242.19 1568.04 L1236.3 1568.04 L1236.3 1546.72 Q1236.3 1541.59 1234.48 1539.11 Q1232.67 1536.63 1228.95 1536.63 Q1224.39 1536.63 1221.75 1539.65 Q1219.11 1542.68 1219.11 1547.9 L1219.11 1568.04 L1213.22 1568.04 L1213.22 1546.72 Q1213.22 1541.56 1211.41 1539.11 Q1209.59 1536.63 1205.81 1536.63 Q1201.32 1536.63 1198.68 1539.68 Q1196.04 1542.71 1196.04 1547.9 L1196.04 1568.04 L1190.15 1568.04 L1190.15 1532.4 L1196.04 1532.4 L1196.04 1537.93 Q1198.04 1534.66 1200.84 1533.1 Q1203.64 1531.54 1207.49 1531.54 Q1211.38 1531.54 1214.08 1533.51 Q1216.82 1535.48 1218.12 1539.24 Z\" fill=\"#000000\" fill-rule=\"evenodd\" fill-opacity=\"1\" /><path clip-path=\"url(#clip400)\" d=\"M 0 0 M1278.82 1548.76 L1278.82 1551.62 L1251.89 1551.62 Q1252.28 1557.67 1255.52 1560.85 Q1258.8 1564 1264.63 1564 Q1268 1564 1271.15 1563.17 Q1274.33 1562.35 1277.45 1560.69 L1277.45 1566.23 Q1274.3 1567.57 1270.99 1568.27 Q1267.68 1568.97 1264.28 1568.97 Q1255.75 1568.97 1250.75 1564 Q1245.78 1559.04 1245.78 1550.57 Q1245.78 1541.82 1250.49 1536.69 Q1255.24 1531.54 1263.26 1531.54 Q1270.45 1531.54 1274.62 1536.18 Q1278.82 1540.8 1278.82 1548.76 M1272.96 1547.04 Q1272.9 1542.23 1270.26 1539.37 Q1267.65 1536.5 1263.32 1536.5 Q1258.42 1536.5 1255.46 1539.27 Q1252.53 1542.04 1252.09 1547.07 L1272.96 1547.04 Z\" fill=\"#000000\" fill-rule=\"evenodd\" fill-opacity=\"1\" /><path clip-path=\"url(#clip400)\" d=\"M 0 0 M1319.75 1518.58 Q1315.49 1525.9 1313.42 1533.06 Q1311.35 1540.23 1311.35 1547.58 Q1311.35 1554.93 1313.42 1562.16 Q1315.52 1569.35 1319.75 1576.64 L1314.66 1576.64 Q1309.89 1569.16 1307.5 1561.93 Q1305.14 1554.71 1305.14 1547.58 Q1305.14 1540.48 1307.5 1533.29 Q1309.85 1526.09 1314.66 1518.58 L1319.75 1518.58 Z\" fill=\"#000000\" fill-rule=\"evenodd\" fill-opacity=\"1\" /><path clip-path=\"url(#clip400)\" d=\"M 0 0 M1349.35 1537.81 L1349.35 1518.52 L1355.21 1518.52 L1355.21 1568.04 L1349.35 1568.04 L1349.35 1562.7 Q1347.51 1565.88 1344.67 1567.44 Q1341.87 1568.97 1337.93 1568.97 Q1331.47 1568.97 1327.39 1563.81 Q1323.35 1558.65 1323.35 1550.25 Q1323.35 1541.85 1327.39 1536.69 Q1331.47 1531.54 1337.93 1531.54 Q1341.87 1531.54 1344.67 1533.1 Q1347.51 1534.62 1349.35 1537.81 M1329.4 1550.25 Q1329.4 1556.71 1332.04 1560.4 Q1334.71 1564.07 1339.36 1564.07 Q1344.01 1564.07 1346.68 1560.4 Q1349.35 1556.71 1349.35 1550.25 Q1349.35 1543.79 1346.68 1540.13 Q1344.01 1536.44 1339.36 1536.44 Q1334.71 1536.44 1332.04 1540.13 Q1329.4 1543.79 1329.4 1550.25 Z\" fill=\"#000000\" fill-rule=\"evenodd\" fill-opacity=\"1\" /><path clip-path=\"url(#clip400)\" d=\"M 0 0 M1377.55 1550.12 Q1370.46 1550.12 1367.72 1551.75 Q1364.98 1553.37 1364.98 1557.29 Q1364.98 1560.4 1367.02 1562.25 Q1369.09 1564.07 1372.62 1564.07 Q1377.49 1564.07 1380.42 1560.63 Q1383.38 1557.16 1383.38 1551.43 L1383.38 1550.12 L1377.55 1550.12 M1389.23 1547.71 L1389.23 1568.04 L1383.38 1568.04 L1383.38 1562.63 Q1381.37 1565.88 1378.38 1567.44 Q1375.39 1568.97 1371.06 1568.97 Q1365.59 1568.97 1362.34 1565.91 Q1359.12 1562.82 1359.12 1557.67 Q1359.12 1551.65 1363.14 1548.6 Q1367.18 1545.54 1375.17 1545.54 L1383.38 1545.54 L1383.38 1544.97 Q1383.38 1540.93 1380.7 1538.73 Q1378.06 1536.5 1373.26 1536.5 Q1370.2 1536.5 1367.3 1537.23 Q1364.41 1537.97 1361.73 1539.43 L1361.73 1534.02 Q1364.95 1532.78 1367.97 1532.17 Q1371 1531.54 1373.86 1531.54 Q1381.6 1531.54 1385.42 1535.55 Q1389.23 1539.56 1389.23 1547.71 Z\" fill=\"#000000\" fill-rule=\"evenodd\" fill-opacity=\"1\" /><path clip-path=\"url(#clip400)\" d=\"M 0 0 M1410.21 1571.35 Q1407.73 1577.72 1405.37 1579.66 Q1403.02 1581.6 1399.07 1581.6 L1394.39 1581.6 L1394.39 1576.7 L1397.83 1576.7 Q1400.25 1576.7 1401.58 1575.56 Q1402.92 1574.41 1404.54 1570.14 L1405.59 1567.47 L1391.18 1532.4 L1397.38 1532.4 L1408.52 1560.28 L1419.66 1532.4 L1425.87 1532.4 L1410.21 1571.35 Z\" fill=\"#000000\" fill-rule=\"evenodd\" fill-opacity=\"1\" /><path clip-path=\"url(#clip400)\" d=\"M 0 0 M1431.09 1518.58 L1436.18 1518.58 Q1440.96 1526.09 1443.31 1533.29 Q1445.7 1540.48 1445.7 1547.58 Q1445.7 1554.71 1443.31 1561.93 Q1440.96 1569.16 1436.18 1576.64 L1431.09 1576.64 Q1435.32 1569.35 1437.39 1562.16 Q1439.49 1554.93 1439.49 1547.58 Q1439.49 1540.23 1437.39 1533.06 Q1435.32 1525.9 1431.09 1518.58 Z\" fill=\"#000000\" fill-rule=\"evenodd\" fill-opacity=\"1\" /><polyline clip-path=\"url(#clip402)\" style=\"stroke:#000000; stroke-width:2; stroke-opacity:0.1; fill:none\" points=\"\n",
       "  242.922,1387.67 2352.76,1387.67 \n",
       "  \"/>\n",
       "<polyline clip-path=\"url(#clip402)\" style=\"stroke:#000000; stroke-width:2; stroke-opacity:0.1; fill:none\" points=\"\n",
       "  242.922,1080.81 2352.76,1080.81 \n",
       "  \"/>\n",
       "<polyline clip-path=\"url(#clip402)\" style=\"stroke:#000000; stroke-width:2; stroke-opacity:0.1; fill:none\" points=\"\n",
       "  242.922,773.951 2352.76,773.951 \n",
       "  \"/>\n",
       "<polyline clip-path=\"url(#clip402)\" style=\"stroke:#000000; stroke-width:2; stroke-opacity:0.1; fill:none\" points=\"\n",
       "  242.922,467.092 2352.76,467.092 \n",
       "  \"/>\n",
       "<polyline clip-path=\"url(#clip402)\" style=\"stroke:#000000; stroke-width:2; stroke-opacity:0.1; fill:none\" points=\"\n",
       "  242.922,160.234 2352.76,160.234 \n",
       "  \"/>\n",
       "<polyline clip-path=\"url(#clip400)\" style=\"stroke:#000000; stroke-width:4; stroke-opacity:1; fill:none\" points=\"\n",
       "  242.922,1423.18 242.922,123.472 \n",
       "  \"/>\n",
       "<polyline clip-path=\"url(#clip400)\" style=\"stroke:#000000; stroke-width:4; stroke-opacity:1; fill:none\" points=\"\n",
       "  242.922,1387.67 268.24,1387.67 \n",
       "  \"/>\n",
       "<polyline clip-path=\"url(#clip400)\" style=\"stroke:#000000; stroke-width:4; stroke-opacity:1; fill:none\" points=\"\n",
       "  242.922,1080.81 268.24,1080.81 \n",
       "  \"/>\n",
       "<polyline clip-path=\"url(#clip400)\" style=\"stroke:#000000; stroke-width:4; stroke-opacity:1; fill:none\" points=\"\n",
       "  242.922,773.951 268.24,773.951 \n",
       "  \"/>\n",
       "<polyline clip-path=\"url(#clip400)\" style=\"stroke:#000000; stroke-width:4; stroke-opacity:1; fill:none\" points=\"\n",
       "  242.922,467.092 268.24,467.092 \n",
       "  \"/>\n",
       "<polyline clip-path=\"url(#clip400)\" style=\"stroke:#000000; stroke-width:4; stroke-opacity:1; fill:none\" points=\"\n",
       "  242.922,160.234 268.24,160.234 \n",
       "  \"/>\n",
       "<path clip-path=\"url(#clip400)\" d=\"M 0 0 M114.492 1388.12 L144.167 1388.12 L144.167 1392.05 L114.492 1392.05 L114.492 1388.12 Z\" fill=\"#000000\" fill-rule=\"evenodd\" fill-opacity=\"1\" /><path clip-path=\"url(#clip400)\" d=\"M 0 0 M150.047 1401.01 L157.686 1401.01 L157.686 1374.65 L149.376 1376.31 L149.376 1372.05 L157.64 1370.39 L162.315 1370.39 L162.315 1401.01 L169.954 1401.01 L169.954 1404.95 L150.047 1404.95 L150.047 1401.01 Z\" fill=\"#000000\" fill-rule=\"evenodd\" fill-opacity=\"1\" /><path clip-path=\"url(#clip400)\" d=\"M 0 0 M175.024 1399.07 L179.908 1399.07 L179.908 1404.95 L175.024 1404.95 L175.024 1399.07 Z\" fill=\"#000000\" fill-rule=\"evenodd\" fill-opacity=\"1\" /><path clip-path=\"url(#clip400)\" d=\"M 0 0 M194.977 1373.47 Q191.366 1373.47 189.538 1377.03 Q187.732 1380.57 187.732 1387.7 Q187.732 1394.81 189.538 1398.37 Q191.366 1401.91 194.977 1401.91 Q198.612 1401.91 200.417 1398.37 Q202.246 1394.81 202.246 1387.7 Q202.246 1380.57 200.417 1377.03 Q198.612 1373.47 194.977 1373.47 M194.977 1369.76 Q200.787 1369.76 203.843 1374.37 Q206.922 1378.95 206.922 1387.7 Q206.922 1396.43 203.843 1401.04 Q200.787 1405.62 194.977 1405.62 Q189.167 1405.62 186.088 1401.04 Q183.033 1396.43 183.033 1387.7 Q183.033 1378.95 186.088 1374.37 Q189.167 1369.76 194.977 1369.76 Z\" fill=\"#000000\" fill-rule=\"evenodd\" fill-opacity=\"1\" /><path clip-path=\"url(#clip400)\" d=\"M 0 0 M114.26 1081.26 L143.936 1081.26 L143.936 1085.2 L114.26 1085.2 L114.26 1081.26 Z\" fill=\"#000000\" fill-rule=\"evenodd\" fill-opacity=\"1\" /><path clip-path=\"url(#clip400)\" d=\"M 0 0 M159.005 1066.61 Q155.394 1066.61 153.566 1070.17 Q151.76 1073.71 151.76 1080.84 Q151.76 1087.95 153.566 1091.51 Q155.394 1095.06 159.005 1095.06 Q162.64 1095.06 164.445 1091.51 Q166.274 1087.95 166.274 1080.84 Q166.274 1073.71 164.445 1070.17 Q162.64 1066.61 159.005 1066.61 M159.005 1062.9 Q164.815 1062.9 167.871 1067.51 Q170.95 1072.09 170.95 1080.84 Q170.95 1089.57 167.871 1094.18 Q164.815 1098.76 159.005 1098.76 Q153.195 1098.76 150.116 1094.18 Q147.061 1089.57 147.061 1080.84 Q147.061 1072.09 150.116 1067.51 Q153.195 1062.9 159.005 1062.9 Z\" fill=\"#000000\" fill-rule=\"evenodd\" fill-opacity=\"1\" /><path clip-path=\"url(#clip400)\" d=\"M 0 0 M176.019 1092.21 L180.903 1092.21 L180.903 1098.09 L176.019 1098.09 L176.019 1092.21 Z\" fill=\"#000000\" fill-rule=\"evenodd\" fill-opacity=\"1\" /><path clip-path=\"url(#clip400)\" d=\"M 0 0 M186.019 1063.53 L204.375 1063.53 L204.375 1067.46 L190.301 1067.46 L190.301 1075.94 Q191.32 1075.59 192.338 1075.43 Q193.357 1075.24 194.375 1075.24 Q200.162 1075.24 203.542 1078.41 Q206.922 1081.58 206.922 1087 Q206.922 1092.58 203.449 1095.68 Q199.977 1098.76 193.658 1098.76 Q191.482 1098.76 189.213 1098.39 Q186.968 1098.02 184.561 1097.28 L184.561 1092.58 Q186.644 1093.71 188.866 1094.27 Q191.088 1094.83 193.565 1094.83 Q197.57 1094.83 199.908 1092.72 Q202.246 1090.61 202.246 1087 Q202.246 1083.39 199.908 1081.28 Q197.57 1079.18 193.565 1079.18 Q191.69 1079.18 189.815 1079.59 Q187.963 1080.01 186.019 1080.89 L186.019 1063.53 Z\" fill=\"#000000\" fill-rule=\"evenodd\" fill-opacity=\"1\" /><path clip-path=\"url(#clip400)\" d=\"M 0 0 M158.01 759.749 Q154.399 759.749 152.57 763.314 Q150.765 766.856 150.765 773.985 Q150.765 781.092 152.57 784.656 Q154.399 788.198 158.01 788.198 Q161.644 788.198 163.45 784.656 Q165.278 781.092 165.278 773.985 Q165.278 766.856 163.45 763.314 Q161.644 759.749 158.01 759.749 M158.01 756.046 Q163.82 756.046 166.876 760.652 Q169.954 765.235 169.954 773.985 Q169.954 782.712 166.876 787.318 Q163.82 791.902 158.01 791.902 Q152.2 791.902 149.121 787.318 Q146.066 782.712 146.066 773.985 Q146.066 765.235 149.121 760.652 Q152.2 756.046 158.01 756.046 Z\" fill=\"#000000\" fill-rule=\"evenodd\" fill-opacity=\"1\" /><path clip-path=\"url(#clip400)\" d=\"M 0 0 M175.024 785.351 L179.908 785.351 L179.908 791.231 L175.024 791.231 L175.024 785.351 Z\" fill=\"#000000\" fill-rule=\"evenodd\" fill-opacity=\"1\" /><path clip-path=\"url(#clip400)\" d=\"M 0 0 M194.977 759.749 Q191.366 759.749 189.538 763.314 Q187.732 766.856 187.732 773.985 Q187.732 781.092 189.538 784.656 Q191.366 788.198 194.977 788.198 Q198.612 788.198 200.417 784.656 Q202.246 781.092 202.246 773.985 Q202.246 766.856 200.417 763.314 Q198.612 759.749 194.977 759.749 M194.977 756.046 Q200.787 756.046 203.843 760.652 Q206.922 765.235 206.922 773.985 Q206.922 782.712 203.843 787.318 Q200.787 791.902 194.977 791.902 Q189.167 791.902 186.088 787.318 Q183.033 782.712 183.033 773.985 Q183.033 765.235 186.088 760.652 Q189.167 756.046 194.977 756.046 Z\" fill=\"#000000\" fill-rule=\"evenodd\" fill-opacity=\"1\" /><path clip-path=\"url(#clip400)\" d=\"M 0 0 M159.005 452.891 Q155.394 452.891 153.566 456.456 Q151.76 459.997 151.76 467.127 Q151.76 474.233 153.566 477.798 Q155.394 481.34 159.005 481.34 Q162.64 481.34 164.445 477.798 Q166.274 474.233 166.274 467.127 Q166.274 459.997 164.445 456.456 Q162.64 452.891 159.005 452.891 M159.005 449.187 Q164.815 449.187 167.871 453.794 Q170.95 458.377 170.95 467.127 Q170.95 475.854 167.871 480.46 Q164.815 485.043 159.005 485.043 Q153.195 485.043 150.116 480.46 Q147.061 475.854 147.061 467.127 Q147.061 458.377 150.116 453.794 Q153.195 449.187 159.005 449.187 Z\" fill=\"#000000\" fill-rule=\"evenodd\" fill-opacity=\"1\" /><path clip-path=\"url(#clip400)\" d=\"M 0 0 M176.019 478.493 L180.903 478.493 L180.903 484.372 L176.019 484.372 L176.019 478.493 Z\" fill=\"#000000\" fill-rule=\"evenodd\" fill-opacity=\"1\" /><path clip-path=\"url(#clip400)\" d=\"M 0 0 M186.019 449.812 L204.375 449.812 L204.375 453.747 L190.301 453.747 L190.301 462.219 Q191.32 461.872 192.338 461.71 Q193.357 461.525 194.375 461.525 Q200.162 461.525 203.542 464.696 Q206.922 467.868 206.922 473.284 Q206.922 478.863 203.449 481.965 Q199.977 485.043 193.658 485.043 Q191.482 485.043 189.213 484.673 Q186.968 484.303 184.561 483.562 L184.561 478.863 Q186.644 479.997 188.866 480.553 Q191.088 481.108 193.565 481.108 Q197.57 481.108 199.908 479.002 Q202.246 476.895 202.246 473.284 Q202.246 469.673 199.908 467.567 Q197.57 465.46 193.565 465.46 Q191.69 465.46 189.815 465.877 Q187.963 466.294 186.019 467.173 L186.019 449.812 Z\" fill=\"#000000\" fill-rule=\"evenodd\" fill-opacity=\"1\" /><path clip-path=\"url(#clip400)\" d=\"M 0 0 M150.047 173.579 L157.686 173.579 L157.686 147.213 L149.376 148.88 L149.376 144.62 L157.64 142.954 L162.315 142.954 L162.315 173.579 L169.954 173.579 L169.954 177.514 L150.047 177.514 L150.047 173.579 Z\" fill=\"#000000\" fill-rule=\"evenodd\" fill-opacity=\"1\" /><path clip-path=\"url(#clip400)\" d=\"M 0 0 M175.024 171.634 L179.908 171.634 L179.908 177.514 L175.024 177.514 L175.024 171.634 Z\" fill=\"#000000\" fill-rule=\"evenodd\" fill-opacity=\"1\" /><path clip-path=\"url(#clip400)\" d=\"M 0 0 M194.977 146.032 Q191.366 146.032 189.538 149.597 Q187.732 153.139 187.732 160.268 Q187.732 167.375 189.538 170.94 Q191.366 174.481 194.977 174.481 Q198.612 174.481 200.417 170.94 Q202.246 167.375 202.246 160.268 Q202.246 153.139 200.417 149.597 Q198.612 146.032 194.977 146.032 M194.977 142.329 Q200.787 142.329 203.843 146.935 Q206.922 151.518 206.922 160.268 Q206.922 168.995 203.843 173.602 Q200.787 178.185 194.977 178.185 Q189.167 178.185 186.088 173.602 Q183.033 168.995 183.033 160.268 Q183.033 151.518 186.088 146.935 Q189.167 142.329 194.977 142.329 Z\" fill=\"#000000\" fill-rule=\"evenodd\" fill-opacity=\"1\" /><path clip-path=\"url(#clip400)\" d=\"M 0 0 M33.8307 1144.22 Q33.2578 1145.21 33.0032 1146.39 Q32.7167 1147.53 32.7167 1148.93 Q32.7167 1153.9 35.9632 1156.57 Q39.1779 1159.22 45.2253 1159.22 L64.0042 1159.22 L64.0042 1165.1 L28.3562 1165.1 L28.3562 1159.22 L33.8944 1159.22 Q30.6479 1157.37 29.0883 1154.41 Q27.4968 1151.45 27.4968 1147.22 Q27.4968 1146.61 27.5923 1145.88 Q27.656 1145.15 27.8151 1144.26 L33.8307 1144.22 Z\" fill=\"#000000\" fill-rule=\"evenodd\" fill-opacity=\"1\" /><path clip-path=\"url(#clip400)\" d=\"M 0 0 M46.0847 1121.88 Q46.0847 1128.98 47.7079 1131.72 Q49.3312 1134.45 53.2461 1134.45 Q56.3653 1134.45 58.2114 1132.42 Q60.0256 1130.35 60.0256 1126.81 Q60.0256 1121.94 56.5881 1119.02 Q53.1188 1116.06 47.3897 1116.06 L46.0847 1116.06 L46.0847 1121.88 M43.6657 1110.2 L64.0042 1110.2 L64.0042 1116.06 L58.5933 1116.06 Q61.8398 1118.06 63.3994 1121.05 Q64.9272 1124.04 64.9272 1128.37 Q64.9272 1133.85 61.8716 1137.09 Q58.7843 1140.31 53.6281 1140.31 Q47.6125 1140.31 44.5569 1136.3 Q41.5014 1132.26 41.5014 1124.27 L41.5014 1116.06 L40.9285 1116.06 Q36.8862 1116.06 34.6901 1118.73 Q32.4621 1121.37 32.4621 1126.18 Q32.4621 1129.23 33.1941 1132.13 Q33.9262 1135.03 35.3903 1137.7 L29.9795 1137.7 Q28.7381 1134.48 28.1334 1131.46 Q27.4968 1128.44 27.4968 1125.57 Q27.4968 1117.84 31.5072 1114.02 Q35.5176 1110.2 43.6657 1110.2 Z\" fill=\"#000000\" fill-rule=\"evenodd\" fill-opacity=\"1\" /><path clip-path=\"url(#clip400)\" d=\"M 0 0 M42.4881 1074.42 L64.0042 1074.42 L64.0042 1080.28 L42.679 1080.28 Q37.6183 1080.28 35.1038 1082.25 Q32.5894 1084.23 32.5894 1088.17 Q32.5894 1092.92 35.6131 1095.65 Q38.6368 1098.39 43.8567 1098.39 L64.0042 1098.39 L64.0042 1104.28 L28.3562 1104.28 L28.3562 1098.39 L33.8944 1098.39 Q30.6797 1096.29 29.0883 1093.46 Q27.4968 1090.59 27.4968 1086.87 Q27.4968 1080.73 31.3163 1077.57 Q35.1038 1074.42 42.4881 1074.42 Z\" fill=\"#000000\" fill-rule=\"evenodd\" fill-opacity=\"1\" /><path clip-path=\"url(#clip400)\" d=\"M 0 0 M33.7671 1044.82 L14.479 1044.82 L14.479 1038.97 L64.0042 1038.97 L64.0042 1044.82 L58.657 1044.82 Q61.8398 1046.67 63.3994 1049.5 Q64.9272 1052.3 64.9272 1056.25 Q64.9272 1062.71 59.771 1066.79 Q54.6147 1070.83 46.212 1070.83 Q37.8093 1070.83 32.6531 1066.79 Q27.4968 1062.71 27.4968 1056.25 Q27.4968 1052.3 29.0564 1049.5 Q30.5842 1046.67 33.7671 1044.82 M46.212 1064.78 Q52.6732 1064.78 56.3653 1062.14 Q60.0256 1059.46 60.0256 1054.82 Q60.0256 1050.17 56.3653 1047.5 Q52.6732 1044.82 46.212 1044.82 Q39.7508 1044.82 36.0905 1047.5 Q32.3984 1050.17 32.3984 1054.82 Q32.3984 1059.46 36.0905 1062.14 Q39.7508 1064.78 46.212 1064.78 Z\" fill=\"#000000\" fill-rule=\"evenodd\" fill-opacity=\"1\" /><path clip-path=\"url(#clip400)\" d=\"M 0 0 M32.4621 1019.01 Q32.4621 1023.72 36.1542 1026.46 Q39.8145 1029.2 46.212 1029.2 Q52.6095 1029.2 56.3017 1026.49 Q59.9619 1023.75 59.9619 1019.01 Q59.9619 1014.33 56.2698 1011.59 Q52.5777 1008.86 46.212 1008.86 Q39.8781 1008.86 36.186 1011.59 Q32.4621 1014.33 32.4621 1019.01 M27.4968 1019.01 Q27.4968 1011.37 32.4621 1007.01 Q37.4273 1002.65 46.212 1002.65 Q54.9649 1002.65 59.9619 1007.01 Q64.9272 1011.37 64.9272 1019.01 Q64.9272 1026.68 59.9619 1031.04 Q54.9649 1035.37 46.212 1035.37 Q37.4273 1035.37 32.4621 1031.04 Q27.4968 1026.68 27.4968 1019.01 Z\" fill=\"#000000\" fill-rule=\"evenodd\" fill-opacity=\"1\" /><path clip-path=\"url(#clip400)\" d=\"M 0 0 M35.1993 968.753 Q31.2526 966.557 29.3747 963.501 Q27.4968 960.446 27.4968 956.308 Q27.4968 950.738 31.4117 947.715 Q35.2948 944.691 42.4881 944.691 L64.0042 944.691 L64.0042 950.579 L42.679 950.579 Q37.5546 950.579 35.072 952.393 Q32.5894 954.208 32.5894 957.931 Q32.5894 962.483 35.6131 965.125 Q38.6368 967.766 43.8567 967.766 L64.0042 967.766 L64.0042 973.655 L42.679 973.655 Q37.5228 973.655 35.072 975.469 Q32.5894 977.283 32.5894 981.071 Q32.5894 985.559 35.6449 988.2 Q38.6686 990.842 43.8567 990.842 L64.0042 990.842 L64.0042 996.73 L28.3562 996.73 L28.3562 990.842 L33.8944 990.842 Q30.616 988.837 29.0564 986.036 Q27.4968 983.235 27.4968 979.384 Q27.4968 975.501 29.4702 972.795 Q31.4436 970.058 35.1993 968.753 Z\" fill=\"#000000\" fill-rule=\"evenodd\" fill-opacity=\"1\" /><path clip-path=\"url(#clip400)\" d=\"M 0 0 M33.7671 894.37 L14.479 894.37 L14.479 888.513 L64.0042 888.513 L64.0042 894.37 L58.657 894.37 Q61.8398 896.216 63.3994 899.049 Q64.9272 901.85 64.9272 905.796 Q64.9272 912.258 59.771 916.332 Q54.6147 920.374 46.212 920.374 Q37.8093 920.374 32.6531 916.332 Q27.4968 912.258 27.4968 905.796 Q27.4968 901.85 29.0564 899.049 Q30.5842 896.216 33.7671 894.37 M46.212 914.326 Q52.6732 914.326 56.3653 911.685 Q60.0256 909.011 60.0256 904.364 Q60.0256 899.717 56.3653 897.043 Q52.6732 894.37 46.212 894.37 Q39.7508 894.37 36.0905 897.043 Q32.3984 899.717 32.3984 904.364 Q32.3984 909.011 36.0905 911.685 Q39.7508 914.326 46.212 914.326 Z\" fill=\"#000000\" fill-rule=\"evenodd\" fill-opacity=\"1\" /><path clip-path=\"url(#clip400)\" d=\"M 0 0 M28.3562 882.371 L28.3562 876.514 L64.0042 876.514 L64.0042 882.371 L28.3562 882.371 M14.479 882.371 L14.479 876.514 L21.895 876.514 L21.895 882.371 L14.479 882.371 Z\" fill=\"#000000\" fill-rule=\"evenodd\" fill-opacity=\"1\" /><path clip-path=\"url(#clip400)\" d=\"M 0 0 M29.4065 847.646 L34.9447 847.646 Q33.6716 850.128 33.035 852.802 Q32.3984 855.475 32.3984 858.34 Q32.3984 862.701 33.7352 864.897 Q35.072 867.061 37.7456 867.061 Q39.7826 867.061 40.9603 865.501 Q42.1061 863.942 43.1565 859.231 L43.6021 857.226 Q44.9389 850.988 47.3897 848.378 Q49.8086 845.736 54.1691 845.736 Q59.1344 845.736 62.0308 849.683 Q64.9272 853.598 64.9272 860.473 Q64.9272 863.337 64.3543 866.456 Q63.8132 869.544 62.6992 872.981 L56.6518 872.981 Q58.3387 869.735 59.198 866.584 Q60.0256 863.433 60.0256 860.345 Q60.0256 856.207 58.6251 853.979 Q57.1929 851.751 54.6147 851.751 Q52.2276 851.751 50.9545 853.375 Q49.6813 854.966 48.5037 860.409 L48.0262 862.446 Q46.8804 867.889 44.5251 870.308 Q42.138 872.726 38.0002 872.726 Q32.9713 872.726 30.2341 869.162 Q27.4968 865.597 27.4968 859.04 Q27.4968 855.794 27.9743 852.929 Q28.4517 850.065 29.4065 847.646 Z\" fill=\"#000000\" fill-rule=\"evenodd\" fill-opacity=\"1\" /><path clip-path=\"url(#clip400)\" d=\"M 0 0 M58.657 833.928 L77.5631 833.928 L77.5631 839.816 L28.3562 839.816 L28.3562 833.928 L33.7671 833.928 Q30.5842 832.081 29.0564 829.281 Q27.4968 826.448 27.4968 822.533 Q27.4968 816.04 32.6531 811.998 Q37.8093 807.924 46.212 807.924 Q54.6147 807.924 59.771 811.998 Q64.9272 816.04 64.9272 822.533 Q64.9272 826.448 63.3994 829.281 Q61.8398 832.081 58.657 833.928 M46.212 814.003 Q39.7508 814.003 36.0905 816.676 Q32.3984 819.318 32.3984 823.965 Q32.3984 828.612 36.0905 831.286 Q39.7508 833.928 46.212 833.928 Q52.6732 833.928 56.3653 831.286 Q60.0256 828.612 60.0256 823.965 Q60.0256 819.318 56.3653 816.676 Q52.6732 814.003 46.212 814.003 Z\" fill=\"#000000\" fill-rule=\"evenodd\" fill-opacity=\"1\" /><path clip-path=\"url(#clip400)\" d=\"M 0 0 M14.479 801.781 L14.479 795.924 L64.0042 795.924 L64.0042 801.781 L14.479 801.781 Z\" fill=\"#000000\" fill-rule=\"evenodd\" fill-opacity=\"1\" /><path clip-path=\"url(#clip400)\" d=\"M 0 0 M46.0847 773.581 Q46.0847 780.678 47.7079 783.416 Q49.3312 786.153 53.2461 786.153 Q56.3653 786.153 58.2114 784.116 Q60.0256 782.047 60.0256 778.514 Q60.0256 773.644 56.5881 770.716 Q53.1188 767.756 47.3897 767.756 L46.0847 767.756 L46.0847 773.581 M43.6657 761.9 L64.0042 761.9 L64.0042 767.756 L58.5933 767.756 Q61.8398 769.761 63.3994 772.753 Q64.9272 775.745 64.9272 780.074 Q64.9272 785.548 61.8716 788.795 Q58.7843 792.009 53.6281 792.009 Q47.6125 792.009 44.5569 787.999 Q41.5014 783.957 41.5014 775.968 L41.5014 767.756 L40.9285 767.756 Q36.8862 767.756 34.6901 770.43 Q32.4621 773.071 32.4621 777.877 Q32.4621 780.933 33.1941 783.829 Q33.9262 786.726 35.3903 789.399 L29.9795 789.399 Q28.7381 786.185 28.1334 783.161 Q27.4968 780.137 27.4968 777.273 Q27.4968 769.538 31.5072 765.719 Q35.5176 761.9 43.6657 761.9 Z\" fill=\"#000000\" fill-rule=\"evenodd\" fill-opacity=\"1\" /><path clip-path=\"url(#clip400)\" d=\"M 0 0 M29.7248 730.103 L35.1993 730.103 Q33.8307 732.585 33.1623 735.1 Q32.4621 737.583 32.4621 740.129 Q32.4621 745.826 36.0905 748.977 Q39.6872 752.128 46.212 752.128 Q52.7369 752.128 56.3653 748.977 Q59.9619 745.826 59.9619 740.129 Q59.9619 737.583 59.2935 735.1 Q58.5933 732.585 57.2247 730.103 L62.6355 730.103 Q63.7814 732.554 64.3543 735.195 Q64.9272 737.805 64.9272 740.765 Q64.9272 748.818 59.8664 753.56 Q54.8057 758.303 46.212 758.303 Q37.491 758.303 32.4939 753.529 Q27.4968 748.723 27.4968 740.383 Q27.4968 737.678 28.0697 735.1 Q28.6108 732.522 29.7248 730.103 Z\" fill=\"#000000\" fill-rule=\"evenodd\" fill-opacity=\"1\" /><path clip-path=\"url(#clip400)\" d=\"M 0 0 M44.7161 693.468 L47.5806 693.468 L47.5806 720.395 Q53.6281 720.013 56.8109 716.767 Q59.9619 713.488 59.9619 707.664 Q59.9619 704.29 59.1344 701.139 Q58.3069 697.956 56.6518 694.837 L62.1899 694.837 Q63.5267 697.988 64.227 701.298 Q64.9272 704.608 64.9272 708.014 Q64.9272 716.544 59.9619 721.541 Q54.9967 726.506 46.5303 726.506 Q37.7774 726.506 32.6531 721.796 Q27.4968 717.053 27.4968 709.032 Q27.4968 701.839 32.1438 697.67 Q36.7589 693.468 44.7161 693.468 M42.9973 699.325 Q38.1912 699.388 35.3266 702.03 Q32.4621 704.64 32.4621 708.969 Q32.4621 713.87 35.2312 716.83 Q38.0002 719.759 43.0292 720.204 L42.9973 699.325 Z\" fill=\"#000000\" fill-rule=\"evenodd\" fill-opacity=\"1\" /><path clip-path=\"url(#clip400)\" d=\"M 0 0 M35.1993 659.571 Q31.2526 657.375 29.3747 654.319 Q27.4968 651.264 27.4968 647.126 Q27.4968 641.556 31.4117 638.532 Q35.2948 635.508 42.4881 635.508 L64.0042 635.508 L64.0042 641.397 L42.679 641.397 Q37.5546 641.397 35.072 643.211 Q32.5894 645.025 32.5894 648.749 Q32.5894 653.301 35.6131 655.942 Q38.6368 658.584 43.8567 658.584 L64.0042 658.584 L64.0042 664.472 L42.679 664.472 Q37.5228 664.472 35.072 666.287 Q32.5894 668.101 32.5894 671.888 Q32.5894 676.376 35.6449 679.018 Q38.6686 681.66 43.8567 681.66 L64.0042 681.66 L64.0042 687.548 L28.3562 687.548 L28.3562 681.66 L33.8944 681.66 Q30.616 679.655 29.0564 676.854 Q27.4968 674.053 27.4968 670.202 Q27.4968 666.318 29.4702 663.613 Q31.4436 660.876 35.1993 659.571 Z\" fill=\"#000000\" fill-rule=\"evenodd\" fill-opacity=\"1\" /><path clip-path=\"url(#clip400)\" d=\"M 0 0 M44.7161 598.874 L47.5806 598.874 L47.5806 625.801 Q53.6281 625.419 56.8109 622.172 Q59.9619 618.894 59.9619 613.069 Q59.9619 609.695 59.1344 606.544 Q58.3069 603.362 56.6518 600.242 L62.1899 600.242 Q63.5267 603.393 64.227 606.704 Q64.9272 610.014 64.9272 613.419 Q64.9272 621.949 59.9619 626.947 Q54.9967 631.912 46.5303 631.912 Q37.7774 631.912 32.6531 627.201 Q27.4968 622.459 27.4968 614.438 Q27.4968 607.245 32.1438 603.075 Q36.7589 598.874 44.7161 598.874 M42.9973 604.73 Q38.1912 604.794 35.3266 607.436 Q32.4621 610.046 32.4621 614.374 Q32.4621 619.276 35.2312 622.236 Q38.0002 625.164 43.0292 625.61 L42.9973 604.73 Z\" fill=\"#000000\" fill-rule=\"evenodd\" fill-opacity=\"1\" /><path clip-path=\"url(#clip400)\" d=\"M 0 0 M42.4881 563.099 L64.0042 563.099 L64.0042 568.955 L42.679 568.955 Q37.6183 568.955 35.1038 570.928 Q32.5894 572.902 32.5894 576.848 Q32.5894 581.591 35.6131 584.328 Q38.6368 587.065 43.8567 587.065 L64.0042 587.065 L64.0042 592.954 L28.3562 592.954 L28.3562 587.065 L33.8944 587.065 Q30.6797 584.965 29.0883 582.132 Q27.4968 579.267 27.4968 575.543 Q27.4968 569.401 31.3163 566.25 Q35.1038 563.099 42.4881 563.099 Z\" fill=\"#000000\" fill-rule=\"evenodd\" fill-opacity=\"1\" /><path clip-path=\"url(#clip400)\" d=\"M 0 0 M18.2347 551.163 L28.3562 551.163 L28.3562 539.1 L32.9077 539.1 L32.9077 551.163 L52.2594 551.163 Q56.6199 551.163 57.8613 549.985 Q59.1026 548.776 59.1026 545.115 L59.1026 539.1 L64.0042 539.1 L64.0042 545.115 Q64.0042 551.895 61.4897 554.473 Q58.9434 557.051 52.2594 557.051 L32.9077 557.051 L32.9077 561.348 L28.3562 561.348 L28.3562 557.051 L18.2347 557.051 L18.2347 551.163 Z\" fill=\"#000000\" fill-rule=\"evenodd\" fill-opacity=\"1\" /><path clip-path=\"url(#clip400)\" d=\"M 0 0 M14.5426 498.168 Q21.8632 502.433 29.0246 504.502 Q36.186 506.571 43.5384 506.571 Q50.8908 506.571 58.1159 504.502 Q65.3091 502.402 72.5979 498.168 L72.5979 503.261 Q65.1182 508.035 57.8931 510.422 Q50.668 512.778 43.5384 512.778 Q36.4406 512.778 29.2474 510.422 Q22.0542 508.067 14.5426 503.261 L14.5426 498.168 Z\" fill=\"#000000\" fill-rule=\"evenodd\" fill-opacity=\"1\" /><path clip-path=\"url(#clip400)\" d=\"M 0 0 M46.0847 475.825 Q46.0847 482.922 47.7079 485.66 Q49.3312 488.397 53.2461 488.397 Q56.3653 488.397 58.2114 486.36 Q60.0256 484.291 60.0256 480.758 Q60.0256 475.888 56.5881 472.96 Q53.1188 470 47.3897 470 L46.0847 470 L46.0847 475.825 M43.6657 464.144 L64.0042 464.144 L64.0042 470 L58.5933 470 Q61.8398 472.005 63.3994 474.997 Q64.9272 477.989 64.9272 482.318 Q64.9272 487.792 61.8716 491.039 Q58.7843 494.253 53.6281 494.253 Q47.6125 494.253 44.5569 490.243 Q41.5014 486.201 41.5014 478.212 L41.5014 470 L40.9285 470 Q36.8862 470 34.6901 472.674 Q32.4621 475.315 32.4621 480.122 Q32.4621 483.177 33.1941 486.073 Q33.9262 488.97 35.3903 491.643 L29.9795 491.643 Q28.7381 488.429 28.1334 485.405 Q27.4968 482.381 27.4968 479.517 Q27.4968 471.782 31.5072 467.963 Q35.5176 464.144 43.6657 464.144 Z\" fill=\"#000000\" fill-rule=\"evenodd\" fill-opacity=\"1\" /><path clip-path=\"url(#clip400)\" d=\"M 0 0 M55.9197 457.173 L55.9197 450.457 L64.0042 450.457 L64.0042 457.173 L55.9197 457.173 Z\" fill=\"#000000\" fill-rule=\"evenodd\" fill-opacity=\"1\" /><path clip-path=\"url(#clip400)\" d=\"M 0 0 M49.9359 444.919 L28.3562 444.919 L28.3562 439.063 L49.7131 439.063 Q54.7739 439.063 57.3202 437.089 Q59.8346 435.116 59.8346 431.169 Q59.8346 426.427 56.8109 423.69 Q53.7872 420.92 48.5673 420.92 L28.3562 420.92 L28.3562 415.064 L64.0042 415.064 L64.0042 420.92 L58.5296 420.92 Q61.7762 423.053 63.3676 425.886 Q64.9272 428.687 64.9272 432.411 Q64.9272 438.553 61.1078 441.736 Q57.2883 444.919 49.9359 444.919 M27.4968 430.183 L27.4968 430.183 Z\" fill=\"#000000\" fill-rule=\"evenodd\" fill-opacity=\"1\" /><path clip-path=\"url(#clip400)\" d=\"M 0 0 M55.9197 408.094 L55.9197 401.378 L64.0042 401.378 L64.0042 408.094 L55.9197 408.094 Z\" fill=\"#000000\" fill-rule=\"evenodd\" fill-opacity=\"1\" /><path clip-path=\"url(#clip400)\" d=\"M 0 0 M14.5426 396.158 L14.5426 391.065 Q22.0542 386.291 29.2474 383.936 Q36.4406 381.549 43.5384 381.549 Q50.668 381.549 57.8931 383.936 Q65.1182 386.291 72.5979 391.065 L72.5979 396.158 Q65.3091 391.925 58.1159 389.856 Q50.8908 387.755 43.5384 387.755 Q36.186 387.755 29.0246 389.856 Q21.8632 391.925 14.5426 396.158 Z\" fill=\"#000000\" fill-rule=\"evenodd\" fill-opacity=\"1\" /><path clip-path=\"url(#clip400)\" d=\"M 0 0 M905.043 14.324 L905.043 27.2059 L920.396 27.2059 L920.396 32.9987 L905.043 32.9987 L905.043 57.6282 Q905.043 63.1779 906.542 64.7578 Q908.081 66.3376 912.74 66.3376 L920.396 66.3376 L920.396 72.576 L912.74 72.576 Q904.111 72.576 900.83 69.3758 Q897.549 66.1351 897.549 57.6282 L897.549 32.9987 L892.08 32.9987 L892.08 27.2059 L897.549 27.2059 L897.549 14.324 L905.043 14.324 Z\" fill=\"#000000\" fill-rule=\"evenodd\" fill-opacity=\"1\" /><path clip-path=\"url(#clip400)\" d=\"M 0 0 M923.88 27.2059 L931.333 27.2059 L940.65 62.6108 L949.927 27.2059 L958.717 27.2059 L968.034 62.6108 L977.311 27.2059 L984.765 27.2059 L972.896 72.576 L964.105 72.576 L954.342 35.3887 L944.539 72.576 L935.749 72.576 L923.88 27.2059 Z\" fill=\"#000000\" fill-rule=\"evenodd\" fill-opacity=\"1\" /><path clip-path=\"url(#clip400)\" d=\"M 0 0 M1010.16 32.4315 Q1004.17 32.4315 1000.68 37.1306 Q997.201 41.7891 997.201 49.9314 Q997.201 58.0738 1000.64 62.7728 Q1004.13 67.4314 1010.16 67.4314 Q1016.12 67.4314 1019.6 62.7323 Q1023.09 58.0333 1023.09 49.9314 Q1023.09 41.8701 1019.6 37.1711 Q1016.12 32.4315 1010.16 32.4315 M1010.16 26.1121 Q1019.89 26.1121 1025.44 32.4315 Q1030.99 38.7509 1030.99 49.9314 Q1030.99 61.0714 1025.44 67.4314 Q1019.89 73.7508 1010.16 73.7508 Q1000.4 73.7508 994.851 67.4314 Q989.342 61.0714 989.342 49.9314 Q989.342 38.7509 994.851 32.4315 Q1000.4 26.1121 1010.16 26.1121 Z\" fill=\"#000000\" fill-rule=\"evenodd\" fill-opacity=\"1\" /><path clip-path=\"url(#clip400)\" d=\"M 0 0 M1091.47 34.1734 Q1090.21 33.4443 1088.71 33.1202 Q1087.25 32.7556 1085.47 32.7556 Q1079.15 32.7556 1075.75 36.8875 Q1072.39 40.9789 1072.39 48.6757 L1072.39 72.576 L1064.89 72.576 L1064.89 27.2059 L1072.39 27.2059 L1072.39 34.2544 Q1074.74 30.1225 1078.5 28.1376 Q1082.27 26.1121 1087.66 26.1121 Q1088.43 26.1121 1089.36 26.2337 Q1090.29 26.3147 1091.42 26.5172 L1091.47 34.1734 Z\" fill=\"#000000\" fill-rule=\"evenodd\" fill-opacity=\"1\" /><path clip-path=\"url(#clip400)\" d=\"M 0 0 M1119.9 49.7694 Q1110.87 49.7694 1107.39 51.8354 Q1103.9 53.9013 1103.9 58.8839 Q1103.9 62.8538 1106.49 65.2034 Q1109.13 67.5124 1113.62 67.5124 Q1119.82 67.5124 1123.55 63.1374 Q1127.32 58.7219 1127.32 51.4303 L1127.32 49.7694 L1119.9 49.7694 M1134.77 46.6907 L1134.77 72.576 L1127.32 72.576 L1127.32 65.6895 Q1124.76 69.8214 1120.96 71.8063 Q1117.15 73.7508 1111.64 73.7508 Q1104.67 73.7508 1100.54 69.8619 Q1096.45 65.9325 1096.45 59.3701 Q1096.45 51.7138 1101.55 47.825 Q1106.7 43.9361 1116.86 43.9361 L1127.32 43.9361 L1127.32 43.2069 Q1127.32 38.0623 1123.91 35.2672 Q1120.55 32.4315 1114.43 32.4315 Q1110.55 32.4315 1106.86 33.3632 Q1103.17 34.295 1099.77 36.1584 L1099.77 29.2718 Q1103.86 27.692 1107.71 26.9223 Q1111.56 26.1121 1115.2 26.1121 Q1125.05 26.1121 1129.91 31.2163 Q1134.77 36.3204 1134.77 46.6907 Z\" fill=\"#000000\" fill-rule=\"evenodd\" fill-opacity=\"1\" /><path clip-path=\"url(#clip400)\" d=\"M 0 0 M1180.3 45.1919 L1180.3 72.576 L1172.85 72.576 L1172.85 45.4349 Q1172.85 38.994 1170.34 35.7938 Q1167.83 32.5936 1162.8 32.5936 Q1156.77 32.5936 1153.28 36.4419 Q1149.8 40.2903 1149.8 46.9338 L1149.8 72.576 L1142.3 72.576 L1142.3 27.2059 L1149.8 27.2059 L1149.8 34.2544 Q1152.47 30.163 1156.08 28.1376 Q1159.72 26.1121 1164.46 26.1121 Q1172.28 26.1121 1176.29 30.9732 Q1180.3 35.7938 1180.3 45.1919 Z\" fill=\"#000000\" fill-rule=\"evenodd\" fill-opacity=\"1\" /><path clip-path=\"url(#clip400)\" d=\"M 0 0 M1217.98 34.0924 L1217.98 9.54393 L1225.43 9.54393 L1225.43 72.576 L1217.98 72.576 L1217.98 65.7705 Q1215.63 69.8214 1212.02 71.8063 Q1208.46 73.7508 1203.43 73.7508 Q1195.21 73.7508 1190.02 67.1883 Q1184.88 60.6258 1184.88 49.9314 Q1184.88 39.2371 1190.02 32.6746 Q1195.21 26.1121 1203.43 26.1121 Q1208.46 26.1121 1212.02 28.0971 Q1215.63 30.0415 1217.98 34.0924 M1192.58 49.9314 Q1192.58 58.1548 1195.94 62.8538 Q1199.34 67.5124 1205.26 67.5124 Q1211.17 67.5124 1214.57 62.8538 Q1217.98 58.1548 1217.98 49.9314 Q1217.98 41.7081 1214.57 37.0496 Q1211.17 32.3505 1205.26 32.3505 Q1199.34 32.3505 1195.94 37.0496 Q1192.58 41.7081 1192.58 49.9314 Z\" fill=\"#000000\" fill-rule=\"evenodd\" fill-opacity=\"1\" /><path clip-path=\"url(#clip400)\" d=\"M 0 0 M1250.83 32.4315 Q1244.83 32.4315 1241.35 37.1306 Q1237.87 41.7891 1237.87 49.9314 Q1237.87 58.0738 1241.31 62.7728 Q1244.79 67.4314 1250.83 67.4314 Q1256.78 67.4314 1260.27 62.7323 Q1263.75 58.0333 1263.75 49.9314 Q1263.75 41.8701 1260.27 37.1711 Q1256.78 32.4315 1250.83 32.4315 M1250.83 26.1121 Q1260.55 26.1121 1266.1 32.4315 Q1271.65 38.7509 1271.65 49.9314 Q1271.65 61.0714 1266.1 67.4314 Q1260.55 73.7508 1250.83 73.7508 Q1241.07 73.7508 1235.52 67.4314 Q1230.01 61.0714 1230.01 49.9314 Q1230.01 38.7509 1235.52 32.4315 Q1241.07 26.1121 1250.83 26.1121 Z\" fill=\"#000000\" fill-rule=\"evenodd\" fill-opacity=\"1\" /><path clip-path=\"url(#clip400)\" d=\"M 0 0 M1314.79 35.9153 Q1317.59 30.8922 1321.48 28.5022 Q1325.36 26.1121 1330.63 26.1121 Q1337.72 26.1121 1341.57 31.0947 Q1345.42 36.0368 1345.42 45.1919 L1345.42 72.576 L1337.92 72.576 L1337.92 45.4349 Q1337.92 38.913 1335.61 35.7533 Q1333.3 32.5936 1328.56 32.5936 Q1322.77 32.5936 1319.41 36.4419 Q1316.05 40.2903 1316.05 46.9338 L1316.05 72.576 L1308.55 72.576 L1308.55 45.4349 Q1308.55 38.8725 1306.24 35.7533 Q1303.94 32.5936 1299.11 32.5936 Q1293.4 32.5936 1290.04 36.4824 Q1286.68 40.3308 1286.68 46.9338 L1286.68 72.576 L1279.18 72.576 L1279.18 27.2059 L1286.68 27.2059 L1286.68 34.2544 Q1289.23 30.082 1292.8 28.0971 Q1296.36 26.1121 1301.26 26.1121 Q1306.2 26.1121 1309.65 28.6237 Q1313.13 31.1352 1314.79 35.9153 Z\" fill=\"#000000\" fill-rule=\"evenodd\" fill-opacity=\"1\" /><path clip-path=\"url(#clip400)\" d=\"M 0 0 M1374.26 27.2059 L1382.16 27.2059 L1396.34 65.2844 L1410.51 27.2059 L1418.41 27.2059 L1401.4 72.576 L1391.27 72.576 L1374.26 27.2059 Z\" fill=\"#000000\" fill-rule=\"evenodd\" fill-opacity=\"1\" /><path clip-path=\"url(#clip400)\" d=\"M 0 0 M1446.85 49.7694 Q1437.82 49.7694 1434.33 51.8354 Q1430.85 53.9013 1430.85 58.8839 Q1430.85 62.8538 1433.44 65.2034 Q1436.08 67.5124 1440.57 67.5124 Q1446.77 67.5124 1450.5 63.1374 Q1454.26 58.7219 1454.26 51.4303 L1454.26 49.7694 L1446.85 49.7694 M1461.72 46.6907 L1461.72 72.576 L1454.26 72.576 L1454.26 65.6895 Q1451.71 69.8214 1447.9 71.8063 Q1444.1 73.7508 1438.59 73.7508 Q1431.62 73.7508 1427.49 69.8619 Q1423.4 65.9325 1423.4 59.3701 Q1423.4 51.7138 1428.5 47.825 Q1433.65 43.9361 1443.81 43.9361 L1454.26 43.9361 L1454.26 43.2069 Q1454.26 38.0623 1450.86 35.2672 Q1447.5 32.4315 1441.38 32.4315 Q1437.49 32.4315 1433.81 33.3632 Q1430.12 34.295 1426.72 36.1584 L1426.72 29.2718 Q1430.81 27.692 1434.66 26.9223 Q1438.51 26.1121 1442.15 26.1121 Q1452 26.1121 1456.86 31.2163 Q1461.72 36.3204 1461.72 46.6907 Z\" fill=\"#000000\" fill-rule=\"evenodd\" fill-opacity=\"1\" /><path clip-path=\"url(#clip400)\" d=\"M 0 0 M1495.83 34.1734 Q1494.57 33.4443 1493.07 33.1202 Q1491.61 32.7556 1489.83 32.7556 Q1483.51 32.7556 1480.11 36.8875 Q1476.75 40.9789 1476.75 48.6757 L1476.75 72.576 L1469.25 72.576 L1469.25 27.2059 L1476.75 27.2059 L1476.75 34.2544 Q1479.1 30.1225 1482.86 28.1376 Q1486.63 26.1121 1492.02 26.1121 Q1492.79 26.1121 1493.72 26.2337 Q1494.65 26.3147 1495.79 26.5172 L1495.83 34.1734 Z\" fill=\"#000000\" fill-rule=\"evenodd\" fill-opacity=\"1\" /><path clip-path=\"url(#clip400)\" d=\"M 0 0 M1503.64 27.2059 L1511.1 27.2059 L1511.1 72.576 L1503.64 72.576 L1503.64 27.2059 M1503.64 9.54393 L1511.1 9.54393 L1511.1 18.9825 L1503.64 18.9825 L1503.64 9.54393 Z\" fill=\"#000000\" fill-rule=\"evenodd\" fill-opacity=\"1\" /><path clip-path=\"url(#clip400)\" d=\"M 0 0 M1539.54 49.7694 Q1530.5 49.7694 1527.02 51.8354 Q1523.53 53.9013 1523.53 58.8839 Q1523.53 62.8538 1526.13 65.2034 Q1528.76 67.5124 1533.26 67.5124 Q1539.45 67.5124 1543.18 63.1374 Q1546.95 58.7219 1546.95 51.4303 L1546.95 49.7694 L1539.54 49.7694 M1554.4 46.6907 L1554.4 72.576 L1546.95 72.576 L1546.95 65.6895 Q1544.4 69.8214 1540.59 71.8063 Q1536.78 73.7508 1531.27 73.7508 Q1524.3 73.7508 1520.17 69.8619 Q1516.08 65.9325 1516.08 59.3701 Q1516.08 51.7138 1521.19 47.825 Q1526.33 43.9361 1536.5 43.9361 L1546.95 43.9361 L1546.95 43.2069 Q1546.95 38.0623 1543.55 35.2672 Q1540.18 32.4315 1534.07 32.4315 Q1530.18 32.4315 1526.49 33.3632 Q1522.81 34.295 1519.4 36.1584 L1519.4 29.2718 Q1523.49 27.692 1527.34 26.9223 Q1531.19 26.1121 1534.84 26.1121 Q1544.68 26.1121 1549.54 31.2163 Q1554.4 36.3204 1554.4 46.6907 Z\" fill=\"#000000\" fill-rule=\"evenodd\" fill-opacity=\"1\" /><path clip-path=\"url(#clip400)\" d=\"M 0 0 M1594.79 49.9314 Q1594.79 41.7081 1591.39 37.0496 Q1588.03 32.3505 1582.11 32.3505 Q1576.2 32.3505 1572.79 37.0496 Q1569.43 41.7081 1569.43 49.9314 Q1569.43 58.1548 1572.79 62.8538 Q1576.2 67.5124 1582.11 67.5124 Q1588.03 67.5124 1591.39 62.8538 Q1594.79 58.1548 1594.79 49.9314 M1569.43 34.0924 Q1571.78 30.0415 1575.35 28.0971 Q1578.95 26.1121 1583.93 26.1121 Q1592.2 26.1121 1597.34 32.6746 Q1602.53 39.2371 1602.53 49.9314 Q1602.53 60.6258 1597.34 67.1883 Q1592.2 73.7508 1583.93 73.7508 Q1578.95 73.7508 1575.35 71.8063 Q1571.78 69.8214 1569.43 65.7705 L1569.43 72.576 L1561.94 72.576 L1561.94 9.54393 L1569.43 9.54393 L1569.43 34.0924 Z\" fill=\"#000000\" fill-rule=\"evenodd\" fill-opacity=\"1\" /><path clip-path=\"url(#clip400)\" d=\"M 0 0 M1610.35 9.54393 L1617.8 9.54393 L1617.8 72.576 L1610.35 72.576 L1610.35 9.54393 Z\" fill=\"#000000\" fill-rule=\"evenodd\" fill-opacity=\"1\" /><path clip-path=\"url(#clip400)\" d=\"M 0 0 M1664.43 48.0275 L1664.43 51.6733 L1630.15 51.6733 Q1630.64 59.3701 1634.77 63.421 Q1638.95 67.4314 1646.36 67.4314 Q1650.65 67.4314 1654.66 66.3781 Q1658.71 65.3249 1662.68 63.2184 L1662.68 70.267 Q1658.67 71.9684 1654.46 72.8596 Q1650.25 73.7508 1645.91 73.7508 Q1635.06 73.7508 1628.7 67.4314 Q1622.38 61.1119 1622.38 50.3365 Q1622.38 39.1965 1628.37 32.6746 Q1634.41 26.1121 1644.62 26.1121 Q1653.77 26.1121 1659.08 32.0264 Q1664.43 37.9003 1664.43 48.0275 M1656.97 45.84 Q1656.89 39.7232 1653.53 36.0774 Q1650.21 32.4315 1644.7 32.4315 Q1638.46 32.4315 1634.69 35.9558 Q1630.96 39.4801 1630.4 45.8805 L1656.97 45.84 Z\" fill=\"#000000\" fill-rule=\"evenodd\" fill-opacity=\"1\" /><path clip-path=\"url(#clip400)\" d=\"M 0 0 M1701.17 28.5427 L1701.17 35.5912 Q1698.01 33.9709 1694.6 33.1607 Q1691.2 32.3505 1687.56 32.3505 Q1682.01 32.3505 1679.21 34.0519 Q1676.46 35.7533 1676.46 39.156 Q1676.46 41.7486 1678.44 43.2475 Q1680.43 44.7058 1686.42 46.0426 L1688.97 46.6097 Q1696.91 48.3111 1700.24 51.4303 Q1703.6 54.509 1703.6 60.0587 Q1703.6 66.3781 1698.57 70.0644 Q1693.59 73.7508 1684.84 73.7508 Q1681.2 73.7508 1677.23 73.0216 Q1673.3 72.3329 1668.92 70.9151 L1668.92 63.2184 Q1673.05 65.3654 1677.06 66.4591 Q1681.07 67.5124 1685 67.5124 Q1690.27 67.5124 1693.11 65.73 Q1695.94 63.9071 1695.94 60.6258 Q1695.94 57.5877 1693.88 55.9673 Q1691.85 54.3469 1684.92 52.8481 L1682.33 52.2405 Q1675.4 50.7821 1672.32 47.7845 Q1669.25 44.7463 1669.25 39.4801 Q1669.25 33.0797 1673.78 29.5959 Q1678.32 26.1121 1686.66 26.1121 Q1690.8 26.1121 1694.44 26.7198 Q1698.09 27.3274 1701.17 28.5427 Z\" fill=\"#000000\" fill-rule=\"evenodd\" fill-opacity=\"1\" /><polyline clip-path=\"url(#clip402)\" style=\"stroke:#009af9; stroke-width:12; stroke-opacity:1; fill:none\" points=\"\n",
       "  302.634,257.526 343.255,194.299 383.875,163.221 424.496,166.013 465.116,202.523 505.737,270.724 546.358,366.834 586.978,485.524 627.599,620.209 668.219,763.421 \n",
       "  708.84,907.217 749.461,1043.62 790.081,1165.07 830.702,1264.83 871.322,1337.36 911.943,1378.65 952.564,1386.4 993.184,1360.18 1033.8,1301.45 1074.43,1213.46 \n",
       "  1115.05,1101.1 1155.67,970.596 1196.29,829.184 1236.91,684.71 1277.53,545.185 1318.15,418.347 1358.77,311.231 1399.39,229.778 1440.01,178.505 1480.63,160.256 \n",
       "  1521.25,176.043 1561.87,224.99 1602.49,304.383 1643.11,409.818 1683.73,535.448 1724.36,674.306 1764.98,818.69 1805.6,960.593 1846.22,1092.14 1886.84,1206.05 \n",
       "  1927.46,1295.99 1968.08,1356.98 2008.7,1385.63 2049.32,1380.36 2089.94,1341.45 2130.56,1271.08 2171.18,1173.13 2211.8,1053.04 2252.42,917.476 2293.04,773.951 \n",
       "  \n",
       "  \"/>\n",
       "<path clip-path=\"url(#clip400)\" d=\"\n",
       "M1932.15 287.756 L2282.43 287.756 L2282.43 166.796 L1932.15 166.796  Z\n",
       "  \" fill=\"#ffffff\" fill-rule=\"evenodd\" fill-opacity=\"1\"/>\n",
       "<polyline clip-path=\"url(#clip400)\" style=\"stroke:#000000; stroke-width:4; stroke-opacity:1; fill:none\" points=\"\n",
       "  1932.15,287.756 2282.43,287.756 2282.43,166.796 1932.15,166.796 1932.15,287.756 \n",
       "  \"/>\n",
       "<polyline clip-path=\"url(#clip400)\" style=\"stroke:#009af9; stroke-width:4; stroke-opacity:1; fill:none\" points=\"\n",
       "  1955.59,227.276 2096.24,227.276 \n",
       "  \"/>\n",
       "<path clip-path=\"url(#clip400)\" d=\"M 0 0 M2119.69 208.537 L2129.5 208.537 L2129.5 211.848 L2123.95 211.848 L2123.95 247.496 L2129.5 247.496 L2129.5 250.806 L2119.69 250.806 L2119.69 208.537 Z\" fill=\"#000000\" fill-rule=\"evenodd\" fill-opacity=\"1\" /><path clip-path=\"url(#clip400)\" d=\"M 0 0 M2138 209.996 L2138 222.843 L2134.06 222.843 L2134.06 209.996 L2138 209.996 M2146.75 209.996 L2146.75 222.843 L2142.81 222.843 L2142.81 209.996 L2146.75 209.996 Z\" fill=\"#000000\" fill-rule=\"evenodd\" fill-opacity=\"1\" /><path clip-path=\"url(#clip400)\" d=\"M 0 0 M2167.74 219.394 L2167.74 223.422 Q2165.94 222.496 2163.99 222.033 Q2162.05 221.57 2159.96 221.57 Q2156.79 221.57 2155.2 222.542 Q2153.62 223.514 2153.62 225.459 Q2153.62 226.94 2154.76 227.797 Q2155.89 228.63 2159.32 229.394 L2160.77 229.718 Q2165.31 230.69 2167.21 232.472 Q2169.13 234.232 2169.13 237.403 Q2169.13 241.014 2166.26 243.121 Q2163.41 245.227 2158.41 245.227 Q2156.33 245.227 2154.06 244.81 Q2151.82 244.417 2149.32 243.607 L2149.32 239.209 Q2151.68 240.435 2153.97 241.06 Q2156.26 241.662 2158.51 241.662 Q2161.52 241.662 2163.14 240.644 Q2164.76 239.602 2164.76 237.727 Q2164.76 235.991 2163.58 235.065 Q2162.42 234.139 2158.46 233.283 L2156.98 232.935 Q2153.02 232.102 2151.26 230.389 Q2149.5 228.653 2149.5 225.644 Q2149.5 221.986 2152.09 219.996 Q2154.69 218.005 2159.46 218.005 Q2161.82 218.005 2163.9 218.352 Q2165.98 218.699 2167.74 219.394 Z\" fill=\"#000000\" fill-rule=\"evenodd\" fill-opacity=\"1\" /><path clip-path=\"url(#clip400)\" d=\"M 0 0 M2173.6 218.63 L2177.86 218.63 L2177.86 244.556 L2173.6 244.556 L2173.6 218.63 M2173.6 208.537 L2177.86 208.537 L2177.86 213.931 L2173.6 213.931 L2173.6 208.537 Z\" fill=\"#000000\" fill-rule=\"evenodd\" fill-opacity=\"1\" /><path clip-path=\"url(#clip400)\" d=\"M 0 0 M2203.88 228.908 L2203.88 244.556 L2199.62 244.556 L2199.62 229.047 Q2199.62 225.366 2198.18 223.537 Q2196.75 221.709 2193.88 221.709 Q2190.43 221.709 2188.44 223.908 Q2186.45 226.107 2186.45 229.903 L2186.45 244.556 L2182.16 244.556 L2182.16 218.63 L2186.45 218.63 L2186.45 222.658 Q2187.97 220.32 2190.03 219.162 Q2192.12 218.005 2194.83 218.005 Q2199.29 218.005 2201.58 220.783 Q2203.88 223.537 2203.88 228.908 Z\" fill=\"#000000\" fill-rule=\"evenodd\" fill-opacity=\"1\" /><path clip-path=\"url(#clip400)\" d=\"M 0 0 M2212.37 209.996 L2212.37 222.843 L2208.44 222.843 L2208.44 209.996 L2212.37 209.996 M2221.12 209.996 L2221.12 222.843 L2217.19 222.843 L2217.19 209.996 L2221.12 209.996 Z\" fill=\"#000000\" fill-rule=\"evenodd\" fill-opacity=\"1\" /><path clip-path=\"url(#clip400)\" d=\"M 0 0 M2235.54 208.537 L2235.54 250.806 L2225.73 250.806 L2225.73 247.496 L2231.26 247.496 L2231.26 211.848 L2225.73 211.848 L2225.73 208.537 L2235.54 208.537 Z\" fill=\"#000000\" fill-rule=\"evenodd\" fill-opacity=\"1\" /></svg>\n"
      ]
     },
     "execution_count": 87,
     "metadata": {},
     "output_type": "execute_result"
    }
   ],
   "source": [
    "p = plot(x, y, title=\"two random variables\", label=[\"sin\"], lw=3)\n",
    "xlabel!(\"time (day)\")\n",
    "ylabel!(\"random displacement (a.u.)\")"
   ]
  },
  {
   "cell_type": "code",
   "execution_count": 88,
   "metadata": {},
   "outputs": [],
   "source": [
    "savefig(p, \"myplot.png\")"
   ]
  },
  {
   "cell_type": "markdown",
   "metadata": {},
   "source": [
    "## Introduction to MDToolbox.jl"
   ]
  },
  {
   "cell_type": "code",
   "execution_count": 89,
   "metadata": {},
   "outputs": [],
   "source": [
    "using MDToolbox"
   ]
  },
  {
   "cell_type": "code",
   "execution_count": null,
   "metadata": {},
   "outputs": [],
   "source": []
  }
 ],
 "metadata": {
  "kernelspec": {
   "display_name": "Julia 1.5.3",
   "language": "julia",
   "name": "julia-1.5"
  },
  "language_info": {
   "file_extension": ".jl",
   "mimetype": "application/julia",
   "name": "julia",
   "version": "1.5.3"
  }
 },
 "nbformat": 4,
 "nbformat_minor": 4
}
