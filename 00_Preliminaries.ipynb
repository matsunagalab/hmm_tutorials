{
 "cells": [
  {
   "cell_type": "markdown",
   "metadata": {},
   "source": [
    "# 00 Preliminaries"
   ]
  },
  {
   "cell_type": "markdown",
   "metadata": {},
   "source": [
    "# Introduction to Julia"
   ]
  },
  {
   "cell_type": "markdown",
   "metadata": {},
   "source": [
    "# types"
   ]
  },
  {
   "cell_type": "code",
   "execution_count": 1,
   "metadata": {},
   "outputs": [
    {
     "data": {
      "text/plain": [
       "4"
      ]
     },
     "execution_count": 1,
     "metadata": {},
     "output_type": "execute_result"
    }
   ],
   "source": [
    "1 + 3"
   ]
  },
  {
   "cell_type": "code",
   "execution_count": 2,
   "metadata": {},
   "outputs": [
    {
     "data": {
      "text/plain": [
       "Int64"
      ]
     },
     "execution_count": 2,
     "metadata": {},
     "output_type": "execute_result"
    }
   ],
   "source": [
    "typeof(1)"
   ]
  },
  {
   "cell_type": "code",
   "execution_count": 3,
   "metadata": {},
   "outputs": [
    {
     "data": {
      "text/plain": [
       "4.0"
      ]
     },
     "execution_count": 3,
     "metadata": {},
     "output_type": "execute_result"
    }
   ],
   "source": [
    "1.0 + 3.0"
   ]
  },
  {
   "cell_type": "code",
   "execution_count": 4,
   "metadata": {},
   "outputs": [
    {
     "data": {
      "text/plain": [
       "Float64"
      ]
     },
     "execution_count": 4,
     "metadata": {},
     "output_type": "execute_result"
    }
   ],
   "source": [
    "typeof(1.0)"
   ]
  },
  {
   "cell_type": "code",
   "execution_count": 5,
   "metadata": {},
   "outputs": [
    {
     "data": {
      "text/plain": [
       "\"hello world\""
      ]
     },
     "execution_count": 5,
     "metadata": {},
     "output_type": "execute_result"
    }
   ],
   "source": [
    "\"hello world\""
   ]
  },
  {
   "cell_type": "code",
   "execution_count": 6,
   "metadata": {},
   "outputs": [
    {
     "data": {
      "text/plain": [
       "String"
      ]
     },
     "execution_count": 6,
     "metadata": {},
     "output_type": "execute_result"
    }
   ],
   "source": [
    "typeof(\"hello world\")"
   ]
  },
  {
   "cell_type": "code",
   "execution_count": 7,
   "metadata": {},
   "outputs": [
    {
     "data": {
      "text/plain": [
       "3-element Array{Int64,1}:\n",
       " 1\n",
       " 2\n",
       " 3"
      ]
     },
     "execution_count": 7,
     "metadata": {},
     "output_type": "execute_result"
    }
   ],
   "source": [
    "[1, 2, 3]"
   ]
  },
  {
   "cell_type": "code",
   "execution_count": 8,
   "metadata": {},
   "outputs": [
    {
     "data": {
      "text/plain": [
       "Array{Int64,1}"
      ]
     },
     "execution_count": 8,
     "metadata": {},
     "output_type": "execute_result"
    }
   ],
   "source": [
    "typeof([1, 2, 3])"
   ]
  },
  {
   "cell_type": "code",
   "execution_count": 9,
   "metadata": {},
   "outputs": [
    {
     "data": {
      "text/plain": [
       "3×3 Array{Int64,2}:\n",
       " 1  4  7\n",
       " 2  5  8\n",
       " 3  6  9"
      ]
     },
     "execution_count": 9,
     "metadata": {},
     "output_type": "execute_result"
    }
   ],
   "source": [
    "[1 4 7; 2 5 8; 3 6 9]"
   ]
  },
  {
   "cell_type": "code",
   "execution_count": 10,
   "metadata": {},
   "outputs": [
    {
     "data": {
      "text/plain": [
       "Array{Int64,2}"
      ]
     },
     "execution_count": 10,
     "metadata": {},
     "output_type": "execute_result"
    }
   ],
   "source": [
    "typeof([1 4 7; 2 5 8; 3 6 9])"
   ]
  },
  {
   "cell_type": "code",
   "execution_count": 11,
   "metadata": {},
   "outputs": [
    {
     "data": {
      "text/plain": [
       "Float64"
      ]
     },
     "execution_count": 11,
     "metadata": {},
     "output_type": "execute_result"
    }
   ],
   "source": [
    "typeof(1 + 1.0) #type promotion, conversion"
   ]
  },
  {
   "cell_type": "code",
   "execution_count": 12,
   "metadata": {},
   "outputs": [
    {
     "data": {
      "text/plain": [
       "0.5"
      ]
     },
     "execution_count": 12,
     "metadata": {},
     "output_type": "execute_result"
    }
   ],
   "source": [
    "# INT divisions yield Float\n",
    "1/2"
   ]
  },
  {
   "cell_type": "markdown",
   "metadata": {},
   "source": [
    "# variables"
   ]
  },
  {
   "cell_type": "code",
   "execution_count": 13,
   "metadata": {},
   "outputs": [
    {
     "data": {
      "text/plain": [
       "3"
      ]
     },
     "execution_count": 13,
     "metadata": {},
     "output_type": "execute_result"
    }
   ],
   "source": [
    "a = 1.0\n",
    "b = 3"
   ]
  },
  {
   "cell_type": "code",
   "execution_count": 14,
   "metadata": {},
   "outputs": [
    {
     "data": {
      "text/plain": [
       "Float64"
      ]
     },
     "execution_count": 14,
     "metadata": {},
     "output_type": "execute_result"
    }
   ],
   "source": [
    "typeof(a)"
   ]
  },
  {
   "cell_type": "code",
   "execution_count": 15,
   "metadata": {},
   "outputs": [
    {
     "data": {
      "text/plain": [
       "Int64"
      ]
     },
     "execution_count": 15,
     "metadata": {},
     "output_type": "execute_result"
    }
   ],
   "source": [
    "typeof(b)"
   ]
  },
  {
   "cell_type": "code",
   "execution_count": 16,
   "metadata": {},
   "outputs": [
    {
     "data": {
      "text/plain": [
       "4.0"
      ]
     },
     "execution_count": 16,
     "metadata": {},
     "output_type": "execute_result"
    }
   ],
   "source": [
    "a + b"
   ]
  },
  {
   "cell_type": "markdown",
   "metadata": {},
   "source": [
    "# vectors"
   ]
  },
  {
   "cell_type": "code",
   "execution_count": 24,
   "metadata": {},
   "outputs": [
    {
     "data": {
      "text/plain": [
       "4-element Array{Int64,1}:\n",
       " 1\n",
       " 2\n",
       " 3\n",
       " 4"
      ]
     },
     "execution_count": 24,
     "metadata": {},
     "output_type": "execute_result"
    }
   ],
   "source": [
    "a = [1, 2, 3, 4]"
   ]
  },
  {
   "cell_type": "code",
   "execution_count": 25,
   "metadata": {},
   "outputs": [
    {
     "data": {
      "text/plain": [
       "(4,)"
      ]
     },
     "execution_count": 25,
     "metadata": {},
     "output_type": "execute_result"
    }
   ],
   "source": [
    "size(a)"
   ]
  },
  {
   "cell_type": "code",
   "execution_count": 26,
   "metadata": {},
   "outputs": [
    {
     "data": {
      "text/plain": [
       "1"
      ]
     },
     "execution_count": 26,
     "metadata": {},
     "output_type": "execute_result"
    }
   ],
   "source": [
    "a[1]"
   ]
  },
  {
   "cell_type": "code",
   "execution_count": 27,
   "metadata": {},
   "outputs": [
    {
     "data": {
      "text/plain": [
       "1×4 Array{Int64,2}:\n",
       " 1  2  3  4"
      ]
     },
     "execution_count": 27,
     "metadata": {},
     "output_type": "execute_result"
    }
   ],
   "source": [
    "b = [1 2 3 4]"
   ]
  },
  {
   "cell_type": "code",
   "execution_count": 28,
   "metadata": {},
   "outputs": [
    {
     "data": {
      "text/plain": [
       "4-element Array{Int64,1}:\n",
       " 5\n",
       " 6\n",
       " 7\n",
       " 8"
      ]
     },
     "execution_count": 28,
     "metadata": {},
     "output_type": "execute_result"
    }
   ],
   "source": [
    "c = [5, 6, 7, 8]"
   ]
  },
  {
   "cell_type": "code",
   "execution_count": 29,
   "metadata": {},
   "outputs": [
    {
     "ename": "LoadError",
     "evalue": "DimensionMismatch(\"dimensions must match: a has dims (Base.OneTo(1), Base.OneTo(4)), b has dims (Base.OneTo(4),), mismatch at 1\")",
     "output_type": "error",
     "traceback": [
      "DimensionMismatch(\"dimensions must match: a has dims (Base.OneTo(1), Base.OneTo(4)), b has dims (Base.OneTo(4),), mismatch at 1\")",
      "",
      "Stacktrace:",
      " [1] promote_shape at ./indices.jl:178 [inlined]",
      " [2] promote_shape at ./indices.jl:174 [inlined]",
      " [3] promote_shape at ./indices.jl:169 [inlined]",
      " [4] +(::Array{Int64,1}, ::Array{Int64,2}) at ./arraymath.jl:45",
      " [5] top-level scope at In[29]:1",
      " [6] include_string(::Function, ::Module, ::String, ::String) at ./loading.jl:1091"
     ]
    }
   ],
   "source": [
    "a + b"
   ]
  },
  {
   "cell_type": "code",
   "execution_count": 30,
   "metadata": {},
   "outputs": [
    {
     "data": {
      "text/plain": [
       "4-element Array{Int64,1}:\n",
       "  6\n",
       "  8\n",
       " 10\n",
       " 12"
      ]
     },
     "execution_count": 30,
     "metadata": {},
     "output_type": "execute_result"
    }
   ],
   "source": [
    "a + c"
   ]
  },
  {
   "cell_type": "code",
   "execution_count": 45,
   "metadata": {},
   "outputs": [
    {
     "data": {
      "text/plain": [
       "4×4 Array{Int64,2}:\n",
       " 1  2   3   4\n",
       " 2  4   6   8\n",
       " 3  6   9  12\n",
       " 4  8  12  16"
      ]
     },
     "execution_count": 45,
     "metadata": {},
     "output_type": "execute_result"
    }
   ],
   "source": [
    "# Dot product\n",
    "a * b"
   ]
  },
  {
   "cell_type": "code",
   "execution_count": 46,
   "metadata": {},
   "outputs": [
    {
     "data": {
      "text/plain": [
       "4-element Array{Int64,1}:\n",
       "  5\n",
       " 12\n",
       " 21\n",
       " 32"
      ]
     },
     "execution_count": 46,
     "metadata": {},
     "output_type": "execute_result"
    }
   ],
   "source": [
    "# element-wise product\n",
    "a .* c"
   ]
  },
  {
   "cell_type": "markdown",
   "metadata": {},
   "source": [
    "# matrices"
   ]
  },
  {
   "cell_type": "code",
   "execution_count": 33,
   "metadata": {},
   "outputs": [
    {
     "data": {
      "text/plain": [
       "2×2 Array{Int64,2}:\n",
       " 1  2\n",
       " 3  4"
      ]
     },
     "execution_count": 33,
     "metadata": {},
     "output_type": "execute_result"
    }
   ],
   "source": [
    "A = [1 2; 3 4]"
   ]
  },
  {
   "cell_type": "code",
   "execution_count": 34,
   "metadata": {},
   "outputs": [
    {
     "data": {
      "text/plain": [
       "(2, 2)"
      ]
     },
     "execution_count": 34,
     "metadata": {},
     "output_type": "execute_result"
    }
   ],
   "source": [
    "size(A)"
   ]
  },
  {
   "cell_type": "code",
   "execution_count": 35,
   "metadata": {},
   "outputs": [
    {
     "data": {
      "text/plain": [
       "1"
      ]
     },
     "execution_count": 35,
     "metadata": {},
     "output_type": "execute_result"
    }
   ],
   "source": [
    "A[1, 1]"
   ]
  },
  {
   "cell_type": "code",
   "execution_count": 36,
   "metadata": {},
   "outputs": [
    {
     "data": {
      "text/plain": [
       "2-element Array{Int64,1}:\n",
       " 2\n",
       " 4"
      ]
     },
     "execution_count": 36,
     "metadata": {},
     "output_type": "execute_result"
    }
   ],
   "source": [
    "A[1:2, 2]"
   ]
  },
  {
   "cell_type": "code",
   "execution_count": 37,
   "metadata": {},
   "outputs": [
    {
     "data": {
      "text/plain": [
       "2-element Array{Int64,1}:\n",
       " 2\n",
       " 4"
      ]
     },
     "execution_count": 37,
     "metadata": {},
     "output_type": "execute_result"
    }
   ],
   "source": [
    "A[:, 2]"
   ]
  },
  {
   "cell_type": "code",
   "execution_count": 38,
   "metadata": {},
   "outputs": [
    {
     "data": {
      "text/plain": [
       "2×2 Array{Int64,2}:\n",
       " 5  6\n",
       " 7  8"
      ]
     },
     "execution_count": 38,
     "metadata": {},
     "output_type": "execute_result"
    }
   ],
   "source": [
    "B = [5 6; 7 8]"
   ]
  },
  {
   "cell_type": "code",
   "execution_count": 39,
   "metadata": {},
   "outputs": [
    {
     "ename": "LoadError",
     "evalue": "UndefVarError: d not defined",
     "output_type": "error",
     "traceback": [
      "UndefVarError: d not defined",
      "",
      "Stacktrace:",
      " [1] top-level scope",
      " [2] include_string(::Function, ::Module, ::String, ::String) at ./loading.jl:1091"
     ]
    }
   ],
   "source": [
    "d"
   ]
  },
  {
   "cell_type": "code",
   "execution_count": 40,
   "metadata": {},
   "outputs": [
    {
     "data": {
      "text/plain": [
       "2×2 Array{Int64,2}:\n",
       "  6   8\n",
       " 10  12"
      ]
     },
     "execution_count": 40,
     "metadata": {},
     "output_type": "execute_result"
    }
   ],
   "source": [
    "A + B"
   ]
  },
  {
   "cell_type": "code",
   "execution_count": 43,
   "metadata": {},
   "outputs": [
    {
     "data": {
      "text/plain": [
       "2×2 Array{Int64,2}:\n",
       " 19  22\n",
       " 43  50"
      ]
     },
     "execution_count": 43,
     "metadata": {},
     "output_type": "execute_result"
    }
   ],
   "source": [
    "# Matrix product\n",
    "A * B"
   ]
  },
  {
   "cell_type": "code",
   "execution_count": 44,
   "metadata": {},
   "outputs": [
    {
     "data": {
      "text/plain": [
       "2×2 Array{Int64,2}:\n",
       "  5  12\n",
       " 21  32"
      ]
     },
     "execution_count": 44,
     "metadata": {},
     "output_type": "execute_result"
    }
   ],
   "source": [
    "# element-wise product\n",
    "A .* B"
   ]
  },
  {
   "cell_type": "markdown",
   "metadata": {},
   "source": [
    "# initialization of vectors and matrices"
   ]
  },
  {
   "cell_type": "code",
   "execution_count": 47,
   "metadata": {},
   "outputs": [
    {
     "data": {
      "text/plain": [
       "10-element Array{Float64,1}:\n",
       " 0.0\n",
       " 0.0\n",
       " 0.0\n",
       " 0.0\n",
       " 0.0\n",
       " 0.0\n",
       " 0.0\n",
       " 0.0\n",
       " 0.0\n",
       " 0.0"
      ]
     },
     "execution_count": 47,
     "metadata": {},
     "output_type": "execute_result"
    }
   ],
   "source": [
    "a = zeros(10)"
   ]
  },
  {
   "cell_type": "code",
   "execution_count": 48,
   "metadata": {},
   "outputs": [
    {
     "data": {
      "text/plain": [
       "10-element Array{Int64,1}:\n",
       " 0\n",
       " 0\n",
       " 0\n",
       " 0\n",
       " 0\n",
       " 0\n",
       " 0\n",
       " 0\n",
       " 0\n",
       " 0"
      ]
     },
     "execution_count": 48,
     "metadata": {},
     "output_type": "execute_result"
    }
   ],
   "source": [
    "a = zeros(Int64, 10)"
   ]
  },
  {
   "cell_type": "code",
   "execution_count": 49,
   "metadata": {},
   "outputs": [
    {
     "data": {
      "text/plain": [
       "3×3 Array{Float64,2}:\n",
       " 0.0  0.0  0.0\n",
       " 0.0  0.0  0.0\n",
       " 0.0  0.0  0.0"
      ]
     },
     "execution_count": 49,
     "metadata": {},
     "output_type": "execute_result"
    }
   ],
   "source": [
    "A = zeros(3, 3)"
   ]
  },
  {
   "cell_type": "code",
   "execution_count": 50,
   "metadata": {},
   "outputs": [
    {
     "data": {
      "text/plain": [
       "3×3 Array{Int64,2}:\n",
       " 0  0  0\n",
       " 0  0  0\n",
       " 0  0  0"
      ]
     },
     "execution_count": 50,
     "metadata": {},
     "output_type": "execute_result"
    }
   ],
   "source": [
    "A = zeros(Int64, 3, 3)"
   ]
  },
  {
   "cell_type": "code",
   "execution_count": 51,
   "metadata": {},
   "outputs": [
    {
     "data": {
      "text/plain": [
       "10-element Array{Float64,1}:\n",
       " 0.9063653089916519\n",
       " 0.20195638400931082\n",
       " 0.39958133637594195\n",
       " 0.381190194219303\n",
       " 0.4338363404170511\n",
       " 0.5106435984403122\n",
       " 0.7734192938094382\n",
       " 0.4004113871995494\n",
       " 0.5008963786792067\n",
       " 0.29430910993849757"
      ]
     },
     "execution_count": 51,
     "metadata": {},
     "output_type": "execute_result"
    }
   ],
   "source": [
    "# uniform distribution\n",
    "a = rand(10)"
   ]
  },
  {
   "cell_type": "code",
   "execution_count": 52,
   "metadata": {},
   "outputs": [
    {
     "data": {
      "text/plain": [
       "10-element Array{Float64,1}:\n",
       " -0.4161622843013393\n",
       " -0.5831096793626896\n",
       " -0.9903435172872012\n",
       " -1.4157250420329868\n",
       "  1.3697671563956537\n",
       "  0.7114644815176138\n",
       " -0.013863716649755409\n",
       "  0.4411071524617921\n",
       "  0.18203054985133668\n",
       " -0.03966904025118811"
      ]
     },
     "execution_count": 52,
     "metadata": {},
     "output_type": "execute_result"
    }
   ],
   "source": [
    "# gaussian distribution\n",
    "a = randn(10)"
   ]
  },
  {
   "cell_type": "code",
   "execution_count": 53,
   "metadata": {},
   "outputs": [
    {
     "data": {
      "text/plain": [
       "1:10"
      ]
     },
     "execution_count": 53,
     "metadata": {},
     "output_type": "execute_result"
    }
   ],
   "source": [
    "a = 1:10"
   ]
  },
  {
   "cell_type": "code",
   "execution_count": 54,
   "metadata": {},
   "outputs": [
    {
     "data": {
      "text/plain": [
       "UnitRange{Int64}"
      ]
     },
     "execution_count": 54,
     "metadata": {},
     "output_type": "execute_result"
    }
   ],
   "source": [
    "typeof(a)"
   ]
  },
  {
   "cell_type": "code",
   "execution_count": 55,
   "metadata": {},
   "outputs": [
    {
     "data": {
      "text/plain": [
       "10-element Array{Int64,1}:\n",
       "  1\n",
       "  2\n",
       "  3\n",
       "  4\n",
       "  5\n",
       "  6\n",
       "  7\n",
       "  8\n",
       "  9\n",
       " 10"
      ]
     },
     "execution_count": 55,
     "metadata": {},
     "output_type": "execute_result"
    }
   ],
   "source": [
    "collect(a)"
   ]
  },
  {
   "cell_type": "code",
   "execution_count": 56,
   "metadata": {},
   "outputs": [
    {
     "data": {
      "text/plain": [
       "1.0:1.3207963267948966:6.283185307179586"
      ]
     },
     "execution_count": 56,
     "metadata": {},
     "output_type": "execute_result"
    }
   ],
   "source": [
    "t = range(1, stop=2*pi, length=5) #pi is a predefined constant"
   ]
  },
  {
   "cell_type": "code",
   "execution_count": 57,
   "metadata": {},
   "outputs": [
    {
     "data": {
      "text/plain": [
       "5-element Array{Float64,1}:\n",
       " 1.0\n",
       " 2.3207963267948966\n",
       " 3.641592653589793\n",
       " 4.96238898038469\n",
       " 6.283185307179586"
      ]
     },
     "execution_count": 57,
     "metadata": {},
     "output_type": "execute_result"
    }
   ],
   "source": [
    "collect(t)"
   ]
  },
  {
   "cell_type": "code",
   "execution_count": 46,
   "metadata": {},
   "outputs": [
    {
     "data": {
      "text/plain": [
       "5×2 reshape(::UnitRange{Int64}, 5, 2) with eltype Int64:\n",
       " 1   6\n",
       " 2   7\n",
       " 3   8\n",
       " 4   9\n",
       " 5  10"
      ]
     },
     "execution_count": 46,
     "metadata": {},
     "output_type": "execute_result"
    }
   ],
   "source": [
    "A = reshape(1:10, 5, 2)"
   ]
  },
  {
   "cell_type": "code",
   "execution_count": 47,
   "metadata": {},
   "outputs": [
    {
     "data": {
      "text/plain": [
       "5×2 Array{Int64,2}:\n",
       " 1   6\n",
       " 2   7\n",
       " 3   8\n",
       " 4   9\n",
       " 5  10"
      ]
     },
     "execution_count": 47,
     "metadata": {},
     "output_type": "execute_result"
    }
   ],
   "source": [
    "collect(A)"
   ]
  },
  {
   "cell_type": "markdown",
   "metadata": {},
   "source": [
    "# plots"
   ]
  },
  {
   "cell_type": "code",
   "execution_count": 1,
   "metadata": {},
   "outputs": [],
   "source": [
    "using PyPlot"
   ]
  },
  {
   "cell_type": "code",
   "execution_count": 2,
   "metadata": {},
   "outputs": [
    {
     "data": {
      "text/plain": [
       "50-element Array{Float64,1}:\n",
       "  0.8414709848078965\n",
       "  0.9444931469173716\n",
       "  0.9951331505698849\n",
       "  0.9905824706805856\n",
       "  0.9310934906953738\n",
       "  0.8199655052530715\n",
       "  0.663361739318773\n",
       "  0.4699675320173844\n",
       "  0.2505086424976974\n",
       "  0.017156392873725015\n",
       " -0.21714736062615594\n",
       " -0.439407990795863\n",
       " -0.6372987892984507\n",
       "  ⋮\n",
       " -0.5184698032563613\n",
       " -0.7040672865242514\n",
       " -0.8506167742747077\n",
       " -0.9499905437029796\n",
       " -0.9966772657394525\n",
       " -0.9880876666773427\n",
       " -0.9246981308510646\n",
       " -0.810024280074289\n",
       " -0.650425995137961\n",
       " -0.45475469299336263\n",
       " -0.233862421839966\n",
       " -4.898587196589413e-16"
      ]
     },
     "execution_count": 2,
     "metadata": {},
     "output_type": "execute_result"
    }
   ],
   "source": [
    "x = range(1, stop=4*pi, length=50)\n",
    "y = sin.(x)"
   ]
  },
  {
   "cell_type": "code",
   "execution_count": 3,
   "metadata": {},
   "outputs": [
    {
     "data": {
      "image/png": "[encoded data removed]",
      "text/plain": [
       "Figure(PyObject <Figure size 640x480 with 1 Axes>)"
      ]
     },
     "metadata": {},
     "output_type": "display_data"
    }
   ],
   "source": [
    "p = plot(x, y, label=[\"sin\"], linewidth=3)\n",
    "xlabel(\"time [sec]\")\n",
    "ylabel(\"sin(x) [cm]\")\n",
    "\n",
    "savefig(\"01_sin.png\", dpi=200);"
   ]
  },
  {
   "cell_type": "markdown",
   "metadata": {},
   "source": [
    "# Introduction to MDToolbox.jl"
   ]
  },
  {
   "cell_type": "markdown",
   "metadata": {},
   "source": [
    "# Basics"
   ]
  },
  {
   "cell_type": "code",
   "execution_count": 4,
   "metadata": {},
   "outputs": [
    {
     "name": "stderr",
     "output_type": "stream",
     "text": [
      "┌ Info: Precompiling MDToolbox [7965e2f0-a35b-11e8-0207-19c030dd2def]\n",
      "└ @ Base loading.jl:1278\n"
     ]
    }
   ],
   "source": [
    "using MDToolbox\n",
    "ENV[\"COLUMNS\"] = 130; # set display width for MDToolbox"
   ]
  },
  {
   "cell_type": "code",
   "execution_count": 5,
   "metadata": {},
   "outputs": [
    {
     "data": {
      "text/plain": [
       "1x214 TrjArray{Float64,Int64}\n",
       "| A                          | A                          |  …   A                          | A                          |\n",
       "| 1MET                       | 2ARG                       |  …   213LEU                     | 214GLY                     |\n",
       "| 2CA                        | 10CA                       |  …   1650CA                     | 1658CA                     |\n",
       "|     9.97    -9.03     9.82 |    10.38    -6.71     6.85 |  …       4.71   -15.48     6.74 |     5.09   -17.11     9.36 |"
      ]
     },
     "execution_count": 5,
     "metadata": {},
     "output_type": "execute_result"
    }
   ],
   "source": [
    "t = mdload(\"data/AdK_closed.pdb\")"
   ]
  },
  {
   "cell_type": "code",
   "execution_count": 6,
   "metadata": {},
   "outputs": [
    {
     "name": "stdout",
     "output_type": "stream",
     "text": [
      "Warning: boxsize information discarded in some trajectories\n"
     ]
    },
    {
     "data": {
      "text/plain": [
       "1000001x214 TrjArray{Float64,Int64}\n",
       "| A                          | A                          |  …   A                          | A                          |\n",
       "| 1MET                       | 2ARG                       |  …   213LEU                     | 214GLY                     |\n",
       "| 2CA                        | 10CA                       |  …   1650CA                     | 1658CA                     |\n",
       "|     9.97    -9.03     9.82 |    10.38    -6.71     6.85 |  …       4.71   -15.48     6.74 |     5.09   -17.11     9.36 |\n",
       "|    -0.31    16.70     8.37 |     2.09    13.74     8.49 |         -8.57    12.98     8.77 |   -10.14    16.29     7.83 |\n",
       "|    -0.16    17.02     7.32 |     2.00    14.02     8.28 |         -8.10    14.18     9.08 |   -10.21    17.28     8.58 |\n",
       "|    -0.91    17.21     8.27 |     1.42    14.22     8.73 |         -8.88    13.42     9.08 |   -10.22    16.96     8.91 |\n",
       "|    -0.17    16.95     7.98 |     2.30    14.08     8.51 |         -8.25    13.58     8.38 |   -10.04    16.91     8.27 |\n",
       "|    -0.05    16.78     8.19 |     2.30    13.82     8.73 |  …      -7.89    13.44     8.92 |    -9.59    16.80     8.48 |\n",
       "|     0.28    17.33     8.52 |     2.33    14.12     8.75 |         -7.85    14.50     9.25 |   -10.03    17.59     9.24 |\n",
       "|     0.11    17.24     8.34 |     2.58    14.35     8.71 |         -8.67    13.74     8.52 |   -10.60    16.97     8.13 |\n",
       "|    -0.16    17.17     7.62 |     2.20    14.23     8.27 |         -8.59    13.84     9.02 |   -10.36    17.11     8.31 |\n",
       "|    -0.40    17.63     8.77 |     1.97    14.64     8.94 |         -9.04    13.51     9.31 |   -10.94    16.73     8.68 |\n",
       "|    -0.21    17.18     8.27 |     2.30    14.34     8.74 |  …      -8.69    13.70     8.80 |   -10.86    16.79     8.71 |\n",
       "|             ⋮              |             ⋮              |  ⋱               ⋮              |             ⋮              |\n",
       "|    -1.57     3.13    17.43 |    -3.37     3.71    14.11 |  …       4.59     9.24    17.36 |     5.57     8.82    20.99 |\n",
       "|    -2.82     3.77    18.08 |    -4.20     4.00    14.53 |          3.39     9.80    18.08 |     4.48     8.88    21.59 |\n",
       "|    -1.89     3.24    17.82 |    -3.81     3.84    14.57 |          4.24     9.65    17.78 |     4.78     9.33    21.51 |\n",
       "|    -1.40     3.67    17.95 |    -3.16     3.68    14.57 |          4.26    11.08    17.88 |     5.94    10.69    21.25 |\n",
       "|    -1.90     4.16    18.10 |    -3.92     4.20    14.85 |          4.03    10.56    17.79 |     5.65     9.87    21.14 |\n",
       "|    -2.87     4.08    17.89 |    -4.55     4.21    14.46 |  …       3.67    10.08    17.47 |     4.18    10.01    21.22 |\n",
       "|    -2.54     3.63    17.75 |    -3.86     3.95    14.17 |          3.99     9.95    17.38 |     4.41     9.62    21.13 |\n",
       "|    -1.28     3.52    17.39 |    -3.31     4.02    14.19 |          4.34    10.06    17.31 |     5.31     9.29    20.89 |\n",
       "|    -2.56     3.82    17.97 |    -4.18     4.17    14.53 |          3.77     9.79    17.99 |     5.33     9.42    21.42 |\n",
       "|    -1.07     3.60    17.92 |    -3.32     4.21    14.90 |          4.70    10.08    17.82 |     5.74     9.10    21.33 |\n",
       "|    -2.30     3.77    18.22 |    -3.98     4.29    14.84 |  …       4.22    10.33    17.85 |     5.66     9.78    21.31 |"
      ]
     },
     "execution_count": 6,
     "metadata": {},
     "output_type": "execute_result"
    }
   ],
   "source": [
    "t = mdload(\"data/AdK.nc\", top=t)"
   ]
  },
  {
   "cell_type": "code",
   "execution_count": 10,
   "metadata": {},
   "outputs": [
    {
     "data": {
      "text/plain": [
       "1x214 TrjArray{Float64,Int64}\n",
       "| A                          | A                          |  …   A                          | A                          |\n",
       "| 1MET                       | 2ARG                       |  …   213LEU                     | 214GLY                     |\n",
       "| 2CA                        | 10CA                       |  …   1650CA                     | 1658CA                     |\n",
       "|    -0.16    17.02     7.32 |     2.00    14.02     8.28 |  …      -8.10    14.18     9.08 |   -10.21    17.28     8.58 |"
      ]
     },
     "execution_count": 10,
     "metadata": {},
     "output_type": "execute_result"
    }
   ],
   "source": [
    "t[3, :]"
   ]
  },
  {
   "cell_type": "code",
   "execution_count": 11,
   "metadata": {},
   "outputs": [
    {
     "data": {
      "text/plain": [
       "1000001x1 TrjArray{Float64,Int64}\n",
       "| A                          |\n",
       "| 1MET                       |\n",
       "| 1CA                        |\n",
       "|     9.97    -9.03     9.82 |\n",
       "|    -0.31    16.70     8.37 |\n",
       "|    -0.16    17.02     7.32 |\n",
       "|    -0.91    17.21     8.27 |\n",
       "|    -0.17    16.95     7.98 |\n",
       "|    -0.05    16.78     8.19 |\n",
       "|     0.28    17.33     8.52 |\n",
       "|     0.11    17.24     8.34 |\n",
       "|    -0.16    17.17     7.62 |\n",
       "|    -0.40    17.63     8.77 |\n",
       "|    -0.21    17.18     8.27 |\n",
       "|             ⋮              |\n",
       "|    -1.57     3.13    17.43 |\n",
       "|    -2.82     3.77    18.08 |\n",
       "|    -1.89     3.24    17.82 |\n",
       "|    -1.40     3.67    17.95 |\n",
       "|    -1.90     4.16    18.10 |\n",
       "|    -2.87     4.08    17.89 |\n",
       "|    -2.54     3.63    17.75 |\n",
       "|    -1.28     3.52    17.39 |\n",
       "|    -2.56     3.82    17.97 |\n",
       "|    -1.07     3.60    17.92 |\n",
       "|    -2.30     3.77    18.22 |"
      ]
     },
     "execution_count": 11,
     "metadata": {},
     "output_type": "execute_result"
    }
   ],
   "source": [
    "t[:, 1]"
   ]
  },
  {
   "cell_type": "code",
   "execution_count": 13,
   "metadata": {},
   "outputs": [
    {
     "data": {
      "text/plain": [
       "1000001x3 TrjArray{Float64,Int64}\n",
       "| A                          | A                          | A                          |\n",
       "| 1MET                       | 2ARG                       | 3ILE                       |\n",
       "| 1CA                        | 2CA                        | 3CA                        |\n",
       "|     9.97    -9.03     9.82 |    10.38    -6.71     6.85 |     7.60    -6.67     4.34 |\n",
       "|    -0.31    16.70     8.37 |     2.09    13.74     8.49 |     0.66    10.36     7.68 |\n",
       "|    -0.16    17.02     7.32 |     2.00    14.02     8.28 |     0.72    10.75     6.93 |\n",
       "|    -0.91    17.21     8.27 |     1.42    14.22     8.73 |     0.39    10.81     7.54 |\n",
       "|    -0.17    16.95     7.98 |     2.30    14.08     8.51 |     1.24    10.70     7.27 |\n",
       "|    -0.05    16.78     8.19 |     2.30    13.82     8.73 |     1.18    10.48     7.41 |\n",
       "|     0.28    17.33     8.52 |     2.33    14.12     8.75 |     0.65    10.95     7.63 |\n",
       "|     0.11    17.24     8.34 |     2.58    14.35     8.71 |     1.10    11.09     7.58 |\n",
       "|    -0.16    17.17     7.62 |     2.20    14.23     8.27 |     0.58    11.02     7.18 |\n",
       "|    -0.40    17.63     8.77 |     1.97    14.64     8.94 |     0.65    11.29     7.86 |\n",
       "|    -0.21    17.18     8.27 |     2.30    14.34     8.74 |     0.83    10.99     7.86 |\n",
       "|             ⋮              |             ⋮              |             ⋮              |\n",
       "|    -1.57     3.13    17.43 |    -3.37     3.71    14.11 |    -1.49     5.16    11.19 |\n",
       "|    -2.82     3.77    18.08 |    -4.20     4.00    14.53 |    -1.74     5.12    11.92 |\n",
       "|    -1.89     3.24    17.82 |    -3.81     3.84    14.57 |    -1.77     5.08    11.67 |\n",
       "|    -1.40     3.67    17.95 |    -3.16     3.68    14.57 |    -1.36     5.42    11.76 |\n",
       "|    -1.90     4.16    18.10 |    -3.92     4.20    14.85 |    -2.36     5.78    11.82 |\n",
       "|    -2.87     4.08    17.89 |    -4.55     4.21    14.46 |    -2.31     5.38    11.67 |\n",
       "|    -2.54     3.63    17.75 |    -3.86     3.95    14.17 |    -1.90     5.51    11.38 |\n",
       "|    -1.28     3.52    17.39 |    -3.31     4.02    14.19 |    -1.43     5.42    11.26 |\n",
       "|    -2.56     3.82    17.97 |    -4.18     4.17    14.53 |    -2.01     5.19    11.64 |\n",
       "|    -1.07     3.60    17.92 |    -3.32     4.21    14.90 |    -1.75     5.54    11.76 |\n",
       "|    -2.30     3.77    18.22 |    -3.98     4.29    14.84 |    -1.73     5.41    12.05 |"
      ]
     },
     "execution_count": 13,
     "metadata": {},
     "output_type": "execute_result"
    }
   ],
   "source": [
    "t[\"resid 1:3\"]"
   ]
  },
  {
   "cell_type": "code",
   "execution_count": 14,
   "metadata": {},
   "outputs": [
    {
     "data": {
      "text/plain": [
       "1000001x13 TrjArray{Float64,Int64}\n",
       "| A                          | A                          |  …   A                          | A                          |\n",
       "| 2ARG                       | 36ARG                      |  …   167ARG                     | 206ARG                     |\n",
       "| 1CA                        | 2CA                        |  …   12CA                       | 13CA                       |\n",
       "|    10.38    -6.71     6.85 |    -2.02    11.35    -0.08 |  …      -5.02     5.32   -12.12 |    -5.77   -13.47     6.38 |\n",
       "|     2.09    13.74     8.49 |    19.42     8.45    -5.16 |          3.38   -12.85    -1.22 |   -12.04     9.01    -0.55 |\n",
       "|     2.00    14.02     8.28 |    18.48     8.03    -5.54 |          4.10   -12.20    -1.21 |   -12.31     9.06     0.41 |\n",
       "|     1.42    14.22     8.73 |    17.67     6.14    -5.73 |          4.37   -10.99    -0.50 |   -12.38     9.39     0.16 |\n",
       "|     2.30    14.08     8.51 |    18.08     7.51    -5.79 |          3.31   -12.04    -1.03 |   -12.03     8.34     0.09 |\n",
       "|     2.30    13.82     8.73 |    18.27     8.78    -5.68 |  …       3.58   -11.09    -0.59 |   -11.75     8.80    -0.09 |\n",
       "|     2.33    14.12     8.75 |    17.51     7.57    -5.54 |          4.30   -12.53    -0.46 |   -12.02     9.85     0.42 |\n",
       "|     2.58    14.35     8.71 |    18.72     7.85    -5.67 |          3.46   -11.69    -0.71 |   -12.23     9.02    -0.39 |\n",
       "|     2.20    14.23     8.27 |    18.22     8.49    -5.96 |          3.39   -12.17    -0.34 |   -12.17     8.92     0.17 |\n",
       "|     1.97    14.64     8.94 |    18.43     8.08    -4.81 |          4.89   -11.44    -1.27 |   -12.56     8.86     0.34 |\n",
       "|     2.30    14.34     8.74 |    18.43     7.89    -5.68 |  …       4.42   -12.24    -0.42 |   -12.08     9.10    -0.20 |\n",
       "|             ⋮              |             ⋮              |  ⋱               ⋮              |             ⋮              |\n",
       "|    -3.37     3.71    14.11 |    -6.89   -12.99    -0.08 |  …       2.49     8.30   -12.66 |    13.85     7.20    11.44 |\n",
       "|    -4.20     4.00    14.53 |    -9.39   -12.82     0.13 |          3.33     6.78   -12.65 |    12.46     7.31    13.17 |\n",
       "|    -3.81     3.84    14.57 |    -6.83   -12.11    -0.88 |          2.73     6.33   -13.04 |    13.22     8.03    12.76 |\n",
       "|    -3.16     3.68    14.57 |    -5.00   -11.71    -2.28 |          1.69     7.97   -12.15 |    13.24     9.21    11.94 |\n",
       "|    -3.92     4.20    14.85 |    -6.92   -11.91    -1.20 |          2.27     6.30   -12.43 |    12.83     8.20    11.94 |\n",
       "|    -4.55     4.21    14.46 |    -8.56   -12.58    -0.53 |  …       3.27     6.08   -11.98 |    12.40     7.10    12.88 |\n",
       "|    -3.86     3.95    14.17 |    -7.09   -12.68    -1.78 |          2.95     8.13   -12.38 |    13.03     8.55    13.17 |\n",
       "|    -3.31     4.02    14.19 |    -7.52   -11.67    -1.84 |          2.89     7.13   -12.41 |    13.36     7.38    12.48 |\n",
       "|    -4.18     4.17    14.53 |    -8.43   -13.66    -0.28 |          2.66     6.67   -12.39 |    12.70     7.33    12.77 |\n",
       "|    -3.32     4.21    14.90 |    -7.07   -11.53    -0.83 |          1.86     6.88   -12.27 |    12.79     7.11    11.51 |\n",
       "|    -3.98     4.29    14.84 |    -5.26   -11.25    -0.91 |  …       1.49     6.91   -12.81 |    12.95     7.66    12.62 |"
      ]
     },
     "execution_count": 14,
     "metadata": {},
     "output_type": "execute_result"
    }
   ],
   "source": [
    "t[\"resname ARG\"]"
   ]
  },
  {
   "cell_type": "code",
   "execution_count": 25,
   "metadata": {},
   "outputs": [
    {
     "name": "stdout",
     "output_type": "stream",
     "text": [
      " PyMOL(TM) Molecular Graphics System, Version 2.4.0.\n",
      " Copyright (c) Schrodinger, LLC.\n",
      " All Rights Reserved.\n",
      " \n",
      "    Created by Warren L. DeLano, Ph.D. \n",
      " \n",
      "    PyMOL is user-supported open-source software.  Although some versions\n",
      "    are freely available, PyMOL is not in the public domain.\n",
      " \n",
      "    If PyMOL is helpful in your work or study, then please volunteer \n",
      "    support for our ongoing efforts to create open and affordable scientific\n",
      "    software by purchasing a PyMOL Maintenance and/or Support subscription.\n",
      "\n",
      "    More information can be found at \"http://www.pymol.org\".\n",
      " \n",
      "    Enter \"help\" for a list of commands.\n",
      "    Enter \"help <command-name>\" for information on a specific command.\n",
      "\n",
      " Hit ESC anytime to toggle between text and graphics.\n",
      "\n",
      " Detected OpenGL version 2.1. Shaders available.\n",
      " Detected GLSL version 1.20.\n",
      " OpenGL graphics engine:\n",
      "  GL_VENDOR:   Intel Inc.\n",
      "  GL_RENDERER: Intel(R) Iris(TM) Plus Graphics 655\n",
      "  GL_VERSION:  2.1 INTEL-14.7.8\n",
      " Detected 8 CPU cores.  Enabled multithreaded rendering.\n",
      "PyMOL>set ray_trace_fog, 0\n",
      " Setting: ray_trace_fog set to 0.00000.\n",
      "PyMOL>set ray_shadows, 0\n",
      " Setting: ray_shadow set to off.\n",
      "PyMOL>set antialias, 1\n",
      " Setting: antialias set to 1.\n",
      "PyMOL>set volume_mode, 1\n",
      " Setting: volume_mode set to 1.\n",
      " Setting-Warning: volume_mode is not supported in Open-Source version of PyMOL\n",
      "PyMOL>set antialias_shader, 2\n",
      " Setting: antialias_shader set to 2.\n",
      " Setting-Warning: antialias_shader is not supported in Open-Source version of PyMOL\n",
      "PyMOL>set line_smooth, on\n",
      " Setting: line_smooth set to on.\n",
      "PyMOL>set valence, 1\n",
      " Setting: valence set to on.\n",
      "PyMOL>set session_compression, 1\n",
      " Setting: session_compression set to on.\n",
      "PyMOL>set movie_panel, 1\n",
      " Setting: movie_panel set to 1.\n",
      "PyMOL>set scene_buttons, 1\n",
      " Setting: scene_buttons set to on.\n",
      "PyMOL>set ray_trace_frames, 0\n",
      " Setting: ray_trace_frames set to off.\n",
      "PyMOL>set show_frame_rate\n",
      " Setting: show_frame_rate set to on.\n",
      " ObjectMoleculeReadPDBStr: read MODEL 1\n",
      " ObjectMoleculeReadPDBStr: read MODEL 2\n",
      " ObjectMoleculeReadPDBStr: read MODEL 3\n",
      " ObjectMoleculeReadPDBStr: read MODEL 4\n",
      " ObjectMoleculeReadPDBStr: read MODEL 5\n",
      " ObjectMoleculeReadPDBStr: read MODEL 6\n",
      " ObjectMoleculeReadPDBStr: read MODEL 7\n",
      " ObjectMoleculeReadPDBStr: read MODEL 8\n",
      " ObjectMoleculeReadPDBStr: read MODEL 9\n",
      " ObjectMoleculeReadPDBStr: read MODEL 10\n",
      " ObjectMoleculeReadPDBStr: read MODEL 11\n",
      " CmdLoad: \"\" loaded as \"run_10-20\".\n",
      " ShaderPrg-Error: fragment shader compilation failed.; name='volume'\n",
      " ShaderPrg-Error-InfoLog:\n",
      "ERROR: 0:65: Use of undeclared identifier 'color'\n",
      "ERROR: 0:67: Use of undeclared identifier 'color'\n",
      "ERROR: 0:67: Use of undeclared identifier 'color'\n",
      "ERROR: 0:68: Use of undeclared identifier 'color'\n",
      "\n"
     ]
    },
    {
     "data": {
      "text/plain": [
       "Process(`\u001b[4mpymol\u001b[24m \u001b[4mrun_10-20.pdb\u001b[24m`, ProcessExited(0))"
      ]
     },
     "execution_count": 25,
     "metadata": {},
     "output_type": "execute_result"
    }
   ],
   "source": [
    "mdsave(\"run_10-20.pdb\", t[10:20, :]);\n",
    "run(`pymol run_10-20.pdb`)"
   ]
  },
  {
   "cell_type": "code",
   "execution_count": 28,
   "metadata": {},
   "outputs": [
    {
     "data": {
      "text/plain": [
       "TrjArray{Float64,Int64}"
      ]
     },
     "execution_count": 28,
     "metadata": {},
     "output_type": "execute_result"
    }
   ],
   "source": [
    "typeof(t)"
   ]
  },
  {
   "cell_type": "code",
   "execution_count": 31,
   "metadata": {},
   "outputs": [
    {
     "data": {
      "text/plain": [
       "(:x, :y, :z, :boxsize, :chainname, :chainid, :resname, :resid, :atomname, :atomid, :mass, :radius, :charge, :sasa, :list_bond, :list_angle, :list_dihedral, :list_improper, :list_cmap, :natom, :nframe)"
      ]
     },
     "execution_count": 31,
     "metadata": {},
     "output_type": "execute_result"
    }
   ],
   "source": [
    "fieldnames(TrjArray)"
   ]
  },
  {
   "cell_type": "code",
   "execution_count": 32,
   "metadata": {},
   "outputs": [
    {
     "data": {
      "text/plain": [
       "1000001×214 Array{Float64,2}:\n",
       "  9.966      10.385     7.604      6.921     3.154       2.185      …   -0.242      0.706      3.099     4.714      5.088\n",
       " -0.313161    2.09287   0.661371   2.22107   0.401681    0.413164      -11.9631   -14.2604   -11.3642   -8.57085  -10.1377\n",
       " -0.15682     1.99948   0.724321   2.06014   0.178823   -0.0581775     -11.7981   -13.6416   -10.3798   -8.10234  -10.2124\n",
       " -0.909282    1.41726   0.394851   1.90554   0.0793906   0.118065      -12.6456   -14.6178   -11.5779   -8.87849  -10.2152\n",
       " -0.169155    2.30053   1.23821    2.6751    0.859839    0.975784      -12.1475   -14.0271   -10.6105   -8.25035  -10.04\n",
       " -0.0539936   2.2971    1.18334    2.55654   1.1733      0.377941   …  -11.5826   -13.5463   -10.4357   -7.88916   -9.58696\n",
       "  0.280723    2.32848   0.649149   2.08247  -0.105699    0.577565      -12.0516   -13.5563   -10.2077   -7.85445  -10.0323\n",
       "  0.105384    2.5788    1.10146    2.3869    0.0130972   0.306445      -11.9937   -14.2483   -11.2757   -8.67301  -10.6028\n",
       " -0.156667    2.19694   0.579775   1.77295  -0.167637   -0.288352      -12.0096   -14.2379   -11.1075   -8.58518  -10.3571\n",
       " -0.399488    1.96884   0.654634   2.17084   0.444279    0.516964      -12.6174   -14.6753   -11.6122   -9.04184  -10.9388\n",
       " -0.20756     2.29576   0.832456   2.2738    0.340678    0.713559   …  -12.2355   -14.0019   -10.6673   -8.68534  -10.8619\n",
       " -0.0384825   2.291     0.76144    2.20119   0.0292811   0.219708      -12.2962   -13.8337   -10.4241   -8.11735  -10.2479\n",
       "  0.239839    2.48306   0.897984   2.12378   0.140646   -0.0722553     -11.9025   -14.1067   -11.0563   -8.34812  -10.2281\n",
       "  ⋮                                                      ⋮          ⋱               ⋮                             \n",
       " -2.13116    -3.97277  -1.67336   -2.33974   0.855902    0.375695        9.04863    8.67801    5.30672   3.75231    4.85765\n",
       " -1.57217    -3.36506  -1.49076   -2.44949   0.792824    0.727829   …   10.0967     9.51458    6.1469    4.58888    5.57253\n",
       " -2.81996    -4.19727  -1.7359    -2.26726   0.939826    1.1832          8.55595    8.30827    5.13426   3.3867     4.47653\n",
       " -1.89265    -3.81207  -1.77197   -2.53434   0.723228    0.77627         9.55313    8.58496    5.25994   4.23801    4.78399\n",
       " -1.40292    -3.16362  -1.36451   -2.15162   0.9296      0.631353        9.60328    9.17091    5.74505   4.26423    5.94195\n",
       " -1.90177    -3.91895  -2.3639    -2.83979   0.652842    0.624968        9.15226    8.97033    5.42991   4.026      5.64765\n",
       " -2.86852    -4.54562  -2.31438   -2.87592   0.483297    0.715458   …    8.74783    8.48238    5.24003   3.67245    4.17914\n",
       " -2.5445     -3.85587  -1.89984   -2.52452   0.771356    0.743848        9.08503    8.39944    5.32267   3.98945    4.41459\n",
       " -1.28452    -3.31475  -1.43411   -2.27808   0.865755    0.906327        9.36051    9.21675    6.09954   4.34342    5.31376\n",
       " -2.56307    -4.18299  -2.01399   -2.88646   0.382633    0.246933        9.00394    8.53963    5.28741   3.76572    5.32506\n",
       " -1.07177    -3.32016  -1.74751   -2.67379   0.566277    0.171497       10.0833    10.0884     6.5835    4.70422    5.73644\n",
       " -2.29607    -3.97698  -1.72549   -2.4446    0.856778    0.514901   …    9.27084    9.16175    5.66224   4.21935    5.65779"
      ]
     },
     "execution_count": 32,
     "metadata": {},
     "output_type": "execute_result"
    }
   ],
   "source": [
    "t.x"
   ]
  },
  {
   "cell_type": "code",
   "execution_count": 33,
   "metadata": {},
   "outputs": [
    {
     "data": {
      "text/plain": [
       "214-element Array{String,1}:\n",
       " \"CA\"\n",
       " \"CA\"\n",
       " \"CA\"\n",
       " \"CA\"\n",
       " \"CA\"\n",
       " \"CA\"\n",
       " \"CA\"\n",
       " \"CA\"\n",
       " \"CA\"\n",
       " \"CA\"\n",
       " \"CA\"\n",
       " \"CA\"\n",
       " \"CA\"\n",
       " ⋮\n",
       " \"CA\"\n",
       " \"CA\"\n",
       " \"CA\"\n",
       " \"CA\"\n",
       " \"CA\"\n",
       " \"CA\"\n",
       " \"CA\"\n",
       " \"CA\"\n",
       " \"CA\"\n",
       " \"CA\"\n",
       " \"CA\"\n",
       " \"CA\""
      ]
     },
     "execution_count": 33,
     "metadata": {},
     "output_type": "execute_result"
    }
   ],
   "source": [
    "t.atomname"
   ]
  },
  {
   "cell_type": "code",
   "execution_count": 36,
   "metadata": {},
   "outputs": [
    {
     "data": {
      "text/plain": [
       "214-element Array{String,1}:\n",
       " \"MET\"\n",
       " \"ARG\"\n",
       " \"ILE\"\n",
       " \"ILE\"\n",
       " \"LEU\"\n",
       " \"LEU\"\n",
       " \"GLY\"\n",
       " \"ALA\"\n",
       " \"PRO\"\n",
       " \"GLY\"\n",
       " \"ALA\"\n",
       " \"GLY\"\n",
       " \"LYS\"\n",
       " ⋮\n",
       " \"ALA\"\n",
       " \"GLU\"\n",
       " \"VAL\"\n",
       " \"ARG\"\n",
       " \"ALA\"\n",
       " \"ASP\"\n",
       " \"LEU\"\n",
       " \"GLU\"\n",
       " \"LYS\"\n",
       " \"ILE\"\n",
       " \"LEU\"\n",
       " \"GLY\""
      ]
     },
     "execution_count": 36,
     "metadata": {},
     "output_type": "execute_result"
    }
   ],
   "source": [
    "t.resname"
   ]
  },
  {
   "cell_type": "code",
   "execution_count": 48,
   "metadata": {},
   "outputs": [],
   "source": [
    "# free memory\n",
    "t = nothing"
   ]
  },
  {
   "cell_type": "code",
   "execution_count": null,
   "metadata": {},
   "outputs": [],
   "source": []
  }
 ],
 "metadata": {
  "kernelspec": {
   "display_name": "Julia 1.5.3",
   "language": "julia",
   "name": "julia-1.5"
  },
  "language_info": {
   "file_extension": ".jl",
   "mimetype": "application/julia",
   "name": "julia",
   "version": "1.5.3"
  }
 },
 "nbformat": 4,
 "nbformat_minor": 4
}
