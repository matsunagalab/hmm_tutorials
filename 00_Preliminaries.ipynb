{
 "cells": [
  {
   "cell_type": "markdown",
   "metadata": {},
   "source": [
    "# 00 Preliminaries"
   ]
  },
  {
   "cell_type": "markdown",
   "metadata": {},
   "source": [
    "Jupyter notebook is an interactive computing environment for creating and sharing documents that contain live code, equations, and visualizations. In the notebook, dark cells can contain live code and you can evaluate cells by pressing `Shift + Return` key. Of course, you can edit the code in the cell and re-evalute the code. "
   ]
  },
  {
   "cell_type": "markdown",
   "metadata": {},
   "source": [
    "In the following, using cells, we introduce basic properties of Julia language"
   ]
  },
  {
   "cell_type": "markdown",
   "metadata": {},
   "source": [
    "# Introduction to Julia"
   ]
  },
  {
   "cell_type": "markdown",
   "metadata": {},
   "source": [
    "# types"
   ]
  },
  {
   "cell_type": "code",
   "execution_count": 67,
   "metadata": {},
   "outputs": [
    {
     "data": {
      "text/plain": [
       "4"
      ]
     },
     "execution_count": 67,
     "metadata": {},
     "output_type": "execute_result"
    }
   ],
   "source": [
    "# sum of integers\n",
    "1 + 3"
   ]
  },
  {
   "cell_type": "code",
   "execution_count": 68,
   "metadata": {},
   "outputs": [
    {
     "data": {
      "text/plain": [
       "Int64"
      ]
     },
     "execution_count": 68,
     "metadata": {},
     "output_type": "execute_result"
    }
   ],
   "source": [
    "# default type of integer is 64-bit Int\n",
    "typeof(1)"
   ]
  },
  {
   "cell_type": "code",
   "execution_count": 69,
   "metadata": {},
   "outputs": [
    {
     "data": {
      "text/plain": [
       "4.0"
      ]
     },
     "execution_count": 69,
     "metadata": {},
     "output_type": "execute_result"
    }
   ],
   "source": [
    "# sum of floating numbers\n",
    "1.0 + 3.0"
   ]
  },
  {
   "cell_type": "code",
   "execution_count": 70,
   "metadata": {},
   "outputs": [
    {
     "data": {
      "text/plain": [
       "Float64"
      ]
     },
     "execution_count": 70,
     "metadata": {},
     "output_type": "execute_result"
    }
   ],
   "source": [
    "# default type of floating numbers is 64-bit Float\n",
    "typeof(1.0)"
   ]
  },
  {
   "cell_type": "code",
   "execution_count": 71,
   "metadata": {},
   "outputs": [
    {
     "data": {
      "text/plain": [
       "\"hello world\""
      ]
     },
     "execution_count": 71,
     "metadata": {},
     "output_type": "execute_result"
    }
   ],
   "source": [
    "# strings\n",
    "\"hello world\""
   ]
  },
  {
   "cell_type": "code",
   "execution_count": 72,
   "metadata": {},
   "outputs": [
    {
     "data": {
      "text/plain": [
       "String"
      ]
     },
     "execution_count": 72,
     "metadata": {},
     "output_type": "execute_result"
    }
   ],
   "source": [
    "# type of string is called String\n",
    "typeof(\"hello world\")"
   ]
  },
  {
   "cell_type": "code",
   "execution_count": 73,
   "metadata": {},
   "outputs": [
    {
     "data": {
      "text/plain": [
       "3-element Array{Int64,1}:\n",
       " 1\n",
       " 2\n",
       " 3"
      ]
     },
     "execution_count": 73,
     "metadata": {},
     "output_type": "execute_result"
    }
   ],
   "source": [
    "# 1-dimensional array = Vector\n",
    "[1, 2, 3]"
   ]
  },
  {
   "cell_type": "code",
   "execution_count": 74,
   "metadata": {},
   "outputs": [
    {
     "data": {
      "text/plain": [
       "Array{Int64,1}"
      ]
     },
     "execution_count": 74,
     "metadata": {},
     "output_type": "execute_result"
    }
   ],
   "source": [
    "# tells us this is a 1-dimensional integer array\n",
    "typeof([1, 2, 3])"
   ]
  },
  {
   "cell_type": "code",
   "execution_count": 75,
   "metadata": {},
   "outputs": [
    {
     "data": {
      "text/plain": [
       "3×3 Array{Int64,2}:\n",
       " 1  4  7\n",
       " 2  5  8\n",
       " 3  6  9"
      ]
     },
     "execution_count": 75,
     "metadata": {},
     "output_type": "execute_result"
    }
   ],
   "source": [
    "# 2-dimensional array = Matrix\n",
    "[1 4 7; 2 5 8; 3 6 9]"
   ]
  },
  {
   "cell_type": "code",
   "execution_count": 76,
   "metadata": {},
   "outputs": [
    {
     "data": {
      "text/plain": [
       "Array{Int64,2}"
      ]
     },
     "execution_count": 76,
     "metadata": {},
     "output_type": "execute_result"
    }
   ],
   "source": [
    "# tells us this is a 2-dimensional integer array\n",
    "typeof([1 4 7; 2 5 8; 3 6 9])"
   ]
  },
  {
   "cell_type": "code",
   "execution_count": 77,
   "metadata": {},
   "outputs": [
    {
     "data": {
      "text/plain": [
       "Float64"
      ]
     },
     "execution_count": 77,
     "metadata": {},
     "output_type": "execute_result"
    }
   ],
   "source": [
    "# when different types are in a arithmetic operation, type conversion occurs\n",
    "typeof(1 + 1.0) #type promotion, conversion"
   ]
  },
  {
   "cell_type": "code",
   "execution_count": 78,
   "metadata": {},
   "outputs": [
    {
     "data": {
      "text/plain": [
       "2.0"
      ]
     },
     "execution_count": 78,
     "metadata": {},
     "output_type": "execute_result"
    }
   ],
   "source": [
    "# divisions of integers always converted to float\n",
    "4/2"
   ]
  },
  {
   "cell_type": "markdown",
   "metadata": {},
   "source": [
    "# variables"
   ]
  },
  {
   "cell_type": "code",
   "execution_count": 79,
   "metadata": {},
   "outputs": [
    {
     "data": {
      "text/plain": [
       "3"
      ]
     },
     "execution_count": 79,
     "metadata": {},
     "output_type": "execute_result"
    }
   ],
   "source": [
    "a = 1.0\n",
    "b = 3"
   ]
  },
  {
   "cell_type": "code",
   "execution_count": 80,
   "metadata": {},
   "outputs": [
    {
     "data": {
      "text/plain": [
       "Float64"
      ]
     },
     "execution_count": 80,
     "metadata": {},
     "output_type": "execute_result"
    }
   ],
   "source": [
    "typeof(a)"
   ]
  },
  {
   "cell_type": "code",
   "execution_count": 81,
   "metadata": {},
   "outputs": [
    {
     "data": {
      "text/plain": [
       "Int64"
      ]
     },
     "execution_count": 81,
     "metadata": {},
     "output_type": "execute_result"
    }
   ],
   "source": [
    "typeof(b)"
   ]
  },
  {
   "cell_type": "code",
   "execution_count": 82,
   "metadata": {},
   "outputs": [
    {
     "data": {
      "text/plain": [
       "4.0"
      ]
     },
     "execution_count": 82,
     "metadata": {},
     "output_type": "execute_result"
    }
   ],
   "source": [
    "a + b"
   ]
  },
  {
   "cell_type": "markdown",
   "metadata": {},
   "source": [
    "# vectors"
   ]
  },
  {
   "cell_type": "code",
   "execution_count": 83,
   "metadata": {},
   "outputs": [
    {
     "data": {
      "text/plain": [
       "4-element Array{Int64,1}:\n",
       " 1\n",
       " 2\n",
       " 3\n",
       " 4"
      ]
     },
     "execution_count": 83,
     "metadata": {},
     "output_type": "execute_result"
    }
   ],
   "source": [
    "# 1-dimensional array = vector\n",
    "a = [1, 2, 3, 4]"
   ]
  },
  {
   "cell_type": "code",
   "execution_count": 84,
   "metadata": {},
   "outputs": [
    {
     "data": {
      "text/plain": [
       "4"
      ]
     },
     "execution_count": 84,
     "metadata": {},
     "output_type": "execute_result"
    }
   ],
   "source": [
    "# the number of elements can be accessed by size() or length()\n",
    "size(a, 1)"
   ]
  },
  {
   "cell_type": "code",
   "execution_count": 85,
   "metadata": {},
   "outputs": [
    {
     "data": {
      "text/plain": [
       "1"
      ]
     },
     "execution_count": 85,
     "metadata": {},
     "output_type": "execute_result"
    }
   ],
   "source": [
    "# Like FORTRAN and MATLAB, index always starts from 1, not 0\n",
    "a[1]"
   ]
  },
  {
   "cell_type": "code",
   "execution_count": 86,
   "metadata": {},
   "outputs": [
    {
     "data": {
      "text/plain": [
       "4-element Array{Int64,1}:\n",
       " 5\n",
       " 6\n",
       " 7\n",
       " 8"
      ]
     },
     "execution_count": 86,
     "metadata": {},
     "output_type": "execute_result"
    }
   ],
   "source": [
    "b = [5, 6, 7, 8]"
   ]
  },
  {
   "cell_type": "code",
   "execution_count": 87,
   "metadata": {},
   "outputs": [
    {
     "data": {
      "text/plain": [
       "4-element Array{Int64,1}:\n",
       "  6\n",
       "  8\n",
       " 10\n",
       " 12"
      ]
     },
     "execution_count": 87,
     "metadata": {},
     "output_type": "execute_result"
    }
   ],
   "source": [
    "# sum of vectors\n",
    "a + b"
   ]
  },
  {
   "cell_type": "code",
   "execution_count": 88,
   "metadata": {},
   "outputs": [
    {
     "data": {
      "text/plain": [
       "4-element Array{Int64,1}:\n",
       "  5\n",
       " 12\n",
       " 21\n",
       " 32"
      ]
     },
     "execution_count": 88,
     "metadata": {},
     "output_type": "execute_result"
    }
   ],
   "source": [
    "# Element-wise product\n",
    "a .* b"
   ]
  },
  {
   "cell_type": "code",
   "execution_count": 89,
   "metadata": {},
   "outputs": [
    {
     "data": {
      "text/plain": [
       "1×4 Array{Int64,2}:\n",
       " 1  2  3  4"
      ]
     },
     "execution_count": 89,
     "metadata": {},
     "output_type": "execute_result"
    }
   ],
   "source": [
    "# Row vector =  1-by-4 2-dimensional Array(Matrix)\n",
    "c = [1 2 3 4]"
   ]
  },
  {
   "cell_type": "code",
   "execution_count": 90,
   "metadata": {},
   "outputs": [
    {
     "ename": "LoadError",
     "evalue": "DimensionMismatch(\"dimensions must match: a has dims (Base.OneTo(1), Base.OneTo(4)), b has dims (Base.OneTo(4),), mismatch at 1\")",
     "output_type": "error",
     "traceback": [
      "DimensionMismatch(\"dimensions must match: a has dims (Base.OneTo(1), Base.OneTo(4)), b has dims (Base.OneTo(4),), mismatch at 1\")",
      "",
      "Stacktrace:",
      " [1] promote_shape at ./indices.jl:178 [inlined]",
      " [2] promote_shape at ./indices.jl:174 [inlined]",
      " [3] promote_shape at ./indices.jl:169 [inlined]",
      " [4] +(::Array{Int64,1}, ::Array{Int64,2}) at ./arraymath.jl:45",
      " [5] top-level scope at In[90]:2",
      " [6] include_string(::Function, ::Module, ::String, ::String) at ./loading.jl:1091"
     ]
    }
   ],
   "source": [
    "# sum of different-size vectors results in an error\n",
    "a + c"
   ]
  },
  {
   "cell_type": "code",
   "execution_count": 91,
   "metadata": {},
   "outputs": [
    {
     "data": {
      "text/plain": [
       "4×4 Array{Int64,2}:\n",
       " 1  2   3   4\n",
       " 2  4   6   8\n",
       " 3  6   9  12\n",
       " 4  8  12  16"
      ]
     },
     "execution_count": 91,
     "metadata": {},
     "output_type": "execute_result"
    }
   ],
   "source": [
    "# Matrix multiplication\n",
    "a * c"
   ]
  },
  {
   "cell_type": "markdown",
   "metadata": {},
   "source": [
    "# matrices"
   ]
  },
  {
   "cell_type": "code",
   "execution_count": 92,
   "metadata": {},
   "outputs": [
    {
     "data": {
      "text/plain": [
       "2×2 Array{Int64,2}:\n",
       " 1  2\n",
       " 3  4"
      ]
     },
     "execution_count": 92,
     "metadata": {},
     "output_type": "execute_result"
    }
   ],
   "source": [
    "# 2-dimensional array = Matrix\n",
    "A = [1 2; 3 4]"
   ]
  },
  {
   "cell_type": "code",
   "execution_count": 93,
   "metadata": {},
   "outputs": [
    {
     "data": {
      "text/plain": [
       "(2, 2)"
      ]
     },
     "execution_count": 93,
     "metadata": {},
     "output_type": "execute_result"
    }
   ],
   "source": [
    "# the size of Matrix can be accessed by size()\n",
    "size(A)"
   ]
  },
  {
   "cell_type": "code",
   "execution_count": 94,
   "metadata": {},
   "outputs": [
    {
     "data": {
      "text/plain": [
       "1"
      ]
     },
     "execution_count": 94,
     "metadata": {},
     "output_type": "execute_result"
    }
   ],
   "source": [
    "# first index specifies row, second index is column\n",
    "A[1, 1]"
   ]
  },
  {
   "cell_type": "code",
   "execution_count": 95,
   "metadata": {},
   "outputs": [
    {
     "data": {
      "text/plain": [
       "2-element Array{Int64,1}:\n",
       " 2\n",
       " 4"
      ]
     },
     "execution_count": 95,
     "metadata": {},
     "output_type": "execute_result"
    }
   ],
   "source": [
    "# index slicing\n",
    "A[1:2, 2]"
   ]
  },
  {
   "cell_type": "code",
   "execution_count": 96,
   "metadata": {},
   "outputs": [
    {
     "data": {
      "text/plain": [
       "2-element Array{Int64,1}:\n",
       " 2\n",
       " 4"
      ]
     },
     "execution_count": 96,
     "metadata": {},
     "output_type": "execute_result"
    }
   ],
   "source": [
    "# : specifies all indices\n",
    "A[:, 2]"
   ]
  },
  {
   "cell_type": "code",
   "execution_count": 97,
   "metadata": {},
   "outputs": [
    {
     "data": {
      "text/plain": [
       "2×2 Array{Int64,2}:\n",
       " 5  6\n",
       " 7  8"
      ]
     },
     "execution_count": 97,
     "metadata": {},
     "output_type": "execute_result"
    }
   ],
   "source": [
    "B = [5 6; 7 8]"
   ]
  },
  {
   "cell_type": "code",
   "execution_count": 98,
   "metadata": {},
   "outputs": [
    {
     "data": {
      "text/plain": [
       "2×2 Array{Int64,2}:\n",
       "  6   8\n",
       " 10  12"
      ]
     },
     "execution_count": 98,
     "metadata": {},
     "output_type": "execute_result"
    }
   ],
   "source": [
    "# Matrix sum\n",
    "A + B"
   ]
  },
  {
   "cell_type": "code",
   "execution_count": 99,
   "metadata": {},
   "outputs": [
    {
     "data": {
      "text/plain": [
       "2×2 Array{Int64,2}:\n",
       " 19  22\n",
       " 43  50"
      ]
     },
     "execution_count": 99,
     "metadata": {},
     "output_type": "execute_result"
    }
   ],
   "source": [
    "# Matrix product\n",
    "A * B"
   ]
  },
  {
   "cell_type": "code",
   "execution_count": 100,
   "metadata": {},
   "outputs": [
    {
     "data": {
      "text/plain": [
       "2×2 Array{Int64,2}:\n",
       "  5  12\n",
       " 21  32"
      ]
     },
     "execution_count": 100,
     "metadata": {},
     "output_type": "execute_result"
    }
   ],
   "source": [
    "# element-wise product\n",
    "A .* B"
   ]
  },
  {
   "cell_type": "markdown",
   "metadata": {},
   "source": [
    "# initialization of vectors and matrices"
   ]
  },
  {
   "cell_type": "code",
   "execution_count": 101,
   "metadata": {},
   "outputs": [
    {
     "data": {
      "text/plain": [
       "10-element Array{Float64,1}:\n",
       " 0.0\n",
       " 0.0\n",
       " 0.0\n",
       " 0.0\n",
       " 0.0\n",
       " 0.0\n",
       " 0.0\n",
       " 0.0\n",
       " 0.0\n",
       " 0.0"
      ]
     },
     "execution_count": 101,
     "metadata": {},
     "output_type": "execute_result"
    }
   ],
   "source": [
    "# initialization by zeros\n",
    "a = zeros(10)"
   ]
  },
  {
   "cell_type": "code",
   "execution_count": 102,
   "metadata": {},
   "outputs": [
    {
     "data": {
      "text/plain": [
       "10-element Array{Int64,1}:\n",
       " 0\n",
       " 0\n",
       " 0\n",
       " 0\n",
       " 0\n",
       " 0\n",
       " 0\n",
       " 0\n",
       " 0\n",
       " 0"
      ]
     },
     "execution_count": 102,
     "metadata": {},
     "output_type": "execute_result"
    }
   ],
   "source": [
    "# specifies the type of zeros\n",
    "a = zeros(Int64, 10)"
   ]
  },
  {
   "cell_type": "code",
   "execution_count": 103,
   "metadata": {},
   "outputs": [
    {
     "data": {
      "text/plain": [
       "3×3 Array{Float64,2}:\n",
       " 0.0  0.0  0.0\n",
       " 0.0  0.0  0.0\n",
       " 0.0  0.0  0.0"
      ]
     },
     "execution_count": 103,
     "metadata": {},
     "output_type": "execute_result"
    }
   ],
   "source": [
    "# 2-dimensional zeros\n",
    "A = zeros(3, 3)"
   ]
  },
  {
   "cell_type": "code",
   "execution_count": 104,
   "metadata": {},
   "outputs": [
    {
     "data": {
      "text/plain": [
       "3×3 Array{Int64,2}:\n",
       " 0  0  0\n",
       " 0  0  0\n",
       " 0  0  0"
      ]
     },
     "execution_count": 104,
     "metadata": {},
     "output_type": "execute_result"
    }
   ],
   "source": [
    "# specifies the type of zeros\n",
    "A = zeros(Int64, 3, 3)"
   ]
  },
  {
   "cell_type": "code",
   "execution_count": 105,
   "metadata": {},
   "outputs": [
    {
     "data": {
      "text/plain": [
       "10-element Array{Float64,1}:\n",
       " 0.3512698940715844\n",
       " 0.5208056889115671\n",
       " 0.8161519160999398\n",
       " 0.6893171507815663\n",
       " 0.16339370291168653\n",
       " 0.2074344055498667\n",
       " 0.7923413293873776\n",
       " 0.5381711539835212\n",
       " 0.13968943601098194\n",
       " 0.08779412598301461"
      ]
     },
     "execution_count": 105,
     "metadata": {},
     "output_type": "execute_result"
    }
   ],
   "source": [
    "# draws from uniform distribution\n",
    "a = rand(10)"
   ]
  },
  {
   "cell_type": "code",
   "execution_count": 106,
   "metadata": {},
   "outputs": [
    {
     "data": {
      "text/plain": [
       "10-element Array{Float64,1}:\n",
       "  0.9803784033851787\n",
       " -1.108798169655759\n",
       "  0.7198272637584432\n",
       " -1.4337598738394353\n",
       "  1.7528267344477755\n",
       "  1.1432692851254522\n",
       " -0.2762710704844821\n",
       " -0.7568233494771059\n",
       "  0.14225011475497157\n",
       " -0.17518519975352004"
      ]
     },
     "execution_count": 106,
     "metadata": {},
     "output_type": "execute_result"
    }
   ],
   "source": [
    "# draws from gaussian distribution\n",
    "a = randn(10)"
   ]
  },
  {
   "cell_type": "code",
   "execution_count": 107,
   "metadata": {},
   "outputs": [
    {
     "data": {
      "text/plain": [
       "1:10"
      ]
     },
     "execution_count": 107,
     "metadata": {},
     "output_type": "execute_result"
    }
   ],
   "source": [
    "# specifies a range, 1 2 3 4 5 6 7 8 9 10\n",
    "a = 1:10"
   ]
  },
  {
   "cell_type": "code",
   "execution_count": 108,
   "metadata": {},
   "outputs": [
    {
     "data": {
      "text/plain": [
       "UnitRange{Int64}"
      ]
     },
     "execution_count": 108,
     "metadata": {},
     "output_type": "execute_result"
    }
   ],
   "source": [
    "# but range has some special type\n",
    "typeof(a)"
   ]
  },
  {
   "cell_type": "code",
   "execution_count": 109,
   "metadata": {},
   "outputs": [
    {
     "data": {
      "text/plain": [
       "10-element Array{Int64,1}:\n",
       "  1\n",
       "  2\n",
       "  3\n",
       "  4\n",
       "  5\n",
       "  6\n",
       "  7\n",
       "  8\n",
       "  9\n",
       " 10"
      ]
     },
     "execution_count": 109,
     "metadata": {},
     "output_type": "execute_result"
    }
   ],
   "source": [
    "# type type can be converted to Array by collect()\n",
    "collect(a)"
   ]
  },
  {
   "cell_type": "code",
   "execution_count": 110,
   "metadata": {},
   "outputs": [
    {
     "data": {
      "text/plain": [
       "1.0:1.3207963267948966:6.283185307179586"
      ]
     },
     "execution_count": 110,
     "metadata": {},
     "output_type": "execute_result"
    }
   ],
   "source": [
    "# more complex range\n",
    "t = range(1, stop=2*pi, length=5) #pi is a predefined constant"
   ]
  },
  {
   "cell_type": "code",
   "execution_count": 111,
   "metadata": {},
   "outputs": [
    {
     "data": {
      "text/plain": [
       "5-element Array{Float64,1}:\n",
       " 1.0\n",
       " 2.3207963267948966\n",
       " 3.641592653589793\n",
       " 4.96238898038469\n",
       " 6.283185307179586"
      ]
     },
     "execution_count": 111,
     "metadata": {},
     "output_type": "execute_result"
    }
   ],
   "source": [
    "# again, converted to Array\n",
    "collect(t)"
   ]
  },
  {
   "cell_type": "code",
   "execution_count": 112,
   "metadata": {},
   "outputs": [
    {
     "data": {
      "text/plain": [
       "5×2 reshape(::UnitRange{Int64}, 5, 2) with eltype Int64:\n",
       " 1   6\n",
       " 2   7\n",
       " 3   8\n",
       " 4   9\n",
       " 5  10"
      ]
     },
     "execution_count": 112,
     "metadata": {},
     "output_type": "execute_result"
    }
   ],
   "source": [
    "# 1-dimensional Array(Range) can be reshaped to 2-dimensional Array(Range)\n",
    "A = reshape(1:10, 5, 2)"
   ]
  },
  {
   "cell_type": "code",
   "execution_count": 113,
   "metadata": {},
   "outputs": [
    {
     "data": {
      "text/plain": [
       "5×2 Array{Int64,2}:\n",
       " 1   6\n",
       " 2   7\n",
       " 3   8\n",
       " 4   9\n",
       " 5  10"
      ]
     },
     "execution_count": 113,
     "metadata": {},
     "output_type": "execute_result"
    }
   ],
   "source": [
    "# again, converted to Array\n",
    "collect(A)"
   ]
  },
  {
   "cell_type": "markdown",
   "metadata": {},
   "source": [
    "# plots"
   ]
  },
  {
   "cell_type": "code",
   "execution_count": 114,
   "metadata": {},
   "outputs": [],
   "source": [
    "# In julia, there are several plotting packages. PyPlot is a wrapper package for Python's matplotlib.pyplot\n",
    "# this takes time... please be patient\n",
    "using PyPlot"
   ]
  },
  {
   "cell_type": "code",
   "execution_count": 115,
   "metadata": {},
   "outputs": [
    {
     "data": {
      "text/plain": [
       "50-element Array{Float64,1}:\n",
       "  0.8414709848078965\n",
       "  0.9444931469173716\n",
       "  0.9951331505698849\n",
       "  0.9905824706805856\n",
       "  0.9310934906953738\n",
       "  0.8199655052530715\n",
       "  0.663361739318773\n",
       "  0.4699675320173844\n",
       "  0.2505086424976974\n",
       "  0.017156392873725015\n",
       " -0.21714736062615594\n",
       " -0.439407990795863\n",
       " -0.6372987892984507\n",
       "  ⋮\n",
       " -0.5184698032563613\n",
       " -0.7040672865242514\n",
       " -0.8506167742747077\n",
       " -0.9499905437029796\n",
       " -0.9966772657394525\n",
       " -0.9880876666773427\n",
       " -0.9246981308510646\n",
       " -0.810024280074289\n",
       " -0.650425995137961\n",
       " -0.45475469299336263\n",
       " -0.233862421839966\n",
       " -4.898587196589413e-16"
      ]
     },
     "execution_count": 115,
     "metadata": {},
     "output_type": "execute_result"
    }
   ],
   "source": [
    "x = range(1, stop=4*pi, length=50)\n",
    "y = sin.(x) # dot is needed for element-wise sin"
   ]
  },
  {
   "cell_type": "code",
   "execution_count": 116,
   "metadata": {},
   "outputs": [
    {
     "data": {
      "image/png": "[encoded data removed]",
      "text/plain": [
       "Figure(PyObject <Figure size 640x480 with 1 Axes>)"
      ]
     },
     "metadata": {},
     "output_type": "display_data"
    }
   ],
   "source": [
    "p = plot(x, y, label=[\"sin\"], linewidth=3)\n",
    "xlabel(\"time [sec]\", fontsize=15)\n",
    "ylabel(\"sin(x) [cm]\", fontsize=15)\n",
    "\n",
    "savefig(\"01_sin.png\", dpi=200) # let's check the output file in Jupyter"
   ]
  },
  {
   "cell_type": "markdown",
   "metadata": {},
   "source": [
    "# Introduction to MDToolbox.jl"
   ]
  },
  {
   "cell_type": "markdown",
   "metadata": {},
   "source": [
    "# Basics"
   ]
  },
  {
   "cell_type": "code",
   "execution_count": 117,
   "metadata": {},
   "outputs": [],
   "source": [
    "# MDToolbox is a our-inhouse package for stastical analysis of MD trajectories\n",
    "# this takes time... please be patient\n",
    "using MDToolbox\n",
    "ENV[\"COLUMNS\"] = 130; # set display width for MDToolbox"
   ]
  },
  {
   "cell_type": "code",
   "execution_count": 118,
   "metadata": {},
   "outputs": [
    {
     "data": {
      "text/plain": [
       "1x214 TrjArray{Float64,Int64}\n",
       "| A                          | A                          |  …   A                          | A                          |\n",
       "| 1MET                       | 2ARG                       |  …   213LEU                     | 214GLY                     |\n",
       "| 2CA                        | 10CA                       |  …   1650CA                     | 1658CA                     |\n",
       "|     9.97    -9.03     9.82 |    10.38    -6.71     6.85 |  …       4.71   -15.48     6.74 |     5.09   -17.11     9.36 |"
      ]
     },
     "execution_count": 118,
     "metadata": {},
     "output_type": "execute_result"
    }
   ],
   "source": [
    "# first, read a pdb of coarse-grained (Ca-atom) Adenylate Kinase structure\n",
    "# mdload() automatically detects files types from its extension and read the data. Currently, PDB, PSF, DCD, and NetCDF are available. \n",
    "t = mdload(\"data/AdK_closed.pdb\")"
   ]
  },
  {
   "cell_type": "code",
   "execution_count": 119,
   "metadata": {},
   "outputs": [
    {
     "data": {
      "text/plain": [
       "TrjArray{Float64,Int64}"
      ]
     },
     "execution_count": 119,
     "metadata": {},
     "output_type": "execute_result"
    }
   ],
   "source": [
    "# variable t has a original type TrjArray which is defined in MDToolbox for representing MD trajectory data\n",
    "typeof(t)"
   ]
  },
  {
   "cell_type": "code",
   "execution_count": 120,
   "metadata": {},
   "outputs": [
    {
     "data": {
      "text/plain": [
       "1x1 TrjArray{Float64,Int64}\n",
       "| A                          |\n",
       "| 1MET                       |\n",
       "| 1CA                        |\n",
       "|     9.97    -9.03     9.82 |"
      ]
     },
     "execution_count": 120,
     "metadata": {},
     "output_type": "execute_result"
    }
   ],
   "source": [
    "# In TrjArray, columns corresponds to atoms and rows corresponds to frames (snapshots) of MD trajectory. \n",
    "t[:, 1]"
   ]
  },
  {
   "cell_type": "code",
   "execution_count": 121,
   "metadata": {},
   "outputs": [
    {
     "data": {
      "text/plain": [
       "1x13 TrjArray{Float64,Int64}\n",
       "| A                          | A                          |  …   A                          | A                          |\n",
       "| 2ARG                       | 36ARG                      |  …   167ARG                     | 206ARG                     |\n",
       "| 1CA                        | 2CA                        |  …   12CA                       | 13CA                       |\n",
       "|    10.38    -6.71     6.85 |    -2.02    11.35    -0.08 |  …      -5.02     5.32   -12.12 |    -5.77   -13.47     6.38 |"
      ]
     },
     "execution_count": 121,
     "metadata": {},
     "output_type": "execute_result"
    }
   ],
   "source": [
    "# Also, we can flexibly select atom by giving some strings\n",
    "# for example, we can select only ARG residues\n",
    "t[:, \"resname ARG\"]"
   ]
  },
  {
   "cell_type": "code",
   "execution_count": 122,
   "metadata": {},
   "outputs": [
    {
     "data": {
      "text/plain": [
       "1x13 TrjArray{Float64,Int64}\n",
       "| A                          | A                          |  …   A                          | A                          |\n",
       "| 2ARG                       | 36ARG                      |  …   167ARG                     | 206ARG                     |\n",
       "| 1CA                        | 2CA                        |  …   12CA                       | 13CA                       |\n",
       "|    10.38    -6.71     6.85 |    -2.02    11.35    -0.08 |  …      -5.02     5.32   -12.12 |    -5.77   -13.47     6.38 |"
      ]
     },
     "execution_count": 122,
     "metadata": {},
     "output_type": "execute_result"
    }
   ],
   "source": [
    "# when giving strings, we can skip row index\n",
    "t[\"resname ARG\"]"
   ]
  },
  {
   "cell_type": "code",
   "execution_count": 123,
   "metadata": {},
   "outputs": [
    {
     "data": {
      "text/plain": [
       "1x5 TrjArray{Float64,Int64}\n",
       "| A                          | A                          |  …   A                          | A                          |\n",
       "| 1MET                       | 5LEU                       |  …   9PRO                       | 10GLY                      |\n",
       "| 1CA                        | 2CA                        |  …   4CA                        | 5CA                        |\n",
       "|     9.97    -9.03     9.82 |     3.15    -4.58     0.47 |  …      -5.58     1.27    -6.07 |    -8.75    -0.37    -5.26 |"
      ]
     },
     "execution_count": 123,
     "metadata": {},
     "output_type": "execute_result"
    }
   ],
   "source": [
    "# also, residue indices can be specified\n",
    "t[\"resid 1 5:6 9:10\"]"
   ]
  },
  {
   "cell_type": "code",
   "execution_count": 124,
   "metadata": {},
   "outputs": [
    {
     "name": "stdout",
     "output_type": "stream",
     "text": [
      "Warning: boxsize information discarded in some trajectories\n"
     ]
    },
    {
     "data": {
      "text/plain": [
       "20001x214 TrjArray{Float64,Int64}\n",
       "| A                          | A                          |  …   A                          | A                          |\n",
       "| 1MET                       | 2ARG                       |  …   213LEU                     | 214GLY                     |\n",
       "| 2CA                        | 10CA                       |  …   1650CA                     | 1658CA                     |\n",
       "|     9.97    -9.03     9.82 |    10.38    -6.71     6.85 |  …       4.71   -15.48     6.74 |     5.09   -17.11     9.36 |\n",
       "|     0.01    17.58     8.30 |     1.70    14.27     9.20 |         -8.40    13.66     9.10 |   -10.49    16.81     8.96 |\n",
       "|    -0.06    17.26     8.54 |     2.00    14.04     8.56 |         -8.59    13.96     8.62 |   -10.21    17.38     8.81 |\n",
       "|    -0.31    17.06     7.99 |     2.05    14.15     8.76 |         -8.46    13.68     8.40 |    -9.88    17.18     8.51 |\n",
       "|    -0.95    17.10     9.79 |     1.55    14.26     9.27 |         -8.52    13.69    11.42 |   -10.67    16.72    12.16 |\n",
       "|     0.17    17.04     8.59 |     2.41    13.95     8.49 |  …      -8.57    13.72     8.49 |   -10.59    16.89     8.00 |\n",
       "|    -0.45    16.92     7.98 |     2.15    14.17     8.52 |         -8.59    13.53     8.48 |   -10.43    16.83     8.60 |\n",
       "|    -0.17    17.49     8.17 |     2.04    14.49     8.98 |         -8.44    13.74     8.39 |   -10.41    16.97     8.61 |\n",
       "|    -0.43    17.14     8.01 |     1.99    14.20     8.20 |         -8.59    13.13     9.19 |   -10.42    16.41     8.74 |\n",
       "|    -0.51    16.90     8.33 |     2.15    14.16     8.45 |         -8.50    13.42     9.36 |   -10.32    16.74     9.22 |\n",
       "|    -0.35    17.09     8.27 |     2.02    14.10     8.26 |  …      -8.77    13.15     9.10 |   -10.30    16.62     9.03 |\n",
       "|             ⋮              |             ⋮              |  ⋱               ⋮              |             ⋮              |\n",
       "|     5.05    19.23    -5.01 |     5.72    16.97    -2.00 |  …      -3.34    17.21    -7.57 |    -4.00    19.70   -10.33 |\n",
       "|     5.48    20.07    -4.71 |     6.04    18.01    -1.54 |         -3.08    18.28    -6.33 |    -2.82    21.01    -8.95 |\n",
       "|     5.32    19.30    -5.48 |     5.78    17.74    -2.02 |         -3.30    17.52    -7.66 |    -4.19    20.58    -9.70 |\n",
       "|     4.22    19.91    -4.99 |     5.25    17.55    -2.16 |         -4.20    17.76    -6.27 |    -4.65    20.42    -8.92 |\n",
       "|     4.95    19.92    -5.91 |     5.76    17.95    -2.74 |         -3.29    18.10    -7.60 |    -3.55    21.32    -9.57 |\n",
       "|     5.51    19.83    -6.13 |     6.17    17.83    -2.95 |  …      -3.14    20.28    -6.96 |    -3.09    22.29   -10.16 |\n",
       "|     5.44    18.36    -6.74 |     6.03    16.77    -3.32 |         -3.27    19.64    -6.97 |    -2.93    21.45   -10.27 |\n",
       "|     5.74    20.09    -6.28 |     6.23    18.23    -2.98 |         -3.01    20.33    -6.18 |    -3.12    22.74    -9.10 |\n",
       "|     6.04    18.34    -6.62 |     6.46    16.60    -3.25 |         -3.30    19.20    -7.51 |    -0.94    17.60    -5.02 |\n",
       "|     5.21    19.82    -6.52 |     5.87    18.11    -3.17 |         -3.51    19.23    -7.09 |    -1.03    18.26    -4.41 |\n",
       "|     5.64    20.34    -5.55 |     5.91    18.01    -2.53 |  …      -3.65    20.90    -6.31 |    -0.95    20.03    -3.81 |"
      ]
     },
     "execution_count": 124,
     "metadata": {},
     "output_type": "execute_result"
    }
   ],
   "source": [
    "# adding trajectory data to t\n",
    "t = mdload(\"data/AdK.nc\", top=t)"
   ]
  },
  {
   "cell_type": "code",
   "execution_count": 125,
   "metadata": {},
   "outputs": [
    {
     "data": {
      "text/plain": [
       "1x214 TrjArray{Float64,Int64}\n",
       "| A                          | A                          |  …   A                          | A                          |\n",
       "| 1MET                       | 2ARG                       |  …   213LEU                     | 214GLY                     |\n",
       "| 2CA                        | 10CA                       |  …   1650CA                     | 1658CA                     |\n",
       "|    -0.06    17.26     8.54 |     2.00    14.04     8.56 |  …      -8.59    13.96     8.62 |   -10.21    17.38     8.81 |"
      ]
     },
     "execution_count": 125,
     "metadata": {},
     "output_type": "execute_result"
    }
   ],
   "source": [
    "# frames can be specified by row indices\n",
    "t[3, :]"
   ]
  },
  {
   "cell_type": "code",
   "execution_count": 126,
   "metadata": {},
   "outputs": [
    {
     "data": {
      "text/plain": [
       "3x3 TrjArray{Float64,Int64}\n",
       "| A                          | A                          | A                          |\n",
       "| 1MET                       | 2ARG                       | 3ILE                       |\n",
       "| 1CA                        | 2CA                        | 3CA                        |\n",
       "|     9.97    -9.03     9.82 |    10.38    -6.71     6.85 |     7.60    -6.67     4.34 |\n",
       "|     0.01    17.58     8.30 |     1.70    14.27     9.20 |     0.65    11.01     7.67 |\n",
       "|    -0.06    17.26     8.54 |     2.00    14.04     8.56 |     0.44    10.84     7.39 |"
      ]
     },
     "execution_count": 126,
     "metadata": {},
     "output_type": "execute_result"
    }
   ],
   "source": [
    "# combinatios of frames and atom selection is available\n",
    "t[1:3 , \"resid 1:3\"]"
   ]
  },
  {
   "cell_type": "code",
   "execution_count": 127,
   "metadata": {},
   "outputs": [
    {
     "name": "stdout",
     "output_type": "stream",
     "text": [
      " PyMOL(TM) Molecular Graphics System, Version 2.4.0.\n",
      " Copyright (c) Schrodinger, LLC.\n",
      " All Rights Reserved.\n",
      " \n",
      "    Created by Warren L. DeLano, Ph.D. \n",
      " \n",
      "    PyMOL is user-supported open-source software.  Although some versions\n",
      "    are freely available, PyMOL is not in the public domain.\n",
      " \n",
      "    If PyMOL is helpful in your work or study, then please volunteer \n",
      "    support for our ongoing efforts to create open and affordable scientific\n",
      "    software by purchasing a PyMOL Maintenance and/or Support subscription.\n",
      "\n",
      "    More information can be found at \"http://www.pymol.org\".\n",
      " \n",
      "    Enter \"help\" for a list of commands.\n",
      "    Enter \"help <command-name>\" for information on a specific command.\n",
      "\n",
      " Hit ESC anytime to toggle between text and graphics.\n",
      "\n",
      " Detected OpenGL version 2.1. Shaders available.\n",
      " Detected GLSL version 1.20.\n",
      " OpenGL graphics engine:\n",
      "  GL_VENDOR:   ATI Technologies Inc.\n",
      "  GL_RENDERER: AMD Radeon Pro Vega 64 OpenGL Engine\n",
      "  GL_VERSION:  2.1 ATI-3.10.18\n",
      " Detected 20 CPU cores.  Enabled multithreaded rendering.\n",
      "PyMOL>set ray_trace_fog, 0\n",
      " Setting: ray_trace_fog set to 0.00000.\n",
      "PyMOL>set ray_shadows, 0\n",
      " Setting: ray_shadow set to off.\n",
      "PyMOL>set antialias, 1\n",
      " Setting: antialias set to 1.\n",
      "PyMOL>set volume_mode, 1\n",
      " Setting: volume_mode set to 1.\n",
      " Setting-Warning: volume_mode is not supported in Open-Source version of PyMOL\n",
      "PyMOL>set antialias_shader, 2\n",
      " Setting: antialias_shader set to 2.\n",
      " Setting-Warning: antialias_shader is not supported in Open-Source version of PyMOL\n",
      "PyMOL>set line_smooth, on\n",
      " Setting: line_smooth set to on.\n",
      "PyMOL>set valence, 1\n",
      " Setting: valence set to on.\n",
      "PyMOL>set session_compression, 1\n",
      " Setting: session_compression set to on.\n",
      "PyMOL>set movie_panel, 1\n",
      " Setting: movie_panel set to 1.\n",
      "PyMOL>set scene_buttons, 1\n",
      " Setting: scene_buttons set to on.\n",
      "PyMOL>set ray_trace_frames, 0\n",
      " Setting: ray_trace_frames set to off.\n",
      "PyMOL>set show_frame_rate\n",
      " Setting: show_frame_rate set to on.\n",
      " ObjectMoleculeReadPDBStr: read MODEL 1\n",
      " ObjectMoleculeReadPDBStr: read MODEL 2\n",
      " ObjectMoleculeReadPDBStr: read MODEL 3\n",
      " ObjectMoleculeReadPDBStr: read MODEL 4\n",
      " ObjectMoleculeReadPDBStr: read MODEL 5\n",
      " ObjectMoleculeReadPDBStr: read MODEL 6\n",
      " ObjectMoleculeReadPDBStr: read MODEL 7\n",
      " ObjectMoleculeReadPDBStr: read MODEL 8\n",
      " ObjectMoleculeReadPDBStr: read MODEL 9\n",
      " ObjectMoleculeReadPDBStr: read MODEL 10\n",
      " ObjectMoleculeReadPDBStr: read MODEL 11\n",
      " CmdLoad: \"\" loaded as \"run_10-20\".\n",
      " ShaderPrg-Error: fragment shader compilation failed.; name='volume'\n",
      " ShaderPrg-Error-InfoLog:\n",
      "ERROR: 0:65: Use of undeclared identifier 'color'\n",
      "ERROR: 0:67: Use of undeclared identifier 'color'\n",
      "ERROR: 0:67: Use of undeclared identifier 'color'\n",
      "ERROR: 0:68: Use of undeclared identifier 'color'\n",
      "\n"
     ]
    },
    {
     "data": {
      "text/plain": [
       "Process(`\u001b[4mpymol\u001b[24m \u001b[4mrun_10-20.pdb\u001b[24m`, ProcessExited(0))"
      ]
     },
     "execution_count": 127,
     "metadata": {},
     "output_type": "execute_result"
    }
   ],
   "source": [
    "# if you want to visualize selected data, then\n",
    "mdsave(\"run_10-20.pdb\", t[10:20, :]);\n",
    "run(`pymol run_10-20.pdb`)"
   ]
  },
  {
   "cell_type": "code",
   "execution_count": 128,
   "metadata": {},
   "outputs": [
    {
     "data": {
      "text/plain": [
       "(:x, :y, :z, :boxsize, :chainname, :chainid, :resname, :resid, :atomname, :atomid, :mass, :radius, :charge, :sasa, :list_bond, :list_angle, :list_dihedral, :list_improper, :list_cmap, :natom, :nframe)"
      ]
     },
     "execution_count": 128,
     "metadata": {},
     "output_type": "execute_result"
    }
   ],
   "source": [
    "# TrjArray has many variables in it for describing properties of a molecule\n",
    "fieldnames(TrjArray)"
   ]
  },
  {
   "cell_type": "code",
   "execution_count": 129,
   "metadata": {},
   "outputs": [
    {
     "data": {
      "text/plain": [
       "214-element Array{String,1}:\n",
       " \"CA\"\n",
       " \"CA\"\n",
       " \"CA\"\n",
       " \"CA\"\n",
       " \"CA\"\n",
       " \"CA\"\n",
       " \"CA\"\n",
       " \"CA\"\n",
       " \"CA\"\n",
       " \"CA\"\n",
       " \"CA\"\n",
       " \"CA\"\n",
       " \"CA\"\n",
       " ⋮\n",
       " \"CA\"\n",
       " \"CA\"\n",
       " \"CA\"\n",
       " \"CA\"\n",
       " \"CA\"\n",
       " \"CA\"\n",
       " \"CA\"\n",
       " \"CA\"\n",
       " \"CA\"\n",
       " \"CA\"\n",
       " \"CA\"\n",
       " \"CA\""
      ]
     },
     "execution_count": 129,
     "metadata": {},
     "output_type": "execute_result"
    }
   ],
   "source": [
    "# Atom names as Strings\n",
    "t.atomname"
   ]
  },
  {
   "cell_type": "code",
   "execution_count": 130,
   "metadata": {},
   "outputs": [
    {
     "data": {
      "text/plain": [
       "214-element Array{Int64,1}:\n",
       "   1\n",
       "   2\n",
       "   3\n",
       "   4\n",
       "   5\n",
       "   6\n",
       "   7\n",
       "   8\n",
       "   9\n",
       "  10\n",
       "  11\n",
       "  12\n",
       "  13\n",
       "   ⋮\n",
       " 203\n",
       " 204\n",
       " 205\n",
       " 206\n",
       " 207\n",
       " 208\n",
       " 209\n",
       " 210\n",
       " 211\n",
       " 212\n",
       " 213\n",
       " 214"
      ]
     },
     "execution_count": 130,
     "metadata": {},
     "output_type": "execute_result"
    }
   ],
   "source": [
    "# Residue IDs as 1-D Array\n",
    "t.resid"
   ]
  },
  {
   "cell_type": "code",
   "execution_count": 131,
   "metadata": {},
   "outputs": [],
   "source": [
    "# For sebsequent tutorials, let's clear the memory or shut down the kernel\n",
    "t = nothing # free t"
   ]
  },
  {
   "cell_type": "code",
   "execution_count": null,
   "metadata": {},
   "outputs": [],
   "source": []
  }
 ],
 "metadata": {
  "kernelspec": {
   "display_name": "Julia 1.5.3",
   "language": "julia",
   "name": "julia-1.5"
  },
  "language_info": {
   "file_extension": ".jl",
   "mimetype": "application/julia",
   "name": "julia",
   "version": "1.5.3"
  }
 },
 "nbformat": 4,
 "nbformat_minor": 4
}
