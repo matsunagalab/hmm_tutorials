{
 "cells": [
  {
   "cell_type": "markdown",
   "metadata": {},
   "source": [
    "# 01 Markov State Model"
   ]
  },
  {
   "cell_type": "code",
   "execution_count": 9,
   "metadata": {},
   "outputs": [
    {
     "name": "stderr",
     "output_type": "stream",
     "text": [
      "┌ Info: Precompiling Plots [91a5bcdd-55d7-5caf-9e0b-520d859cae80]\n",
      "└ @ Base loading.jl:1278\n"
     ]
    }
   ],
   "source": [
    "using Revise\n",
    "using MDToolbox\n",
    "using Plots"
   ]
  },
  {
   "cell_type": "code",
   "execution_count": 10,
   "metadata": {},
   "outputs": [
    {
     "data": {
      "text/plain": [
       "10000-element Array{Int64,1}:\n",
       "  6\n",
       "  1\n",
       "  2\n",
       "  3\n",
       "  5\n",
       "  5\n",
       "  5\n",
       "  9\n",
       "  6\n",
       "  2\n",
       "  9\n",
       "  3\n",
       "  8\n",
       "  ⋮\n",
       " 10\n",
       "  9\n",
       "  9\n",
       "  7\n",
       "  3\n",
       "  5\n",
       " 10\n",
       "  5\n",
       "  1\n",
       "  7\n",
       "  4\n",
       "  3"
      ]
     },
     "execution_count": 10,
     "metadata": {},
     "output_type": "execute_result"
    }
   ],
   "source": [
    "data = rand(1:10, 10000)"
   ]
  },
  {
   "cell_type": "markdown",
   "metadata": {},
   "source": [
    "## Estimation of transition matrix from data"
   ]
  },
  {
   "cell_type": "markdown",
   "metadata": {},
   "source": [
    "Likelihood function\n",
    "\n",
    "\\begin{aligned}\n",
    "  L(data | T) = \\prod_i \\prod_j T_{ij}^{C_{ij}}\n",
    "\\end{aligned}\n",
    "\n",
    "Here, $C_{ij}$ is a counting matrix whose elements represents the number of transitions between states obesrved in the given data"
   ]
  },
  {
   "cell_type": "code",
   "execution_count": 11,
   "metadata": {},
   "outputs": [
    {
     "data": {
      "text/plain": [
       "10×10 Array{Int64,2}:\n",
       " 106  100   90  103  124  108   85  105  103   88\n",
       "  97   92  109   93   97   81  110   90  119   88\n",
       "  98  106   97   89  123  108  107   92  125   80\n",
       " 109   89   86   87  103  102   96   96  103   83\n",
       "  93   99  128  115  118  100  117  111  107  105\n",
       " 114   81  101   91  114  121   68   98   99   97\n",
       " 107   95  108   88  104   99  109   95   87   82\n",
       "  88  104  100   92   99   90   92   90  109  108\n",
       " 124  108  115   83  121   85  102   98  121  108\n",
       "  76  102   92  113   90   89   88   97   92  105"
      ]
     },
     "execution_count": 11,
     "metadata": {},
     "output_type": "execute_result"
    }
   ],
   "source": [
    "# compute the counting matrix\n",
    "\n",
    "C = msmcountmatrix(data)"
   ]
  },
  {
   "cell_type": "code",
   "execution_count": 12,
   "metadata": {},
   "outputs": [
    {
     "ename": "LoadError",
     "evalue": "InexactError: Int64(188.04584247744452)",
     "output_type": "error",
     "traceback": [
      "InexactError: Int64(188.04584247744452)",
      "",
      "Stacktrace:",
      " [1] Int64 at ./float.jl:710 [inlined]",
      " [2] convert at ./number.jl:7 [inlined]",
      " [3] setindex! at ./array.jl:849 [inlined]",
      " [4] msmtransitionmatrix(::Array{Int64,2}; TOLERANCE::Float64) at /Users/yasu/gdrive/MDToolbox.jl/src/msm.jl:133",
      " [5] msmtransitionmatrix(::Array{Int64,2}) at /Users/yasu/gdrive/MDToolbox.jl/src/msm.jl:108",
      " [6] top-level scope at In[12]:3",
      " [7] include_string(::Function, ::Module, ::String, ::String) at ./loading.jl:1091"
     ]
    }
   ],
   "source": [
    "# esimate the transition matrix from the counting matrix\n",
    "\n",
    "T = msmtransitionmatrix(C)"
   ]
  },
  {
   "cell_type": "code",
   "execution_count": 13,
   "metadata": {},
   "outputs": [
    {
     "ename": "LoadError",
     "evalue": "UndefVarError: imagesc not defined",
     "output_type": "error",
     "traceback": [
      "UndefVarError: imagesc not defined",
      "",
      "Stacktrace:",
      " [1] top-level scope at In[13]:1",
      " [2] include_string(::Function, ::Module, ::String, ::String) at ./loading.jl:1091"
     ]
    }
   ],
   "source": [
    "imagesc(T)"
   ]
  }
 ],
 "metadata": {
  "kernelspec": {
   "display_name": "Julia 1.5.3",
   "language": "julia",
   "name": "julia-1.5"
  },
  "language_info": {
   "file_extension": ".jl",
   "mimetype": "application/julia",
   "name": "julia",
   "version": "1.5.3"
  }
 },
 "nbformat": 4,
 "nbformat_minor": 4
}
