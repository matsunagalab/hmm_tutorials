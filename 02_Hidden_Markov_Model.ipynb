{
 "cells": [
  {
   "cell_type": "markdown",
   "metadata": {},
   "source": [
    "# 02 Hidden Markov Model"
   ]
  },
  {
   "cell_type": "code",
   "execution_count": 4,
   "metadata": {},
   "outputs": [],
   "source": [
    "using DelimitedFiles\n",
    "using MDToolbox\n",
    "using Plots"
   ]
  },
  {
   "cell_type": "markdown",
   "metadata": {},
   "source": [
    "## Viterbi algorithm"
   ]
  },
  {
   "cell_type": "markdown",
   "metadata": {},
   "source": [
    "tests here\n",
    "\n",
    "\\begin{aligned}\n",
    "L\\left(m_{1}, \\phi_{1}, d x_{1}, d y_{1}, \\ldots, m_{T}, \\phi_{T}, d x_{T}, d y_{T}\\right)=\\sum_{s_{1}=1}^{M} \\ldots \\sum_{s_{T}=1}^{M} p\\left(s_{1}\\right) L\\left(I \\mid m_{1}, \\phi_{1}, d x_{1}, d y_{1}\\right) \\prod_{t=2}^{T} T_{S_{t-1} s_{t}} L\\left(I \\mid m_{t}, \\phi_{t}, d x_{t}, d y_{t}\\right)\n",
    "\\end{aligned}"
   ]
  },
  {
   "cell_type": "code",
   "execution_count": 5,
   "metadata": {},
   "outputs": [
    {
     "data": {
      "text/plain": [
       "3×3 Array{Float64,2}:\n",
       " 0.1  0.7  0.2\n",
       " 0.2  0.1  0.7\n",
       " 0.7  0.2  0.1"
      ]
     },
     "execution_count": 5,
     "metadata": {},
     "output_type": "execute_result"
    }
   ],
   "source": [
    "data = readdlm(\"data/data.dat\", ',', Int32)\n",
    "T = readdlm(\"data/T.dat\", ',', Float64)"
   ]
  },
  {
   "cell_type": "markdown",
   "metadata": {},
   "source": [
    "## Baum-Welch algorithm (Forward-Backward algorithm)"
   ]
  },
  {
   "cell_type": "markdown",
   "metadata": {},
   "source": [
    "tests here\n",
    "\n",
    "\\begin{aligned}\n",
    "L\\left(m_{1}, \\phi_{1}, d x_{1}, d y_{1}, \\ldots, m_{T}, \\phi_{T}, d x_{T}, d y_{T}\\right)=\\sum_{s_{1}=1}^{M} \\ldots \\sum_{s_{T}=1}^{M} p\\left(s_{1}\\right) L\\left(I \\mid m_{1}, \\phi_{1}, d x_{1}, d y_{1}\\right) \\prod_{t=2}^{T} T_{S_{t-1} s_{t}} L\\left(I \\mid m_{t}, \\phi_{t}, d x_{t}, d y_{t}\\right)\n",
    "\\end{aligned}"
   ]
  },
  {
   "cell_type": "code",
   "execution_count": 6,
   "metadata": {},
   "outputs": [
    {
     "data": {
      "text/plain": [
       "3×3 Array{Float64,2}:\n",
       " 0.1  0.7  0.2\n",
       " 0.2  0.1  0.7\n",
       " 0.7  0.2  0.1"
      ]
     },
     "execution_count": 6,
     "metadata": {},
     "output_type": "execute_result"
    }
   ],
   "source": [
    "data = readdlm(\"data/data.dat\", ',', Int32)\n",
    "T = readdlm(\"data/T.dat\", ',', Float64)"
   ]
  },
  {
   "cell_type": "code",
   "execution_count": 8,
   "metadata": {},
   "outputs": [
    {
     "data": {
      "text/plain": [
       "3×2 Array{Float64,2}:\n",
       " 0.9  0.1\n",
       " 0.6  0.4\n",
       " 0.1  0.9"
      ]
     },
     "execution_count": 8,
     "metadata": {},
     "output_type": "execute_result"
    }
   ],
   "source": [
    "emission = readdlm(\"data/emission.dat\", ',', Float64)"
   ]
  },
  {
   "cell_type": "code",
   "execution_count": 9,
   "metadata": {},
   "outputs": [
    {
     "data": {
      "text/plain": [
       "3-element Array{Float64,1}:\n",
       " 0.6\n",
       " 0.3\n",
       " 0.1"
      ]
     },
     "execution_count": 9,
     "metadata": {},
     "output_type": "execute_result"
    }
   ],
   "source": [
    "pi_i = readdlm(\"data/pi_i.dat\", ',', Float64)\n",
    "pi_i = pi_i[:]"
   ]
  },
  {
   "cell_type": "code",
   "execution_count": 11,
   "metadata": {},
   "outputs": [
    {
     "data": {
      "text/plain": [
       "3×3 Array{Float64,2}:\n",
       " 0.1  0.1  0.8\n",
       " 0.8  0.1  0.1\n",
       " 0.3  0.2  0.5"
      ]
     },
     "execution_count": 11,
     "metadata": {},
     "output_type": "execute_result"
    }
   ],
   "source": [
    "T0 = readdlm(\"data/T0.dat\", ',', Float64)"
   ]
  },
  {
   "cell_type": "code",
   "execution_count": 12,
   "metadata": {},
   "outputs": [
    {
     "data": {
      "text/plain": [
       "1-element Array{Array{Int32,2},1}:\n",
       " [1; 1; … ; 2; 1]"
      ]
     },
     "execution_count": 12,
     "metadata": {},
     "output_type": "execute_result"
    }
   ],
   "source": [
    "data_list = [data]"
   ]
  },
  {
   "cell_type": "code",
   "execution_count": 16,
   "metadata": {},
   "outputs": [
    {
     "ename": "LoadError",
     "evalue": "DimensionMismatch(\"tried to assign 3×2 array to 1×3 destination\")",
     "output_type": "error",
     "traceback": [
      "DimensionMismatch(\"tried to assign 3×2 array to 1×3 destination\")",
      "",
      "Stacktrace:",
      " [1] throw_setindex_mismatch(::Array{Float64,2}, ::Tuple{Int64,Int64}) at ./indices.jl:193",
      " [2] setindex_shape_check at ./indices.jl:250 [inlined]",
      " [3] macro expansion at ./multidimensional.jl:795 [inlined]",
      " [4] _unsafe_setindex!(::IndexLinear, ::Array{Float64,2}, ::Array{Float64,2}, ::Int64, ::Base.Slice{Base.OneTo{Int64}}) at ./multidimensional.jl:789",
      " [5] _setindex! at ./multidimensional.jl:785 [inlined]",
      " [6] setindex! at ./abstractarray.jl:1153 [inlined]",
      " [7] msmforward(::Array{Int32,2}, ::Array{Float64,2}, ::Array{Float64,2}, ::Array{Float64,1}) at /Users/yasu/gdrive/MDToolbox.jl/src/msm.jl:166",
      " [8] msmbaumwelch(::Array{Int32,2}, ::Array{Float64,2}, ::Array{Float64,2}, ::Array{Float64,1}) at /Users/yasu/gdrive/MDToolbox.jl/src/msm.jl:217",
      " [9] top-level scope at In[16]:1",
      " [10] include_string(::Function, ::Module, ::String, ::String) at ./loading.jl:1091"
     ]
    }
   ],
   "source": [
    "T1, emission1, pi1 = msmbaumwelch(data_list[1], T0, emission, pi_i)"
   ]
  },
  {
   "cell_type": "code",
   "execution_count": null,
   "metadata": {},
   "outputs": [],
   "source": []
  }
 ],
 "metadata": {
  "kernelspec": {
   "display_name": "Julia 1.5.3",
   "language": "julia",
   "name": "julia-1.5"
  },
  "language_info": {
   "file_extension": ".jl",
   "mimetype": "application/julia",
   "name": "julia",
   "version": "1.5.3"
  }
 },
 "nbformat": 4,
 "nbformat_minor": 4
}
